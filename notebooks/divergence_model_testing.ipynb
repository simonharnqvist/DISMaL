{
 "cells": [
  {
   "cell_type": "code",
   "execution_count": 1,
   "metadata": {},
   "outputs": [
    {
     "name": "stdout",
     "output_type": "stream",
     "text": [
      "Obtaining file:///Users/s2341012/Library/CloudStorage/Dropbox/DISMaL_chapter/DISMaL\n",
      "  Preparing metadata (setup.py) ... \u001b[?25ldone\n",
      "\u001b[?25hInstalling collected packages: dismal\n",
      "  Attempting uninstall: dismal\n",
      "    Found existing installation: dismal 0.1\n",
      "    Uninstalling dismal-0.1:\n",
      "      Successfully uninstalled dismal-0.1\n",
      "  Running setup.py develop for dismal\n",
      "Successfully installed dismal-0.1\n"
     ]
    }
   ],
   "source": [
    "! pip install -e ..\n",
    "from dismal import demography, infer\n",
    "import numpy as np"
   ]
  },
  {
   "cell_type": "code",
   "execution_count": 2,
   "metadata": {},
   "outputs": [],
   "source": [
    "mod = infer.DivergenceModel(epochs=2,\n",
    "                      allow_migration=True,\n",
    "                      symmetric_migration=False,\n",
    "                      migration_direction=None)"
   ]
  },
  {
   "cell_type": "code",
   "execution_count": 3,
   "metadata": {},
   "outputs": [
    {
     "data": {
      "text/plain": [
       "\n",
       "        DISMaL DivergenceModel object with 5 demes and 2 epochs.\n",
       "        BLAH BLAH more stuff here\n",
       "        "
      ]
     },
     "execution_count": 3,
     "metadata": {},
     "output_type": "execute_result"
    }
   ],
   "source": [
    "mod"
   ]
  },
  {
   "cell_type": "code",
   "execution_count": 4,
   "metadata": {},
   "outputs": [
    {
     "data": {
      "text/plain": [
       "array([[100,  50,  25,  12,   6,   3,   1,   0],\n",
       "       [100,  50,  25,  12,   6,   3,   1,   0],\n",
       "       [  0,   1,   3,   6,  12,  25,  50,  10]])"
      ]
     },
     "execution_count": 4,
     "metadata": {},
     "output_type": "execute_result"
    }
   ],
   "source": [
    "S = np.array([[100, 50, 25, 12, 6, 3, 1, 0], [100, 50, 25, 12, 6, 3, 1, 0], [0, 1, 3, 6, 12, 25, 50, 10]])\n",
    "\n",
    "S"
   ]
  },
  {
   "cell_type": "code",
   "execution_count": 5,
   "metadata": {},
   "outputs": [
    {
     "name": "stdout",
     "output_type": "stream",
     "text": [
      "[<dismal.demography.Epoch object at 0x175affbd0>, <dismal.demography.Epoch object at 0x178a6c490>]\n"
     ]
    },
    {
     "ename": "ValueError",
     "evalue": "matmul: Input operand 1 has a mismatch in its core dimension 0, with gufunc signature (n?,k),(k,m?)->(n?,m?) (size 4 is different from 3)",
     "output_type": "error",
     "traceback": [
      "\u001b[0;31m---------------------------------------------------------------------------\u001b[0m",
      "\u001b[0;31mValueError\u001b[0m                                Traceback (most recent call last)",
      "Cell \u001b[0;32mIn[5], line 1\u001b[0m\n\u001b[0;32m----> 1\u001b[0m mod\u001b[39m.\u001b[39mfit(S, blocklen\u001b[39m=\u001b[39m\u001b[39m1000\u001b[39m, verbose\u001b[39m=\u001b[39m\u001b[39mFalse\u001b[39;00m)[\u001b[39m0\u001b[39m]\n",
      "File \u001b[0;32m~/Library/CloudStorage/Dropbox/DISMaL_chapter/DISMaL/dismal/infer.py:147\u001b[0m, in \u001b[0;36mDivergenceModel.fit\u001b[0;34m(self, S, blocklen, initial_values, lower_bounds, verbose)\u001b[0m\n\u001b[1;32m    144\u001b[0m initial_vals \u001b[39m=\u001b[39m \u001b[39mself\u001b[39m\u001b[39m.\u001b[39mget_initial_values(S, initial_values, blocklen)\n\u001b[1;32m    145\u001b[0m bounds \u001b[39m=\u001b[39m \u001b[39mself\u001b[39m\u001b[39m.\u001b[39mget_bounds(S, lower_bounds)\n\u001b[0;32m--> 147\u001b[0m \u001b[39mreturn\u001b[39;00m \u001b[39mself\u001b[39m\u001b[39m.\u001b[39mminimise_neg_log_likelihood(S, initial_vals, bounds, verbose\u001b[39m=\u001b[39mverbose)\n",
      "File \u001b[0;32m~/Library/CloudStorage/Dropbox/DISMaL_chapter/DISMaL/dismal/infer.py:177\u001b[0m, in \u001b[0;36mDivergenceModel.minimise_neg_log_likelihood\u001b[0;34m(self, S, initial_values, bounds, verbose)\u001b[0m\n\u001b[1;32m    175\u001b[0m opt_algos \u001b[39m=\u001b[39m [\u001b[39m\"\u001b[39m\u001b[39mL-BFGS-B\u001b[39m\u001b[39m\"\u001b[39m, \u001b[39m\"\u001b[39m\u001b[39mNelder-Mead\u001b[39m\u001b[39m\"\u001b[39m, \u001b[39m\"\u001b[39m\u001b[39mPowell\u001b[39m\u001b[39m\"\u001b[39m]\n\u001b[1;32m    176\u001b[0m \u001b[39mfor\u001b[39;00m algo_idx, algo \u001b[39min\u001b[39;00m \u001b[39menumerate\u001b[39m(opt_algos):\n\u001b[0;32m--> 177\u001b[0m     optimised \u001b[39m=\u001b[39m scipy\u001b[39m.\u001b[39moptimize\u001b[39m.\u001b[39mminimize(\u001b[39mself\u001b[39m\u001b[39m.\u001b[39mcomposite_likelihood,\n\u001b[1;32m    178\u001b[0m                                         x0\u001b[39m=\u001b[39minitial_values,\n\u001b[1;32m    179\u001b[0m                                         method\u001b[39m=\u001b[39malgo,\n\u001b[1;32m    180\u001b[0m                                         args\u001b[39m=\u001b[39m(S, \u001b[39mself\u001b[39m\u001b[39m.\u001b[39mepochs, verbose),\n\u001b[1;32m    181\u001b[0m                                         \u001b[39m# options={\u001b[39;00m\n\u001b[1;32m    182\u001b[0m                                         \u001b[39m#     \"ftol\": ftol,\u001b[39;00m\n\u001b[1;32m    183\u001b[0m                                         \u001b[39m#     \"eps\": eps,\u001b[39;00m\n\u001b[1;32m    184\u001b[0m                                         \u001b[39m#     \"maxfun\": maxfun,\u001b[39;00m\n\u001b[1;32m    185\u001b[0m                                         \u001b[39m#     \"maxIs\": max_iter\u001b[39;00m\n\u001b[1;32m    186\u001b[0m                                         \u001b[39m# },\u001b[39;00m\n\u001b[1;32m    187\u001b[0m                                         bounds\u001b[39m=\u001b[39mbounds)\n\u001b[1;32m    189\u001b[0m     \u001b[39mif\u001b[39;00m optimised\u001b[39m.\u001b[39msuccess:\n\u001b[1;32m    190\u001b[0m         \u001b[39mbreak\u001b[39;00m\n",
      "File \u001b[0;32m~/mambaforge/envs/dismal/lib/python3.11/site-packages/scipy/optimize/_minimize.py:696\u001b[0m, in \u001b[0;36mminimize\u001b[0;34m(fun, x0, args, method, jac, hess, hessp, bounds, constraints, tol, callback, options)\u001b[0m\n\u001b[1;32m    693\u001b[0m     res \u001b[39m=\u001b[39m _minimize_newtoncg(fun, x0, args, jac, hess, hessp, callback,\n\u001b[1;32m    694\u001b[0m                              \u001b[39m*\u001b[39m\u001b[39m*\u001b[39moptions)\n\u001b[1;32m    695\u001b[0m \u001b[39melif\u001b[39;00m meth \u001b[39m==\u001b[39m \u001b[39m'\u001b[39m\u001b[39ml-bfgs-b\u001b[39m\u001b[39m'\u001b[39m:\n\u001b[0;32m--> 696\u001b[0m     res \u001b[39m=\u001b[39m _minimize_lbfgsb(fun, x0, args, jac, bounds,\n\u001b[1;32m    697\u001b[0m                            callback\u001b[39m=\u001b[39mcallback, \u001b[39m*\u001b[39m\u001b[39m*\u001b[39moptions)\n\u001b[1;32m    698\u001b[0m \u001b[39melif\u001b[39;00m meth \u001b[39m==\u001b[39m \u001b[39m'\u001b[39m\u001b[39mtnc\u001b[39m\u001b[39m'\u001b[39m:\n\u001b[1;32m    699\u001b[0m     res \u001b[39m=\u001b[39m _minimize_tnc(fun, x0, args, jac, bounds, callback\u001b[39m=\u001b[39mcallback,\n\u001b[1;32m    700\u001b[0m                         \u001b[39m*\u001b[39m\u001b[39m*\u001b[39moptions)\n",
      "File \u001b[0;32m~/mambaforge/envs/dismal/lib/python3.11/site-packages/scipy/optimize/_lbfgsb_py.py:305\u001b[0m, in \u001b[0;36m_minimize_lbfgsb\u001b[0;34m(fun, x0, args, jac, bounds, disp, maxcor, ftol, gtol, eps, maxfun, maxiter, iprint, callback, maxls, finite_diff_rel_step, **unknown_options)\u001b[0m\n\u001b[1;32m    302\u001b[0m     \u001b[39melse\u001b[39;00m:\n\u001b[1;32m    303\u001b[0m         iprint \u001b[39m=\u001b[39m disp\n\u001b[0;32m--> 305\u001b[0m sf \u001b[39m=\u001b[39m _prepare_scalar_function(fun, x0, jac\u001b[39m=\u001b[39mjac, args\u001b[39m=\u001b[39margs, epsilon\u001b[39m=\u001b[39meps,\n\u001b[1;32m    306\u001b[0m                               bounds\u001b[39m=\u001b[39mnew_bounds,\n\u001b[1;32m    307\u001b[0m                               finite_diff_rel_step\u001b[39m=\u001b[39mfinite_diff_rel_step)\n\u001b[1;32m    309\u001b[0m func_and_grad \u001b[39m=\u001b[39m sf\u001b[39m.\u001b[39mfun_and_grad\n\u001b[1;32m    311\u001b[0m fortran_int \u001b[39m=\u001b[39m _lbfgsb\u001b[39m.\u001b[39mtypes\u001b[39m.\u001b[39mintvar\u001b[39m.\u001b[39mdtype\n",
      "File \u001b[0;32m~/mambaforge/envs/dismal/lib/python3.11/site-packages/scipy/optimize/_optimize.py:332\u001b[0m, in \u001b[0;36m_prepare_scalar_function\u001b[0;34m(fun, x0, jac, args, bounds, epsilon, finite_diff_rel_step, hess)\u001b[0m\n\u001b[1;32m    328\u001b[0m     bounds \u001b[39m=\u001b[39m (\u001b[39m-\u001b[39mnp\u001b[39m.\u001b[39minf, np\u001b[39m.\u001b[39minf)\n\u001b[1;32m    330\u001b[0m \u001b[39m# ScalarFunction caches. Reuse of fun(x) during grad\u001b[39;00m\n\u001b[1;32m    331\u001b[0m \u001b[39m# calculation reduces overall function evaluations.\u001b[39;00m\n\u001b[0;32m--> 332\u001b[0m sf \u001b[39m=\u001b[39m ScalarFunction(fun, x0, args, grad, hess,\n\u001b[1;32m    333\u001b[0m                     finite_diff_rel_step, bounds, epsilon\u001b[39m=\u001b[39mepsilon)\n\u001b[1;32m    335\u001b[0m \u001b[39mreturn\u001b[39;00m sf\n",
      "File \u001b[0;32m~/mambaforge/envs/dismal/lib/python3.11/site-packages/scipy/optimize/_differentiable_functions.py:158\u001b[0m, in \u001b[0;36mScalarFunction.__init__\u001b[0;34m(self, fun, x0, args, grad, hess, finite_diff_rel_step, finite_diff_bounds, epsilon)\u001b[0m\n\u001b[1;32m    155\u001b[0m     \u001b[39mself\u001b[39m\u001b[39m.\u001b[39mf \u001b[39m=\u001b[39m fun_wrapped(\u001b[39mself\u001b[39m\u001b[39m.\u001b[39mx)\n\u001b[1;32m    157\u001b[0m \u001b[39mself\u001b[39m\u001b[39m.\u001b[39m_update_fun_impl \u001b[39m=\u001b[39m update_fun\n\u001b[0;32m--> 158\u001b[0m \u001b[39mself\u001b[39m\u001b[39m.\u001b[39m_update_fun()\n\u001b[1;32m    160\u001b[0m \u001b[39m# Gradient evaluation\u001b[39;00m\n\u001b[1;32m    161\u001b[0m \u001b[39mif\u001b[39;00m \u001b[39mcallable\u001b[39m(grad):\n",
      "File \u001b[0;32m~/mambaforge/envs/dismal/lib/python3.11/site-packages/scipy/optimize/_differentiable_functions.py:251\u001b[0m, in \u001b[0;36mScalarFunction._update_fun\u001b[0;34m(self)\u001b[0m\n\u001b[1;32m    249\u001b[0m \u001b[39mdef\u001b[39;00m \u001b[39m_update_fun\u001b[39m(\u001b[39mself\u001b[39m):\n\u001b[1;32m    250\u001b[0m     \u001b[39mif\u001b[39;00m \u001b[39mnot\u001b[39;00m \u001b[39mself\u001b[39m\u001b[39m.\u001b[39mf_updated:\n\u001b[0;32m--> 251\u001b[0m         \u001b[39mself\u001b[39m\u001b[39m.\u001b[39m_update_fun_impl()\n\u001b[1;32m    252\u001b[0m         \u001b[39mself\u001b[39m\u001b[39m.\u001b[39mf_updated \u001b[39m=\u001b[39m \u001b[39mTrue\u001b[39;00m\n",
      "File \u001b[0;32m~/mambaforge/envs/dismal/lib/python3.11/site-packages/scipy/optimize/_differentiable_functions.py:155\u001b[0m, in \u001b[0;36mScalarFunction.__init__.<locals>.update_fun\u001b[0;34m()\u001b[0m\n\u001b[1;32m    154\u001b[0m \u001b[39mdef\u001b[39;00m \u001b[39mupdate_fun\u001b[39m():\n\u001b[0;32m--> 155\u001b[0m     \u001b[39mself\u001b[39m\u001b[39m.\u001b[39mf \u001b[39m=\u001b[39m fun_wrapped(\u001b[39mself\u001b[39m\u001b[39m.\u001b[39mx)\n",
      "File \u001b[0;32m~/mambaforge/envs/dismal/lib/python3.11/site-packages/scipy/optimize/_differentiable_functions.py:137\u001b[0m, in \u001b[0;36mScalarFunction.__init__.<locals>.fun_wrapped\u001b[0;34m(x)\u001b[0m\n\u001b[1;32m    133\u001b[0m \u001b[39mself\u001b[39m\u001b[39m.\u001b[39mnfev \u001b[39m+\u001b[39m\u001b[39m=\u001b[39m \u001b[39m1\u001b[39m\n\u001b[1;32m    134\u001b[0m \u001b[39m# Send a copy because the user may overwrite it.\u001b[39;00m\n\u001b[1;32m    135\u001b[0m \u001b[39m# Overwriting results in undefined behaviour because\u001b[39;00m\n\u001b[1;32m    136\u001b[0m \u001b[39m# fun(self.x) will change self.x, with the two no longer linked.\u001b[39;00m\n\u001b[0;32m--> 137\u001b[0m fx \u001b[39m=\u001b[39m fun(np\u001b[39m.\u001b[39mcopy(x), \u001b[39m*\u001b[39margs)\n\u001b[1;32m    138\u001b[0m \u001b[39m# Make sure the function returns a true scalar\u001b[39;00m\n\u001b[1;32m    139\u001b[0m \u001b[39mif\u001b[39;00m \u001b[39mnot\u001b[39;00m np\u001b[39m.\u001b[39misscalar(fx):\n",
      "File \u001b[0;32m~/Library/CloudStorage/Dropbox/DISMaL_chapter/DISMaL/dismal/infer.py:156\u001b[0m, in \u001b[0;36mDivergenceModel.composite_likelihood\u001b[0;34m(params, S, epochs, verbose)\u001b[0m\n\u001b[1;32m    153\u001b[0m \u001b[39m@staticmethod\u001b[39m\n\u001b[1;32m    154\u001b[0m \u001b[39mdef\u001b[39;00m \u001b[39mcomposite_likelihood\u001b[39m(params, S, epochs, verbose\u001b[39m=\u001b[39m\u001b[39mFalse\u001b[39;00m):\n\u001b[1;32m    155\u001b[0m \u001b[39m    \u001b[39m\u001b[39m\"\"\"UNTESTED\"\"\"\u001b[39;00m\n\u001b[0;32m--> 156\u001b[0m     likelihood_matrix \u001b[39m=\u001b[39m LikelihoodMatrix(params, S, epochs)\n\u001b[1;32m    157\u001b[0m     negll \u001b[39m=\u001b[39m np\u001b[39m.\u001b[39msum(S \u001b[39m*\u001b[39m likelihood_matrix\u001b[39m.\u001b[39mmatrix)\n\u001b[1;32m    159\u001b[0m     \u001b[39mif\u001b[39;00m verbose:\n",
      "File \u001b[0;32m~/Library/CloudStorage/Dropbox/DISMaL_chapter/DISMaL/dismal/likelihood_matrix.py:45\u001b[0m, in \u001b[0;36mLikelihoodMatrix.__init__\u001b[0;34m(self, params, S, epoch_objects)\u001b[0m\n\u001b[1;32m     42\u001b[0m     \u001b[39mself\u001b[39m\u001b[39m.\u001b[39mPs\u001b[39m.\u001b[39mappend(StochasticMatrix(Q\u001b[39m.\u001b[39meigenvectors, Q\u001b[39m.\u001b[39meigenvectors_inv, Q\u001b[39m.\u001b[39meigenvalues, \u001b[39mself\u001b[39m\u001b[39m.\u001b[39mtaus[idx]))\n\u001b[1;32m     44\u001b[0m \u001b[39mif\u001b[39;00m \u001b[39mself\u001b[39m\u001b[39m.\u001b[39mepochs_post_div \u001b[39m==\u001b[39m \u001b[39m1\u001b[39m:\n\u001b[0;32m---> 45\u001b[0m     \u001b[39mself\u001b[39m\u001b[39m.\u001b[39mmatrix \u001b[39m=\u001b[39m \u001b[39mself\u001b[39m\u001b[39m.\u001b[39mtwo_stage_ll_matrix()\n\u001b[1;32m     46\u001b[0m \u001b[39melif\u001b[39;00m \u001b[39mself\u001b[39m\u001b[39m.\u001b[39mepochs_post_div \u001b[39m==\u001b[39m \u001b[39m2\u001b[39m:\n\u001b[1;32m     47\u001b[0m     \u001b[39mself\u001b[39m\u001b[39m.\u001b[39mmatrix \u001b[39m=\u001b[39m \u001b[39mself\u001b[39m\u001b[39m.\u001b[39mthree_stage_ll_matrix()\n",
      "File \u001b[0;32m~/Library/CloudStorage/Dropbox/DISMaL_chapter/DISMaL/dismal/likelihood_matrix.py:95\u001b[0m, in \u001b[0;36mLikelihoodMatrix.two_stage_ll_matrix\u001b[0;34m(self)\u001b[0m\n\u001b[1;32m     94\u001b[0m \u001b[39mdef\u001b[39;00m \u001b[39mtwo_stage_ll_matrix\u001b[39m(\u001b[39mself\u001b[39m):\n\u001b[0;32m---> 95\u001b[0m     \u001b[39mreturn\u001b[39;00m \u001b[39m-\u001b[39mnp\u001b[39m.\u001b[39mlog(np\u001b[39m.\u001b[39marray([np\u001b[39m.\u001b[39midentity(\u001b[39m4\u001b[39m)[i, \u001b[39m0\u001b[39m:\u001b[39m3\u001b[39m]\n\u001b[1;32m     96\u001b[0m                              \u001b[39m@\u001b[39m \u001b[39mself\u001b[39m\u001b[39m.\u001b[39mdiagonal_matrix_mult(\u001b[39mself\u001b[39m\u001b[39m.\u001b[39mQs[\u001b[39m0\u001b[39m]\u001b[39m.\u001b[39meigenvectors, \u001b[39mself\u001b[39m\u001b[39m.\u001b[39mQs[\u001b[39m0\u001b[39m]\u001b[39m.\u001b[39meigenvectors_inv)[\u001b[39m0\u001b[39m:\u001b[39m3\u001b[39m, \u001b[39m0\u001b[39m:\u001b[39m3\u001b[39m]\n\u001b[1;32m     97\u001b[0m                              \u001b[39m@\u001b[39m \u001b[39mself\u001b[39m\u001b[39m.\u001b[39meigenvalue_matrix(eigenvals\u001b[39m=\u001b[39m\u001b[39mself\u001b[39m\u001b[39m.\u001b[39mQs[\u001b[39m0\u001b[39m]\u001b[39m.\u001b[39meigenvalues,\n\u001b[1;32m     98\u001b[0m                                                       start_time\u001b[39m=\u001b[39m\u001b[39m0\u001b[39m, end_time\u001b[39m=\u001b[39m\u001b[39mself\u001b[39m\u001b[39m.\u001b[39mtaus[\u001b[39m0\u001b[39m])\n\u001b[1;32m     99\u001b[0m                              \u001b[39m+\u001b[39m (\u001b[39m1\u001b[39m \u001b[39m-\u001b[39m (np\u001b[39m.\u001b[39midentity(\u001b[39m4\u001b[39m)\u001b[39m@self\u001b[39m\u001b[39m.\u001b[39mPs[\u001b[39m0\u001b[39m])[i, \u001b[39m3\u001b[39m])\n\u001b[1;32m    100\u001b[0m                              \u001b[39m*\u001b[39m \u001b[39mself\u001b[39m\u001b[39m.\u001b[39meigenvalue_matrix(eigenvals\u001b[39m=\u001b[39m[\u001b[39m1\u001b[39m\u001b[39m/\u001b[39m\u001b[39mself\u001b[39m\u001b[39m.\u001b[39mthetas[\u001b[39m0\u001b[39m]]\u001b[39m*\u001b[39m\u001b[39m3\u001b[39m,\n\u001b[1;32m    101\u001b[0m                                                        start_time\u001b[39m=\u001b[39m\u001b[39mself\u001b[39m\u001b[39m.\u001b[39mtaus[\u001b[39m0\u001b[39m], end_time\u001b[39m=\u001b[39m\u001b[39mNone\u001b[39;00m)\n\u001b[1;32m    102\u001b[0m                                                          \u001b[39mfor\u001b[39;00m i \u001b[39min\u001b[39;00m [\u001b[39m0\u001b[39m, \u001b[39m1\u001b[39m, \u001b[39m2\u001b[39m]]))\n",
      "File \u001b[0;32m~/Library/CloudStorage/Dropbox/DISMaL_chapter/DISMaL/dismal/likelihood_matrix.py:95\u001b[0m, in \u001b[0;36m<listcomp>\u001b[0;34m(.0)\u001b[0m\n\u001b[1;32m     94\u001b[0m \u001b[39mdef\u001b[39;00m \u001b[39mtwo_stage_ll_matrix\u001b[39m(\u001b[39mself\u001b[39m):\n\u001b[0;32m---> 95\u001b[0m     \u001b[39mreturn\u001b[39;00m \u001b[39m-\u001b[39mnp\u001b[39m.\u001b[39mlog(np\u001b[39m.\u001b[39marray([np\u001b[39m.\u001b[39midentity(\u001b[39m4\u001b[39m)[i, \u001b[39m0\u001b[39m:\u001b[39m3\u001b[39m]\n\u001b[1;32m     96\u001b[0m                              \u001b[39m@\u001b[39m \u001b[39mself\u001b[39m\u001b[39m.\u001b[39mdiagonal_matrix_mult(\u001b[39mself\u001b[39m\u001b[39m.\u001b[39mQs[\u001b[39m0\u001b[39m]\u001b[39m.\u001b[39meigenvectors, \u001b[39mself\u001b[39m\u001b[39m.\u001b[39mQs[\u001b[39m0\u001b[39m]\u001b[39m.\u001b[39meigenvectors_inv)[\u001b[39m0\u001b[39m:\u001b[39m3\u001b[39m, \u001b[39m0\u001b[39m:\u001b[39m3\u001b[39m]\n\u001b[1;32m     97\u001b[0m                              \u001b[39m@\u001b[39m \u001b[39mself\u001b[39m\u001b[39m.\u001b[39meigenvalue_matrix(eigenvals\u001b[39m=\u001b[39m\u001b[39mself\u001b[39m\u001b[39m.\u001b[39mQs[\u001b[39m0\u001b[39m]\u001b[39m.\u001b[39meigenvalues,\n\u001b[1;32m     98\u001b[0m                                                       start_time\u001b[39m=\u001b[39m\u001b[39m0\u001b[39m, end_time\u001b[39m=\u001b[39m\u001b[39mself\u001b[39m\u001b[39m.\u001b[39mtaus[\u001b[39m0\u001b[39m])\n\u001b[1;32m     99\u001b[0m                              \u001b[39m+\u001b[39m (\u001b[39m1\u001b[39m \u001b[39m-\u001b[39m (np\u001b[39m.\u001b[39midentity(\u001b[39m4\u001b[39m)\u001b[39m@self\u001b[39m\u001b[39m.\u001b[39mPs[\u001b[39m0\u001b[39m])[i, \u001b[39m3\u001b[39m])\n\u001b[1;32m    100\u001b[0m                              \u001b[39m*\u001b[39m \u001b[39mself\u001b[39m\u001b[39m.\u001b[39meigenvalue_matrix(eigenvals\u001b[39m=\u001b[39m[\u001b[39m1\u001b[39m\u001b[39m/\u001b[39m\u001b[39mself\u001b[39m\u001b[39m.\u001b[39mthetas[\u001b[39m0\u001b[39m]]\u001b[39m*\u001b[39m\u001b[39m3\u001b[39m,\n\u001b[1;32m    101\u001b[0m                                                        start_time\u001b[39m=\u001b[39m\u001b[39mself\u001b[39m\u001b[39m.\u001b[39mtaus[\u001b[39m0\u001b[39m], end_time\u001b[39m=\u001b[39m\u001b[39mNone\u001b[39;00m)\n\u001b[1;32m    102\u001b[0m                                                          \u001b[39mfor\u001b[39;00m i \u001b[39min\u001b[39;00m [\u001b[39m0\u001b[39m, \u001b[39m1\u001b[39m, \u001b[39m2\u001b[39m]]))\n",
      "\u001b[0;31mValueError\u001b[0m: matmul: Input operand 1 has a mismatch in its core dimension 0, with gufunc signature (n?,k),(k,m?)->(n?,m?) (size 4 is different from 3)"
     ]
    }
   ],
   "source": [
    "mod.fit(S, blocklen=1000, verbose=False)[0]"
   ]
  },
  {
   "cell_type": "code",
   "execution_count": 14,
   "metadata": {},
   "outputs": [
    {
     "data": {
      "text/plain": [
       "[(1, 2), (2, 1)]"
      ]
     },
     "execution_count": 14,
     "metadata": {},
     "output_type": "execute_result"
    }
   ],
   "source": [
    "import itertools\n",
    "list(itertools.permutations([1,2], r=2))"
   ]
  },
  {
   "cell_type": "code",
   "execution_count": 12,
   "metadata": {},
   "outputs": [],
   "source": [
    "a = iter(range(0,4))"
   ]
  },
  {
   "cell_type": "code",
   "execution_count": 13,
   "metadata": {},
   "outputs": [
    {
     "data": {
      "text/plain": [
       "0"
      ]
     },
     "execution_count": 13,
     "metadata": {},
     "output_type": "execute_result"
    }
   ],
   "source": [
    "next(a)"
   ]
  },
  {
   "cell_type": "code",
   "execution_count": 19,
   "metadata": {},
   "outputs": [
    {
     "data": {
      "text/plain": [
       "1.870290720915977e-208"
      ]
     },
     "execution_count": 19,
     "metadata": {},
     "output_type": "execute_result"
    }
   ],
   "source": [
    "from scipy import stats\n",
    "stats.poisson.cdf(4, 500)"
   ]
  }
 ],
 "metadata": {
  "kernelspec": {
   "display_name": "dismal",
   "language": "python",
   "name": "python3"
  },
  "language_info": {
   "codemirror_mode": {
    "name": "ipython",
    "version": 3
   },
   "file_extension": ".py",
   "mimetype": "text/x-python",
   "name": "python",
   "nbconvert_exporter": "python",
   "pygments_lexer": "ipython3",
   "version": "3.11.3"
  },
  "orig_nbformat": 4
 },
 "nbformat": 4,
 "nbformat_minor": 2
}
