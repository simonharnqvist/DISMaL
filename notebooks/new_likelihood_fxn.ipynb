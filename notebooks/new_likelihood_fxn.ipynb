{
 "cells": [
  {
   "cell_type": "code",
   "execution_count": 1,
   "metadata": {},
   "outputs": [
    {
     "name": "stdout",
     "output_type": "stream",
     "text": [
      "Processing /Users/s2341012/Dropbox/DISMaL_chapter/DISMaL\n",
      "  Preparing metadata (setup.py) ... \u001b[?25ldone\n",
      "\u001b[?25hBuilding wheels for collected packages: dismal\n",
      "  Building wheel for dismal (setup.py) ... \u001b[?25ldone\n",
      "\u001b[?25h  Created wheel for dismal: filename=dismal-0.1-py3-none-any.whl size=13862 sha256=d3f4b9126d6270f054e1def4873fa56ddf4aa319a4706a8be6e4bb0cb723d30e\n",
      "  Stored in directory: /private/var/folders/qk/10crn8pd5_d038f0tw_7z2800000gp/T/pip-ephem-wheel-cache-qi4tsk3x/wheels/10/c9/59/9e87bfb89308645a07e4be9051b0645d49425b51da0dd9ddc7\n",
      "Successfully built dismal\n",
      "Installing collected packages: dismal\n",
      "  Attempting uninstall: dismal\n",
      "    Found existing installation: dismal 0.1\n",
      "    Uninstalling dismal-0.1:\n",
      "      Successfully uninstalled dismal-0.1\n",
      "Successfully installed dismal-0.1\n"
     ]
    }
   ],
   "source": [
    "! pip install ..\n",
    "import numpy as np\n",
    "import math\n",
    "from scipy.stats import poisson\n",
    "from dismal import matrices, likelihood2\n",
    "from scipy import linalg\n",
    "from dismal.likelihood2 import *"
   ]
  },
  {
   "cell_type": "code",
   "execution_count": 2,
   "metadata": {},
   "outputs": [],
   "source": [
    "q1 = matrices.GeneratorMatrix(c1=1, c2=1, m1_prime=0, m2_prime=0, matrix_type=\"Q1\")\n",
    "q2 = matrices.GeneratorMatrix(b=1, m1=0, m2=0, matrix_type=\"Q2\")\n",
    "q3 = matrices.GeneratorMatrix(a=1, matrix_type=\"Q3\")"
   ]
  },
  {
   "cell_type": "code",
   "execution_count": 3,
   "metadata": {},
   "outputs": [
    {
     "data": {
      "text/plain": [
       "[array([-0.48168436]), array([-0.48168436]), array([0.06766764])]"
      ]
     },
     "execution_count": 3,
     "metadata": {},
     "output_type": "execute_result"
    }
   ],
   "source": [
    "likelihood2.likelihood_matrix(q1, q2, q3, 1, 1, [[0], [0], [0]])"
   ]
  },
  {
   "cell_type": "code",
   "execution_count": 5,
   "metadata": {},
   "outputs": [
    {
     "data": {
      "text/plain": [
       "array([-0.48168436])"
      ]
     },
     "execution_count": 5,
     "metadata": {},
     "output_type": "execute_result"
    }
   ],
   "source": [
    "S = [[0], [0], [0]]\n",
    "i = 0\n",
    "t1 = 1\n",
    "v = 1\n",
    "g, eigvals_q1 = q1.eigen()\n",
    "c, eigvals_q2 = q2.eigen()\n",
    "ginv = linalg.inv(g)\n",
    "cinv = linalg.inv(c)\n",
    "alpha = -eigvals_q1[0:3]\n",
    "beta = -eigvals_q2[0:3]\n",
    "gamma = 1/q3.pop_size1 #1/a\n",
    "\n",
    "gg = ginv @ np.diag(g[:,3])\n",
    "cc = cinv @ np.diag(c[:,3])\n",
    "pij1 = p_matrix(g, ginv, eigvals_q1, t1)\n",
    "pij2 = p_matrix(c, cinv, eigvals_q2, v)\n",
    "\n",
    "gg[i, 0:3] @ alpha_matrix(alpha, S[i], t1) + pij1[i, 0:3] @ cc[0:3, 0:3] @ beta_matrix(beta, S[i], t1=t1, t0=(v+t1)) + (1 - (pij1@pij2)[i,3]) * gamma_matrix(gamma,S[i],t1+v)"
   ]
  },
  {
   "cell_type": "code",
   "execution_count": 14,
   "metadata": {},
   "outputs": [
    {
     "data": {
      "text/plain": [
       "array([[0.36787944, 0.        , 0.        , 0.63212056],\n",
       "       [0.        , 0.36787944, 0.        , 0.63212056],\n",
       "       [0.        , 0.        , 1.        , 0.        ],\n",
       "       [0.        , 0.        , 0.        , 1.        ]])"
      ]
     },
     "execution_count": 14,
     "metadata": {},
     "output_type": "execute_result"
    }
   ],
   "source": [
    "pij2"
   ]
  },
  {
   "cell_type": "code",
   "execution_count": 5,
   "metadata": {},
   "outputs": [
    {
     "data": {
      "text/plain": [
       "array([-0.43233236])"
      ]
     },
     "execution_count": 5,
     "metadata": {},
     "output_type": "execute_result"
    }
   ],
   "source": [
    "gg[i, 0:3] @ alpha_matrix(alpha, S[i], t1)"
   ]
  },
  {
   "cell_type": "code",
   "execution_count": 16,
   "metadata": {},
   "outputs": [
    {
     "data": {
      "text/plain": [
       "array([ 1., -1.,  0.])"
      ]
     },
     "execution_count": 16,
     "metadata": {},
     "output_type": "execute_result"
    }
   ],
   "source": [
    "gg[0,0:3]"
   ]
  },
  {
   "cell_type": "code",
   "execution_count": 6,
   "metadata": {},
   "outputs": [
    {
     "data": {
      "text/plain": [
       "array([[-0.        ],\n",
       "       [ 0.43233236],\n",
       "       [ 0.43233236]])"
      ]
     },
     "execution_count": 6,
     "metadata": {},
     "output_type": "execute_result"
    }
   ],
   "source": [
    "alpha_matrix(alpha, S[0], t1)"
   ]
  },
  {
   "cell_type": "code",
   "execution_count": 7,
   "metadata": {},
   "outputs": [],
   "source": [
    "def alpha_matrix(alpha, s_vals, t1, rel_mu=1):\n",
    "    alpha, s_vals = np.array(alpha), np.array(s_vals)\n",
    "    alphas = []\n",
    "    for s in s_vals:\n",
    "        alphas.append((alpha/(alpha+rel_mu)) * ((rel_mu/(alpha+rel_mu))**s) * (1-poisson.cdf(s, t1*(alpha+rel_mu))))\n",
    "    return np.transpose(np.array(alphas))"
   ]
  },
  {
   "cell_type": "code",
   "execution_count": 8,
   "metadata": {},
   "outputs": [
    {
     "data": {
      "text/plain": [
       "array([-0.        ,  0.43233236,  0.43233236])"
      ]
     },
     "execution_count": 8,
     "metadata": {},
     "output_type": "execute_result"
    }
   ],
   "source": [
    "rel_mu=1\n",
    "s = 0\n",
    "(alpha/(alpha+rel_mu)) * ((rel_mu/(alpha+rel_mu))**s) * (1-poisson.cdf(s, t1*(alpha+rel_mu)))"
   ]
  },
  {
   "cell_type": "code",
   "execution_count": 9,
   "metadata": {},
   "outputs": [
    {
     "data": {
      "text/plain": [
       "array([0.18733974, 0.18733974, 0.        ])"
      ]
     },
     "execution_count": 9,
     "metadata": {},
     "output_type": "execute_result"
    }
   ],
   "source": [
    "s=0\n",
    "t0=2\n",
    "t1=1\n",
    "beta = np.array([1,1,0])\n",
    "(beta/(beta+rel_mu)) * ((rel_mu/(beta+rel_mu))**s) * np.exp(beta*t1) * (poisson.cdf(s, t1*(beta+rel_mu) - poisson.cdf(s, t0*(beta+rel_mu))))"
   ]
  },
  {
   "cell_type": "code",
   "execution_count": 10,
   "metadata": {},
   "outputs": [
    {
     "data": {
      "text/plain": [
       "[array([0.5, 0.5, 0. ]),\n",
       " array([1., 1., 1.]),\n",
       " array([2.71828183, 2.71828183, 1.        ])]"
      ]
     },
     "execution_count": 10,
     "metadata": {},
     "output_type": "execute_result"
    }
   ],
   "source": [
    "[(beta/(beta+rel_mu)), ((rel_mu/(beta+rel_mu))**s), np.exp(beta*t1)]"
   ]
  },
  {
   "cell_type": "code",
   "execution_count": 11,
   "metadata": {},
   "outputs": [
    {
     "data": {
      "text/plain": [
       "[array([0.13533528, 0.13533528, 0.36787944]),\n",
       " array([0.01831564, 0.01831564, 0.13533528])]"
      ]
     },
     "execution_count": 11,
     "metadata": {},
     "output_type": "execute_result"
    }
   ],
   "source": [
    "[poisson.cdf(s, t1*(beta+rel_mu)), poisson.cdf(s, t0*(beta+rel_mu))]"
   ]
  },
  {
   "cell_type": "code",
   "execution_count": 12,
   "metadata": {},
   "outputs": [
    {
     "data": {
      "text/plain": [
       "array([0.13533528, 0.13533528, 0.36787944])"
      ]
     },
     "execution_count": 12,
     "metadata": {},
     "output_type": "execute_result"
    }
   ],
   "source": [
    "poisson.cdf(s, (t1*(beta+rel_mu))) # OK"
   ]
  },
  {
   "cell_type": "code",
   "execution_count": 13,
   "metadata": {},
   "outputs": [
    {
     "data": {
      "text/plain": [
       "array([0.01831564, 0.01831564, 0.13533528])"
      ]
     },
     "execution_count": 13,
     "metadata": {},
     "output_type": "execute_result"
    }
   ],
   "source": [
    "poisson.cdf(s, t0*(beta+rel_mu))"
   ]
  },
  {
   "cell_type": "code",
   "execution_count": 14,
   "metadata": {},
   "outputs": [
    {
     "data": {
      "text/plain": [
       "array([0.15904619, 0.15904619, 0.        ])"
      ]
     },
     "execution_count": 14,
     "metadata": {},
     "output_type": "execute_result"
    }
   ],
   "source": [
    "#(beta/(beta+R1))*(R1/(beta+R1))^X1*exp(beta*T1)*(ppois(X1,T1*(beta+R1))-ppois(X1,T0*(beta+R1)))\n",
    "(beta/(beta+rel_mu)) * ((rel_mu/(beta+rel_mu))**s) * np.exp(beta*t1) * (poisson.cdf(s, t1*(beta+rel_mu)) - poisson.cdf(s, t0*(beta+rel_mu)))"
   ]
  },
  {
   "cell_type": "code",
   "execution_count": null,
   "metadata": {},
   "outputs": [],
   "source": []
  }
 ],
 "metadata": {
  "kernelspec": {
   "display_name": "dismal",
   "language": "python",
   "name": "python3"
  },
  "language_info": {
   "codemirror_mode": {
    "name": "ipython",
    "version": 3
   },
   "file_extension": ".py",
   "mimetype": "text/x-python",
   "name": "python",
   "nbconvert_exporter": "python",
   "pygments_lexer": "ipython3",
   "version": "3.10.10"
  },
  "orig_nbformat": 4
 },
 "nbformat": 4,
 "nbformat_minor": 2
}
