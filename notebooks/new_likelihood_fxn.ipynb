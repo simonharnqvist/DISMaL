{
 "cells": [
  {
   "cell_type": "code",
   "execution_count": 1,
   "metadata": {},
   "outputs": [
    {
     "name": "stdout",
     "output_type": "stream",
     "text": [
      "Processing /Users/s2341012/Dropbox/DISMaL_chapter/DISMaL\n",
      "  Preparing metadata (setup.py) ... \u001b[?25ldone\n",
      "\u001b[?25hBuilding wheels for collected packages: dismal\n",
      "  Building wheel for dismal (setup.py) ... \u001b[?25ldone\n",
      "\u001b[?25h  Created wheel for dismal: filename=dismal-0.1-py3-none-any.whl size=15346 sha256=d15371606a7f56ddeb5732c289ad1b593364cf45657f186a84cbee48cd499104\n",
      "  Stored in directory: /private/var/folders/qk/10crn8pd5_d038f0tw_7z2800000gp/T/pip-ephem-wheel-cache-nfhnma9k/wheels/10/c9/59/9e87bfb89308645a07e4be9051b0645d49425b51da0dd9ddc7\n",
      "Successfully built dismal\n",
      "Installing collected packages: dismal\n",
      "  Attempting uninstall: dismal\n",
      "    Found existing installation: dismal 0.1\n",
      "    Uninstalling dismal-0.1:\n",
      "      Successfully uninstalled dismal-0.1\n",
      "Successfully installed dismal-0.1\n"
     ]
    }
   ],
   "source": [
    "! pip install ..\n",
    "import numpy as np\n",
    "import math\n",
    "from scipy.stats import poisson\n",
    "from dismal import matrices, likelihood2\n",
    "from scipy import linalg\n",
    "from dismal.likelihood2 import *"
   ]
  },
  {
   "cell_type": "code",
   "execution_count": 7,
   "metadata": {},
   "outputs": [
    {
     "data": {
      "text/plain": [
       "0"
      ]
     },
     "execution_count": 7,
     "metadata": {},
     "output_type": "execute_result"
    }
   ],
   "source": [
    "len([i for i in [False, False] if i])"
   ]
  },
  {
   "cell_type": "code",
   "execution_count": 2,
   "metadata": {},
   "outputs": [],
   "source": [
    "q1 = matrices.GeneratorMatrix(c1=1, c2=1, m1_prime=0, m2_prime=0, matrix_type=\"Q1\")\n",
    "q2 = matrices.GeneratorMatrix(b=1, m1=0, m2=0, matrix_type=\"Q2\")\n",
    "q3 = matrices.GeneratorMatrix(a=1, matrix_type=\"Q3\")"
   ]
  },
  {
   "cell_type": "code",
   "execution_count": 3,
   "metadata": {},
   "outputs": [],
   "source": [
    "S = [[1] * 10] * 3"
   ]
  },
  {
   "cell_type": "code",
   "execution_count": 4,
   "metadata": {},
   "outputs": [
    {
     "data": {
      "text/plain": [
       "45.49445170925571"
      ]
     },
     "execution_count": 4,
     "metadata": {},
     "output_type": "execute_result"
    }
   ],
   "source": [
    "composite_neg_ll([1,1,1,1,1,1,1,0,0,0,0], S)"
   ]
  },
  {
   "cell_type": "code",
   "execution_count": 3,
   "metadata": {},
   "outputs": [],
   "source": [
    "S = [[0], [0], [0]]\n",
    "i = 0\n",
    "t1 = 1\n",
    "v = 1\n",
    "g, eigvals_q1 = q1.eigen()\n",
    "c, eigvals_q2 = q2.eigen()\n",
    "\n",
    "# reorder for CWH\n",
    "g_prime = np.array([g[0], g[1], g[3], g[2]])\n",
    "c_prime = np.array([c[0], c[1], c[3], c[2]])\n",
    "\n",
    "ginv = linalg.inv(g_prime)\n",
    "cinv = linalg.inv(c_prime)\n",
    "alpha = -eigvals_q1[0:3]\n",
    "beta = -eigvals_q2[0:3]\n",
    "gamma = 1/q3.pop_size1 #1/a\n",
    "\n",
    "gg = -ginv @ np.diag(g_prime[:,3])\n",
    "cc = -cinv @ np.diag(c_prime[:,3])\n",
    "pij1 = p_matrix(g_prime, ginv, eigvals_q1, t1)\n",
    "pij2 = p_matrix(c_prime, cinv, eigvals_q2, v)\n"
   ]
  },
  {
   "cell_type": "code",
   "execution_count": 5,
   "metadata": {},
   "outputs": [
    {
     "data": {
      "text/plain": [
       "0.6931471805599453"
      ]
     },
     "execution_count": 5,
     "metadata": {},
     "output_type": "execute_result"
    }
   ],
   "source": [
    "neg_likelihood(q1, q2, q3, 1, 1, s_vals=[0], state=1)"
   ]
  },
  {
   "cell_type": "code",
   "execution_count": 27,
   "metadata": {},
   "outputs": [
    {
     "data": {
      "text/plain": [
       "0.6931471805599453"
      ]
     },
     "execution_count": 27,
     "metadata": {},
     "output_type": "execute_result"
    }
   ],
   "source": [
    "neg_likelihood(q1, q2, q3, 1, 1, s_vals=[0], state=1)"
   ]
  },
  {
   "cell_type": "code",
   "execution_count": 30,
   "metadata": {},
   "outputs": [],
   "source": [
    "lls = []\n",
    "for i in [1,2,3]:\n",
    "    lls.append([neg_likelihood(q1, q2, q3, 1, 1, s_vals=[s], state=i) for s in range(0,10)])"
   ]
  },
  {
   "cell_type": "code",
   "execution_count": 31,
   "metadata": {},
   "outputs": [
    {
     "data": {
      "text/plain": [
       "[[0.6931471805599453,\n",
       "  1.3862943611198906,\n",
       "  2.0794415416798357,\n",
       "  2.772588722239781,\n",
       "  3.4657359027997265,\n",
       "  4.1588830833596715,\n",
       "  4.852030263919617,\n",
       "  5.545177444479562,\n",
       "  6.238324625039508,\n",
       "  6.931471805599453],\n",
       " [0.6931471805599453,\n",
       "  1.3862943611198906,\n",
       "  2.0794415416798357,\n",
       "  2.772588722239781,\n",
       "  3.4657359027997265,\n",
       "  4.1588830833596715,\n",
       "  4.852030263919617,\n",
       "  5.545177444479562,\n",
       "  6.238324625039508,\n",
       "  6.931471805599453],\n",
       " [2.6931471805599454,\n",
       "  1.7768564486857903,\n",
       "  1.514492184218299,\n",
       "  1.6085211338665755,\n",
       "  1.9296192032382007,\n",
       "  2.4007885602242625,\n",
       "  2.969321646160246,\n",
       "  3.5976647311742607,\n",
       "  4.259919560738974,\n",
       "  4.939637295454291]]"
      ]
     },
     "execution_count": 31,
     "metadata": {},
     "output_type": "execute_result"
    }
   ],
   "source": [
    "lls"
   ]
  },
  {
   "cell_type": "code",
   "execution_count": 33,
   "metadata": {},
   "outputs": [
    {
     "data": {
      "text/plain": [
       "[-0.0,\n",
       " 0.6931471805599453,\n",
       " 1.3862943611198906,\n",
       " 2.0794415416798357,\n",
       " 2.772588722239781,\n",
       " 3.4657359027997265,\n",
       " 4.1588830833596715,\n",
       " 4.852030263919617,\n",
       " 5.545177444479562,\n",
       " 6.238324625039508]"
      ]
     },
     "execution_count": 33,
     "metadata": {},
     "output_type": "execute_result"
    }
   ],
   "source": [
    "[-np.log(1/(2**n)) for n in range(0,10)]"
   ]
  }
 ],
 "metadata": {
  "kernelspec": {
   "display_name": "dismal",
   "language": "python",
   "name": "python3"
  },
  "language_info": {
   "codemirror_mode": {
    "name": "ipython",
    "version": 3
   },
   "file_extension": ".py",
   "mimetype": "text/x-python",
   "name": "python",
   "nbconvert_exporter": "python",
   "pygments_lexer": "ipython3",
   "version": "3.10.10"
  },
  "orig_nbformat": 4
 },
 "nbformat": 4,
 "nbformat_minor": 2
}
