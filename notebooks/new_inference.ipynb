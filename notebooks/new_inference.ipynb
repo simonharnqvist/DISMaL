{
 "cells": [
  {
   "cell_type": "code",
   "execution_count": 1,
   "metadata": {},
   "outputs": [
    {
     "name": "stdout",
     "output_type": "stream",
     "text": [
      "Obtaining file:///Users/s2341012/Dropbox/DISMaL_chapter/DISMaL\n",
      "  Preparing metadata (setup.py) ... \u001b[?25ldone\n",
      "\u001b[?25hInstalling collected packages: dismal\n",
      "  Attempting uninstall: dismal\n",
      "    Found existing installation: dismal 0.1\n",
      "    Uninstalling dismal-0.1:\n",
      "      Successfully uninstalled dismal-0.1\n",
      "  Running setup.py develop for dismal\n",
      "Successfully installed dismal-0.1\n"
     ]
    }
   ],
   "source": [
    "! pip install -e .."
   ]
  },
  {
   "cell_type": "code",
   "execution_count": 2,
   "metadata": {},
   "outputs": [],
   "source": [
    "from dismal.inference import DemographicModel\n",
    "from dismal.likelihood_matrix import LikelihoodMatrix\n",
    "from dismal.simulate import MsprimeSimulation\n",
    "import numpy as np\n",
    "from popgen import estimate_dxy"
   ]
  },
  {
   "cell_type": "code",
   "execution_count": 3,
   "metadata": {},
   "outputs": [],
   "source": [
    "S = MsprimeSimulation(theta0=1, theta1=1, theta2=1, theta1_prime=3, theta2_prime=3, t1=1, v=1, m1_star=0, m2_star=0, m1_prime_star=0, m2_prime_star=0, Ne=1e5, block_len=200, num_replicates=1000).S"
   ]
  },
  {
   "cell_type": "code",
   "execution_count": 5,
   "metadata": {},
   "outputs": [
    {
     "data": {
      "text/plain": [
       "[[ 0.681636    1.33001946  1.93923622  2.53042295  3.13105044  3.75588965\n",
       "   4.40595998  5.07530011  5.75675298  6.44474627  7.13583931  7.82824057\n",
       "   8.52113924  9.21420996  9.9073353  10.60047666]\n",
       " [ 0.681636    1.33001946  1.93923622  2.53042295  3.13105044  3.75588965\n",
       "   4.40595998  5.07530011  5.75675298  6.44474627  7.13583931  7.82824057\n",
       "   8.52113924  9.21420996  9.9073353  10.60047666]\n",
       " [ 2.69314718  1.77685645  1.51449218  1.60852113  1.9296192   2.40078856\n",
       "   2.96932165  3.59766473  4.25991956  4.9396373   5.62746279  6.31868181\n",
       "   7.0111871   7.70413686  8.39722764  9.09035978]]"
      ]
     },
     "execution_count": 5,
     "metadata": {},
     "output_type": "execute_result"
    }
   ],
   "source": [
    "LikelihoodMatrix({\"theta0\":1, \"theta1\":1, \"theta2\":1, \"theta1_prime\":1, \"theta2_prime\":1, \"t1\":1, \"v\":1}, S)"
   ]
  },
  {
   "cell_type": "code",
   "execution_count": 11,
   "metadata": {},
   "outputs": [],
   "source": [
    "import math \n",
    "\n",
    "def expect_states1_2(k, theta):\n",
    "        return (1/(theta+1)) * (theta/(theta+1))**k"
   ]
  },
  {
   "cell_type": "code",
   "execution_count": 13,
   "metadata": {},
   "outputs": [
    {
     "data": {
      "text/plain": [
       "0.6931471805599453"
      ]
     },
     "execution_count": 13,
     "metadata": {},
     "output_type": "execute_result"
    }
   ],
   "source": [
    "-np.log(expect_states1_2(0, 1))"
   ]
  },
  {
   "cell_type": "code",
   "execution_count": null,
   "metadata": {},
   "outputs": [],
   "source": []
  }
 ],
 "metadata": {
  "kernelspec": {
   "display_name": "dismal",
   "language": "python",
   "name": "python3"
  },
  "language_info": {
   "codemirror_mode": {
    "name": "ipython",
    "version": 3
   },
   "file_extension": ".py",
   "mimetype": "text/x-python",
   "name": "python",
   "nbconvert_exporter": "python",
   "pygments_lexer": "ipython3",
   "version": "3.10.10"
  },
  "orig_nbformat": 4
 },
 "nbformat": 4,
 "nbformat_minor": 2
}
