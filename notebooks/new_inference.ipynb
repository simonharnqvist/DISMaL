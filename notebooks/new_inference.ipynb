{
 "cells": [
  {
   "cell_type": "code",
   "execution_count": 1,
   "metadata": {},
   "outputs": [
    {
     "name": "stdout",
     "output_type": "stream",
     "text": [
      "Obtaining file:///Users/s2341012/Dropbox/DISMaL_chapter/DISMaL\n",
      "  Preparing metadata (setup.py) ... \u001b[?25ldone\n",
      "\u001b[?25hInstalling collected packages: dismal\n",
      "  Attempting uninstall: dismal\n",
      "    Found existing installation: dismal 0.1\n",
      "    Uninstalling dismal-0.1:\n",
      "      Successfully uninstalled dismal-0.1\n",
      "  Running setup.py develop for dismal\n",
      "Successfully installed dismal-0.1\n"
     ]
    }
   ],
   "source": [
    "! pip install -e .."
   ]
  },
  {
   "cell_type": "code",
   "execution_count": 2,
   "metadata": {},
   "outputs": [],
   "source": [
    "from dismal.inference import DemographicModel\n",
    "from dismal.likelihood_matrix import LikelihoodMatrix\n",
    "import numpy as np\n",
    "from popgen import estimate_dxy\n",
    "from scipy.stats import poisson\n",
    "from dismal.s_matrix import SMatrix"
   ]
  },
  {
   "attachments": {},
   "cell_type": "markdown",
   "metadata": {},
   "source": [
    "### ISO"
   ]
  },
  {
   "cell_type": "code",
   "execution_count": 3,
   "metadata": {},
   "outputs": [],
   "source": [
    "S = SMatrix().from_rgim_simulation([f\"../../simulations/r_sims/rsim_iso_default_params_x{i}.csv\" for i in [1,2,3]])"
   ]
  },
  {
   "cell_type": "code",
   "execution_count": 7,
   "metadata": {},
   "outputs": [
    {
     "name": "stdout",
     "output_type": "stream",
     "text": [
      "Model parameters: ['theta0', 'theta1', 'theta2', 'theta1_prime', 'theta2_prime', 't1', 'v'],               Initial values: [5, 5, 5, 5, 5, 5, 5]                 Lower bounds: [0.01, 0.01, 0.01, 0.01, 0.01, 0, 0]\n"
     ]
    },
    {
     "data": {
      "text/plain": [
       "({'theta0': 5.035694751358111,\n",
       "  'theta1': 4.951991665348271,\n",
       "  'theta2': 4.425041848804933,\n",
       "  'theta1_prime': 4.925392540463988,\n",
       "  'theta2_prime': 5.0726932201618915,\n",
       "  't1': 4.9803021800175475,\n",
       "  'v': 4.980889257986163},\n",
       " 85293.30813341)"
      ]
     },
     "execution_count": 7,
     "metadata": {},
     "output_type": "execute_result"
    }
   ],
   "source": [
    "DemographicModel(pop_size_change=True, migration=False).infer(S=S, verbose=False)"
   ]
  },
  {
   "attachments": {},
   "cell_type": "markdown",
   "metadata": {},
   "source": [
    "### GIM"
   ]
  },
  {
   "cell_type": "code",
   "execution_count": 8,
   "metadata": {},
   "outputs": [],
   "source": [
    "S = SMatrix().from_rgim_simulation([f\"../../simulations/r_sims/rsim_gim_default_params_x{i}.csv\" for i in [1,2,3]])"
   ]
  },
  {
   "cell_type": "code",
   "execution_count": 10,
   "metadata": {},
   "outputs": [
    {
     "name": "stdout",
     "output_type": "stream",
     "text": [
      "Model parameters: ['theta0', 'theta1', 'theta2', 'theta1_prime', 'theta2_prime', 't1', 'v', 'M1_star', 'M2_star', 'M1_prime_star', 'M2_prime_star'],               Initial values: [5, 5, 5, 5, 5, 5, 5, 0.3, 0.3, 0.3, 0.3]                 Lower bounds: [0.01, 0.01, 0.01, 0.01, 0.01, 0, 0, 0, 0, 0, 0]\n"
     ]
    },
    {
     "data": {
      "text/plain": [
       "({'theta0': 5.06014883744588,\n",
       "  'theta1': 5.171002286620352,\n",
       "  'theta2': 5.177624023177873,\n",
       "  'theta1_prime': 4.849901531806957,\n",
       "  'theta2_prime': 5.065385702047085,\n",
       "  't1': 5.024667675124918,\n",
       "  'v': 5.014768398436517,\n",
       "  'M1_star': 0.3015975688225369,\n",
       "  'M2_star': 0.45431807955601483,\n",
       "  'M1_prime_star': 0.3328646265033562,\n",
       "  'M2_prime_star': 0.24565773827376483},\n",
       " 90854.37211771889)"
      ]
     },
     "execution_count": 10,
     "metadata": {},
     "output_type": "execute_result"
    }
   ],
   "source": [
    "DemographicModel(pop_size_change=True, migration=True, mig_rate_change=True, assymmetric_m_star=True, assymmetric_m_prime_star=True).infer(S=S, verbose=False)"
   ]
  },
  {
   "cell_type": "code",
   "execution_count": null,
   "metadata": {},
   "outputs": [],
   "source": []
  }
 ],
 "metadata": {
  "kernelspec": {
   "display_name": "dismal",
   "language": "python",
   "name": "python3"
  },
  "language_info": {
   "codemirror_mode": {
    "name": "ipython",
    "version": 3
   },
   "file_extension": ".py",
   "mimetype": "text/x-python",
   "name": "python",
   "nbconvert_exporter": "python",
   "pygments_lexer": "ipython3",
   "version": "3.10.10"
  },
  "orig_nbformat": 4
 },
 "nbformat": 4,
 "nbformat_minor": 2
}
