{
 "cells": [
  {
   "cell_type": "code",
   "execution_count": 1,
   "metadata": {},
   "outputs": [],
   "source": [
    "from dismal import blocking, s_matrix\n",
    "import numpy as np"
   ]
  },
  {
   "cell_type": "code",
   "execution_count": 2,
   "metadata": {},
   "outputs": [],
   "source": [
    "callset = blocking.CallSet(zarr_path=\"../../brenthis_test/test_vcf.zarr\")"
   ]
  },
  {
   "cell_type": "code",
   "execution_count": 3,
   "metadata": {},
   "outputs": [],
   "source": [
    "bd = blocking.BlocksDictionary(callset, block_len=100, gap=5_000, max_missing=2)"
   ]
  },
  {
   "cell_type": "code",
   "execution_count": 4,
   "metadata": {},
   "outputs": [],
   "source": [
    "samples = list(bd.samples())\n",
    "species = [\"BD\", \"BI\", \"BD\", \"BI\", \"BD\", \"BD\", \"BD\", \"BD\", \"BI\", \"BI\", \"BD\", \"BI\", \"BI\"]\n",
    "\n",
    "samples_dict = dict(zip(samples, species))"
   ]
  },
  {
   "cell_type": "code",
   "execution_count": 6,
   "metadata": {},
   "outputs": [
    {
     "data": {
      "text/plain": [
       "array([[ 4034,   284,   307,   321,   335,   388,   389,   394,   475,\n",
       "          403,   445,   518,   471,   474,   464,   523,   513,   497,\n",
       "          479,   473,   500,   509,   466,   490,   490,   446,   492,\n",
       "          482,   452,   413,   422,   423,   462,   458,   428,   401,\n",
       "          349,   305,   330,   321,   287,   286,   263,   225,   193,\n",
       "          205,   164,   143,   118,   130,    92,    99,    73,    70,\n",
       "           56,    38,    39,    46,    36,    20,    27,    13,    22,\n",
       "           18,    18,    19,     9,    10,     9,     7,     4,     4,\n",
       "            4,     0,     1,     4,     2,     2,     2,     3,     2,\n",
       "            0,     0,     1,     0,     0,     0],\n",
       "       [ 6246,   770,   653,   553,   473,   454,   384,   377,   330,\n",
       "          286,   245,   194,   226,   214,   183,   180,   153,   174,\n",
       "          143,   146,   148,   137,   125,   134,   124,   120,   148,\n",
       "          131,   137,   117,   139,   134,   128,   127,   115,   110,\n",
       "          111,    97,    91,   129,    89,    94,    99,    71,    74,\n",
       "           76,    72,    51,    52,    52,    55,    44,    39,    37,\n",
       "           36,    30,    22,    22,    21,    15,    21,    17,    12,\n",
       "           15,    15,     6,     2,     7,    10,     6,     1,     4,\n",
       "            3,     5,     2,     2,     0,     4,     2,     1,     0,\n",
       "            0,     0,     0,     0,     0,     0],\n",
       "       [11161,   500,   489,   390,   390,   364,   381,   363,   380,\n",
       "          304,   392,   369,   385,   366,   398,   391,   382,   427,\n",
       "          482,   427,   506,   506,   505,   572,   594,   633,   642,\n",
       "          689,   715,   695,   742,   761,   716,   681,   749,   727,\n",
       "          703,   703,   657,   637,   637,   598,   515,   528,   463,\n",
       "          455,   439,   390,   345,   351,   277,   252,   246,   220,\n",
       "          181,   203,   154,   126,   130,   119,   105,    72,    88,\n",
       "           67,    67,    67,    38,    44,    41,    39,    29,    31,\n",
       "           20,    10,    10,     8,     4,     3,     4,     1,     2,\n",
       "            2,     3,     3,     0,     3,     0]])"
      ]
     },
     "execution_count": 6,
     "metadata": {},
     "output_type": "execute_result"
    }
   ],
   "source": [
    "sm = s_matrix.SMatrix()\n",
    "sm.from_blockdict(blockdict=bd, samples_dict=samples_dict)"
   ]
  },
  {
   "cell_type": "code",
   "execution_count": 6,
   "metadata": {},
   "outputs": [],
   "source": [
    "arr1 = np.array([0,1,-1])\n",
    "arr2 = np.array([0,1,-1])\n",
    "\n",
    "arr1_missing = np.where(arr1 < 0)[0]\n",
    "arr2_missing = np.where(arr2 < 0)[0]"
   ]
  },
  {
   "cell_type": "code",
   "execution_count": 8,
   "metadata": {},
   "outputs": [
    {
     "data": {
      "text/plain": [
       "array([2])"
      ]
     },
     "execution_count": 8,
     "metadata": {},
     "output_type": "execute_result"
    }
   ],
   "source": [
    "arr2_missing"
   ]
  },
  {
   "cell_type": "code",
   "execution_count": 9,
   "metadata": {},
   "outputs": [
    {
     "ename": "TypeError",
     "evalue": "only integer scalar arrays can be converted to a scalar index",
     "output_type": "error",
     "traceback": [
      "\u001b[0;31m---------------------------------------------------------------------------\u001b[0m",
      "\u001b[0;31mTypeError\u001b[0m                                 Traceback (most recent call last)",
      "Cell \u001b[0;32mIn[9], line 1\u001b[0m\n\u001b[0;32m----> 1\u001b[0m np\u001b[39m.\u001b[39;49mconcatenate(arr1_missing, arr2_missing)\n",
      "File \u001b[0;32m<__array_function__ internals>:200\u001b[0m, in \u001b[0;36mconcatenate\u001b[0;34m(*args, **kwargs)\u001b[0m\n",
      "\u001b[0;31mTypeError\u001b[0m: only integer scalar arrays can be converted to a scalar index"
     ]
    }
   ],
   "source": [
    "np.concatenate(arr1_missing, arr2_missing)"
   ]
  },
  {
   "cell_type": "code",
   "execution_count": 12,
   "metadata": {},
   "outputs": [
    {
     "data": {
      "text/plain": [
       "array([2, 2])"
      ]
     },
     "execution_count": 12,
     "metadata": {},
     "output_type": "execute_result"
    }
   ],
   "source": [
    "np.concatenate([arr1_missing, arr2_missing])"
   ]
  },
  {
   "cell_type": "code",
   "execution_count": null,
   "metadata": {},
   "outputs": [],
   "source": []
  }
 ],
 "metadata": {
  "kernelspec": {
   "display_name": "dismal",
   "language": "python",
   "name": "python3"
  },
  "language_info": {
   "codemirror_mode": {
    "name": "ipython",
    "version": 3
   },
   "file_extension": ".py",
   "mimetype": "text/x-python",
   "name": "python",
   "nbconvert_exporter": "python",
   "pygments_lexer": "ipython3",
   "version": "3.10.10"
  },
  "orig_nbformat": 4
 },
 "nbformat": 4,
 "nbformat_minor": 2
}
