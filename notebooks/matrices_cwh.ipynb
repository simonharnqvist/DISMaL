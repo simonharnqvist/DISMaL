{
 "cells": [
  {
   "cell_type": "code",
   "execution_count": 6,
   "metadata": {},
   "outputs": [
    {
     "name": "stdout",
     "output_type": "stream",
     "text": [
      "Obtaining file:///Users/s2341012/Dropbox/DISMaL_chapter/DISMaL\n",
      "  Preparing metadata (setup.py) ... \u001b[?25ldone\n",
      "\u001b[?25hInstalling collected packages: dismal\n",
      "  Attempting uninstall: dismal\n",
      "    Found existing installation: dismal 0.1\n",
      "    Uninstalling dismal-0.1:\n",
      "      Successfully uninstalled dismal-0.1\n",
      "  Running setup.py develop for dismal\n",
      "Successfully installed dismal-0.1\n"
     ]
    }
   ],
   "source": [
    "! pip install -e ..\n",
    "from dismal.stochastic_matrices import GeneratorMatrix\n",
    "import numpy as np\n",
    "from scipy import linalg\n",
    "from likelihood import p_matrix"
   ]
  },
  {
   "cell_type": "code",
   "execution_count": 9,
   "metadata": {},
   "outputs": [],
   "source": [
    "params = [5,5,5,5,5,5,5,0,0,0,0]\n",
    "q1, q2, q3 = GeneratorMatrix.from_params(params)"
   ]
  },
  {
   "cell_type": "code",
   "execution_count": null,
   "metadata": {},
   "outputs": [],
   "source": [
    "[[5,5,5,5,5,5,5,0,0,0,0],\n",
    "                      [5,5,5,5,5,5,5,5,5,5,5],\n",
    "                      [0,0,0,0,0,0,0,0,0,0,0]]"
   ]
  },
  {
   "cell_type": "code",
   "execution_count": 26,
   "metadata": {},
   "outputs": [
    {
     "data": {
      "text/plain": [
       "array([[1., 0., 0., 0.],\n",
       "       [0., 1., 0., 0.],\n",
       "       [0., 0., 1., 0.],\n",
       "       [0., 0., 0., 1.]])"
      ]
     },
     "execution_count": 26,
     "metadata": {},
     "output_type": "execute_result"
    }
   ],
   "source": [
    "params = [0.1,0.1,0.1,0.1,0.1,0,0,0,0,0,0]\n",
    "q1, q2, q3 = GeneratorMatrix.from_params(params)\n",
    "g, eigenvalues = q1.eigen()\n",
    "ginv = linalg.inv(g)\n",
    "t = 0\n",
    "p_matrix(g, ginv, eigenvalues, t)"
   ]
  },
  {
   "cell_type": "code",
   "execution_count": 29,
   "metadata": {},
   "outputs": [],
   "source": [
    "import itertools"
   ]
  },
  {
   "cell_type": "code",
   "execution_count": 33,
   "metadata": {},
   "outputs": [
    {
     "data": {
      "text/plain": [
       "(0.01, 0.1, 1)"
      ]
     },
     "execution_count": 33,
     "metadata": {},
     "output_type": "execute_result"
    }
   ],
   "source": [
    "popsizes = [0.01, 0.1, 1, 10, 100]\n",
    "mig_rates = [0, 0.0001, 0.01, 1, 10]\n",
    "[i for i in itertools.permutations(popsizes, 3)][0]"
   ]
  },
  {
   "cell_type": "code",
   "execution_count": 2,
   "metadata": {},
   "outputs": [
    {
     "data": {
      "text/plain": [
       "[[-1.25        0.          0.75        0.5       ]\n",
       " [ 0.         -1.16666667  0.83333333  0.33333333]\n",
       " [ 0.41666667  0.375      -0.79166667  0.        ]\n",
       " [ 0.          0.          0.          0.        ]]"
      ]
     },
     "execution_count": 2,
     "metadata": {},
     "output_type": "execute_result"
    }
   ],
   "source": [
    "from dismal.generator_matrices import GeneratorMatrix\n",
    "GeneratorMatrix(matrix_type=\"Q1\", theta1=1, theta1_prime=2, theta2_prime=3, m1_prime_star=1.5, m2_prime_star=2.5)"
   ]
  },
  {
   "cell_type": "code",
   "execution_count": 11,
   "metadata": {},
   "outputs": [
    {
     "data": {
      "text/plain": [
       "[[-2.5         0.          1.5         1.        ]\n",
       " [ 0.         -1.16666667  0.83333333  0.33333333]\n",
       " [ 0.41666667  0.75       -1.16666667  0.        ]\n",
       " [ 0.          0.          0.          0.        ]]"
      ]
     },
     "execution_count": 11,
     "metadata": {},
     "output_type": "execute_result"
    }
   ],
   "source": [
    "import numpy as np\n",
    "GeneratorMatrix(matrix_type=\"Q2\", theta1=1, theta2=3, m1_star=1.5, m2_star=2.5)"
   ]
  },
  {
   "cell_type": "code",
   "execution_count": 15,
   "metadata": {},
   "outputs": [
    {
     "data": {
      "text/plain": [
       "array([[-2.5       ,  0.        ,  1.5       ,  1.        ],\n",
       "       [ 0.        , -1.16666667,  0.83333333,  0.33333333],\n",
       "       [ 0.41666667,  0.75      , -1.16666667,  0.        ],\n",
       "       [ 0.        ,  0.        ,  0.        ,  0.        ]])"
      ]
     },
     "execution_count": 15,
     "metadata": {},
     "output_type": "execute_result"
    }
   ],
   "source": [
    "np.array([[-(2.5), 0, 1.5, 1],\n",
    "                           [0, -(1/3+5/6), 5/6, 1/3],\n",
    "                           [5/12, 3/4, -((1.5+(5/6))/2), 0],\n",
    "                           [0, 0, 0, 0]])"
   ]
  },
  {
   "cell_type": "code",
   "execution_count": 16,
   "metadata": {},
   "outputs": [],
   "source": [
    "from dismal.likelihood import alpha_matrix"
   ]
  },
  {
   "cell_type": "code",
   "execution_count": 20,
   "metadata": {},
   "outputs": [
    {
     "data": {
      "text/plain": [
       "array([[0.43233236, 0.14849854, 0.04041545, 0.00892978, 0.00164541,\n",
       "        0.00025881, 0.00003542],\n",
       "       [0.43233236, 0.14849854, 0.04041545, 0.00892978, 0.00164541,\n",
       "        0.00025881, 0.00003542],\n",
       "       [0.        , 0.        , 0.        , 0.        , 0.        ,\n",
       "        0.        , 0.        ]])"
      ]
     },
     "execution_count": 20,
     "metadata": {},
     "output_type": "execute_result"
    }
   ],
   "source": [
    "alpha_matrix([1,1,0], s_vals=[0,1,2, 3, 4, 5, 6], t1=1)"
   ]
  }
 ],
 "metadata": {
  "kernelspec": {
   "display_name": "dismal",
   "language": "python",
   "name": "python3"
  },
  "language_info": {
   "codemirror_mode": {
    "name": "ipython",
    "version": 3
   },
   "file_extension": ".py",
   "mimetype": "text/x-python",
   "name": "python",
   "nbconvert_exporter": "python",
   "pygments_lexer": "ipython3",
   "version": "3.10.10"
  },
  "orig_nbformat": 4
 },
 "nbformat": 4,
 "nbformat_minor": 2
}
