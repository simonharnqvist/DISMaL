{
 "cells": [
  {
   "cell_type": "code",
   "execution_count": 1,
   "metadata": {},
   "outputs": [
    {
     "name": "stdout",
     "output_type": "stream",
     "text": [
      "Obtaining file:///Users/s2341012/Dropbox/DISMaL_chapter/DISMaL\n",
      "  Preparing metadata (setup.py) ... \u001b[?25ldone\n",
      "\u001b[?25hInstalling collected packages: dismal\n",
      "  Attempting uninstall: dismal\n",
      "    Found existing installation: dismal 0.1\n",
      "    Uninstalling dismal-0.1:\n",
      "      Successfully uninstalled dismal-0.1\n",
      "  Running setup.py develop for dismal\n",
      "Successfully installed dismal-0.1\n"
     ]
    }
   ],
   "source": [
    "! pip install -e .."
   ]
  },
  {
   "cell_type": "code",
   "execution_count": 2,
   "metadata": {},
   "outputs": [],
   "source": [
    "from dismal.likelihood_matrix import LikelihoodMatrix\n",
    "from dismal.generator_matrices import GeneratorMatrix\n",
    "from dismal.utils import expect_states1_2, expect_state_3\n",
    "import numpy as np"
   ]
  },
  {
   "cell_type": "code",
   "execution_count": 28,
   "metadata": {},
   "outputs": [],
   "source": [
    "one_by_ten_S = np.array([\n",
    "    [1]*10,\n",
    "    [1]*10,\n",
    "    [1]*10,\n",
    "])"
   ]
  },
  {
   "cell_type": "code",
   "execution_count": 29,
   "metadata": {},
   "outputs": [],
   "source": [
    "params = {'theta0': 5,\n",
    "                  'theta1': 5,\n",
    "                  'theta2': 5,\n",
    "                  'theta1_prime': 5,\n",
    "                  'theta2_prime': 5,\n",
    "                  't1': 5,\n",
    "                  'v': 5}"
   ]
  },
  {
   "cell_type": "code",
   "execution_count": 30,
   "metadata": {},
   "outputs": [],
   "source": [
    "lm = LikelihoodMatrix(params, one_by_ten_S)"
   ]
  },
  {
   "cell_type": "code",
   "execution_count": 31,
   "metadata": {},
   "outputs": [
    {
     "data": {
      "text/plain": [
       "array([[ 1.79175947,  1.97408103,  2.15640258,  2.33872414,  2.5210457 ,\n",
       "         2.70336725,  2.88568881,  3.06801037,  3.25033192,  3.43265348],\n",
       "       [ 1.79175947,  1.97408103,  2.15640258,  2.33872414,  2.5210457 ,\n",
       "         2.70336725,  2.88568881,  3.06801037,  3.25033192,  3.43265348],\n",
       "       [11.79175947,  9.40913167,  7.71375133,  6.41714572,  5.40060132,\n",
       "         4.59848253,  3.96867307,  3.48147678,  3.11448286,  2.84985184]])"
      ]
     },
     "execution_count": 31,
     "metadata": {},
     "output_type": "execute_result"
    }
   ],
   "source": [
    "lm.matrix"
   ]
  },
  {
   "cell_type": "code",
   "execution_count": 32,
   "metadata": {},
   "outputs": [
    {
     "data": {
      "text/plain": [
       "0.2"
      ]
     },
     "execution_count": 32,
     "metadata": {},
     "output_type": "execute_result"
    }
   ],
   "source": [
    "lm.gamma"
   ]
  },
  {
   "cell_type": "code",
   "execution_count": 33,
   "metadata": {},
   "outputs": [
    {
     "data": {
      "text/plain": [
       "array([[ 0.16625354,  0.13647899,  0.10856843,  0.08186691,  0.05746395,\n",
       "         0.03712815,  0.02197473,  0.01190843,  0.00592128,  0.00271084],\n",
       "       [ 0.16625354,  0.13647899,  0.10856843,  0.08186691,  0.05746395,\n",
       "         0.03712815,  0.02197473,  0.01190843,  0.00592128,  0.00271084],\n",
       "       [-0.        , -0.        , -0.        , -0.        , -0.        ,\n",
       "        -0.        , -0.        , -0.        , -0.        , -0.        ]])"
      ]
     },
     "execution_count": 33,
     "metadata": {},
     "output_type": "execute_result"
    }
   ],
   "source": [
    "lm.alpha_matrix()"
   ]
  },
  {
   "cell_type": "code",
   "execution_count": 40,
   "metadata": {},
   "outputs": [
    {
     "data": {
      "text/plain": [
       "array([[0.36787944, 0.        , 0.        , 0.63212056],\n",
       "       [0.        , 0.36787944, 0.        , 0.63212056],\n",
       "       [0.        , 0.        , 1.        , 0.        ],\n",
       "       [0.        , 0.        , 0.        , 1.        ]])"
      ]
     },
     "execution_count": 40,
     "metadata": {},
     "output_type": "execute_result"
    }
   ],
   "source": [
    "lm.pij2"
   ]
  },
  {
   "cell_type": "code",
   "execution_count": 46,
   "metadata": {},
   "outputs": [
    {
     "data": {
      "text/plain": [
       "110.98948608717939"
      ]
     },
     "execution_count": 46,
     "metadata": {},
     "output_type": "execute_result"
    }
   ],
   "source": [
    "lm.matrix.sum()"
   ]
  },
  {
   "cell_type": "code",
   "execution_count": 47,
   "metadata": {},
   "outputs": [
    {
     "data": {
      "text/plain": [
       "array([[ 1.79175947,  1.97408103,  2.15640258,  2.33872414,  2.5210457 ,\n",
       "         2.70336725,  2.88568881,  3.06801037,  3.25033192,  3.43265348],\n",
       "       [ 1.79175947,  1.97408103,  2.15640258,  2.33872414,  2.5210457 ,\n",
       "         2.70336725,  2.88568881,  3.06801037,  3.25033192,  3.43265348],\n",
       "       [11.79175947,  9.40913167,  7.71375133,  6.41714572,  5.40060132,\n",
       "         4.59848253,  3.96867307,  3.48147678,  3.11448286,  2.84985184]])"
      ]
     },
     "execution_count": 47,
     "metadata": {},
     "output_type": "execute_result"
    }
   ],
   "source": [
    "lm.matrix"
   ]
  },
  {
   "cell_type": "code",
   "execution_count": null,
   "metadata": {},
   "outputs": [],
   "source": []
  }
 ],
 "metadata": {
  "kernelspec": {
   "display_name": "dismal",
   "language": "python",
   "name": "python3"
  },
  "language_info": {
   "codemirror_mode": {
    "name": "ipython",
    "version": 3
   },
   "file_extension": ".py",
   "mimetype": "text/x-python",
   "name": "python",
   "nbconvert_exporter": "python",
   "pygments_lexer": "ipython3",
   "version": "3.10.10"
  },
  "orig_nbformat": 4
 },
 "nbformat": 4,
 "nbformat_minor": 2
}
