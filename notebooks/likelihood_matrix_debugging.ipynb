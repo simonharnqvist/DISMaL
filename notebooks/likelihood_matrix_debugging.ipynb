{
 "cells": [
  {
   "cell_type": "code",
   "execution_count": 5,
   "metadata": {},
   "outputs": [
    {
     "name": "stdout",
     "output_type": "stream",
     "text": [
      "Obtaining file:///Users/s2341012/Library/CloudStorage/Dropbox/DISMaL_chapter/DISMaL\n",
      "  Preparing metadata (setup.py) ... \u001b[?25ldone\n",
      "\u001b[?25hInstalling collected packages: dismal\n",
      "  Attempting uninstall: dismal\n",
      "    Found existing installation: dismal 0.1\n",
      "    Uninstalling dismal-0.1:\n",
      "      Successfully uninstalled dismal-0.1\n",
      "  Running setup.py develop for dismal\n",
      "Successfully installed dismal-0.1\n"
     ]
    }
   ],
   "source": [
    "! pip install -e .."
   ]
  },
  {
   "cell_type": "code",
   "execution_count": 6,
   "metadata": {},
   "outputs": [],
   "source": [
    "from dismal.likelihood_matrix import LikelihoodMatrix\n",
    "from dismal.demography import Epoch\n",
    "import numpy as np\n",
    "import matplotlib.pyplot as plt\n",
    "from dismal.markov_matrices import TransitionRateMatrix, StochasticMatrix"
   ]
  },
  {
   "cell_type": "code",
   "execution_count": 7,
   "metadata": {},
   "outputs": [],
   "source": [
    "S = np.array([\n",
    "    [1, 1, 1, 1, 1],\n",
    "    [1, 1, 1, 1, 1],\n",
    "    [1, 1, 1, 1, 1]\n",
    "])"
   ]
  },
  {
   "cell_type": "code",
   "execution_count": 8,
   "metadata": {},
   "outputs": [],
   "source": [
    "epoch0 = Epoch(id=0, allow_migration=False)\n",
    "epoch1 = Epoch(id=1, allow_migration=True, symmetric_migration=False, migration_direction=None)\n",
    "epoch2 = Epoch(id=2, allow_migration=True)"
   ]
  },
  {
   "cell_type": "code",
   "execution_count": 14,
   "metadata": {},
   "outputs": [
    {
     "data": {
      "text/plain": [
       "array([[0.84242651, 1.60213032, 2.31050187, 3.00141071, 3.69062159,\n",
       "        4.38159278, 5.07389379, 5.76677652, 6.45985363, 7.15298459],\n",
       "       [0.84242651, 1.60213032, 2.31050187, 3.00141071, 3.69062159,\n",
       "        4.38159278, 5.07389379, 5.76677652, 6.45985363, 7.15298459],\n",
       "       [1.61515115, 1.48896043, 1.78984599, 2.29930387, 2.91485817,\n",
       "        3.57928333, 4.26319223, 4.95374699, 5.64625299, 6.33925875]])"
      ]
     },
     "execution_count": 14,
     "metadata": {},
     "output_type": "execute_result"
    }
   ],
   "source": [
    "LikelihoodMatrix(params=[1,1,1,1,1,1,1,0.5,0.5,0.5,0.5], S=np.ones(shape=(3,10)), epoch_objects=[epoch0, epoch1, epoch2]).matrix"
   ]
  },
  {
   "cell_type": "code",
   "execution_count": 56,
   "metadata": {},
   "outputs": [],
   "source": [
    "from scipy.stats import poisson\n",
    "\n",
    "def poisson_cdf(s, time, rate_param):\n",
    "\n",
    "    if time is None:\n",
    "        return 0\n",
    "    else:\n",
    "        return poisson.cdf(k=s, mu=(time*(rate_param)))\n",
    "    \n",
    "\n",
    "def diagonal_matrix_mult(mat, mat_inv):\n",
    "    return -mat_inv @ np.diag(mat[:, 3])\n",
    "\n",
    "def eigenvalue_matrix(eigenvals, start_time, end_time, rel_mu=1):\n",
    "    \"\"\"Generate matrix of s values (columns) x adjusted eigenvalues (rows).\n",
    "    This corresponds to P(s events before coalescence) * 1-P(s events)\"\"\"\n",
    "\n",
    "    if len(eigenvals) > 1:   \n",
    "        lmbda = -np.array(eigenvals)[0:3]\n",
    "    else:\n",
    "        lmbda = -np.array(eigenvals)[0]\n",
    "        \n",
    "    s_vals = [s for s in range(0, S.shape[1])]\n",
    "\n",
    "    eigv_mat = [(lmbda/(lmbda+rel_mu))\n",
    "                * ((rel_mu/(lmbda+rel_mu))**s)\n",
    "                * np.exp(lmbda*start_time)\n",
    "                * poisson_cdf(s, time=start_time, rate_param=(lmbda+rel_mu))\n",
    "                - poisson_cdf(s, time=end_time, rate_param=(lmbda+rel_mu))\n",
    "                for s in s_vals]\n",
    "    return np.transpose(np.array(eigv_mat))"
   ]
  },
  {
   "cell_type": "code",
   "execution_count": 74,
   "metadata": {},
   "outputs": [],
   "source": [
    "Q1 = TransitionRateMatrix(thetas=[1,1], Ms=[0,0])\n",
    "P = StochasticMatrix(Q1.eigenvectors, Q1.eigenvectors_inv, Q1.eigenvalues, t=1)\n",
    "A = eigenvalue_matrix(Q1.eigenvalues, 0, 1)\n",
    "B = eigenvalue_matrix(Q1.eigenvalues, 1, 2)\n",
    "Gamma = eigenvalue_matrix([-1], 2, None)"
   ]
  },
  {
   "cell_type": "code",
   "execution_count": 75,
   "metadata": {},
   "outputs": [
    {
     "data": {
      "text/plain": [
       "array([[ 0.36466472, -0.15600585, -0.55167642, -0.79462346, -0.91609698,\n",
       "        -0.96781139, -0.98765369, -0.99499703, -0.99780943, -0.99897694],\n",
       "       [ 0.36466472, -0.15600585, -0.55167642, -0.79462346, -0.91609698,\n",
       "        -0.96781139, -0.98765369, -0.99499703, -0.99780943, -0.99897694],\n",
       "       [-0.36787944, -0.73575888, -0.9196986 , -0.98101184, -0.99634015,\n",
       "        -0.99940582, -0.99991676, -0.99998975, -0.99999887, -0.99999989]])"
      ]
     },
     "execution_count": 75,
     "metadata": {},
     "output_type": "execute_result"
    }
   ],
   "source": [
    "A"
   ]
  },
  {
   "cell_type": "code",
   "execution_count": 79,
   "metadata": {},
   "outputs": [
    {
     "data": {
      "text/plain": [
       "array([0.85241874, 0.81982051, 0.64371168, 0.42290384, 0.24667222,\n",
       "       0.13218098, 0.06603479, 0.03100874, 0.01382532, 0.00594267])"
      ]
     },
     "execution_count": 79,
     "metadata": {},
     "output_type": "execute_result"
    }
   ],
   "source": [
    "(\n",
    "    (-Q1.eigenvectors_inv @ np.diag(Q1.eigenvectors[:, 3]))[0, 0:3]@A \n",
    "    + P.matrix[0, 0:3]@(-Q1.eigenvectors_inv @ np.diag(Q1.eigenvectors[:, 3]))[0:3, 0:3]@B\n",
    "    +(1-(P.matrix@P.matrix)[0,3])*Gamma\n",
    "    )"
   ]
  },
  {
   "cell_type": "code",
   "execution_count": 52,
   "metadata": {},
   "outputs": [
    {
     "data": {
      "text/plain": [
       "[[[0.78257772 1.68287544 2.63760526 3.55304993 4.37912461 5.13081962\n",
       "   5.8442701  6.54329475 7.23791671 7.93139191]\n",
       "  [0.78257772 1.68287544 2.63760526 3.55304993 4.37912461 5.13081962\n",
       "   5.8442701  6.54329475 7.23791671 7.93139191]\n",
       "  [3.69314718 3.28768207 3.47000363 3.92676203 4.51982575 5.1755854\n",
       "   5.85657438 6.54627477 7.2385621  7.9315183 ]]\n",
       "\n",
       " [[0.78257772 1.68287544 2.63760526 3.55304993 4.37912461 5.13081962\n",
       "   5.8442701  6.54329475 7.23791671 7.93139191]\n",
       "  [0.78257772 1.68287544 2.63760526 3.55304993 4.37912461 5.13081962\n",
       "   5.8442701  6.54329475 7.23791671 7.93139191]\n",
       "  [3.69314718 3.28768207 3.47000363 3.92676203 4.51982575 5.1755854\n",
       "   5.85657438 6.54627477 7.2385621  7.9315183 ]]\n",
       "\n",
       " [[0.48406673 0.85705974 1.30807449 1.86724583 2.49958544 3.16940848\n",
       "   3.85490029 4.54587094 5.23847473 5.9315012 ]\n",
       "  [0.48406673 0.85705974 1.30807449 1.86724583 2.49958544 3.16940848\n",
       "   3.85490029 4.54587094 5.23847473 5.9315012 ]\n",
       "  [1.69314718 1.28768207 1.47000363 1.92676203 2.51982575 3.1755854\n",
       "   3.85657438 4.54627477 5.2385621  5.9315183 ]]]"
      ]
     },
     "execution_count": 52,
     "metadata": {},
     "output_type": "execute_result"
    }
   ],
   "source": [
    "LikelihoodMatrix(params=[1,1,1,1,1,1,1,0,0,0,0], S=S, epoch_objects=[epoch0, epoch1, epoch2])"
   ]
  },
  {
   "cell_type": "code",
   "execution_count": 5,
   "metadata": {},
   "outputs": [],
   "source": [
    "from dismal.markov_matrices import TransitionRateMatrix, StochasticMatrix\n",
    "Q = TransitionRateMatrix(thetas=[1,1], Ms=[0.5,0.4])\n",
    "P = StochasticMatrix(Q.eigenvectors, Q.eigenvectors_inv, Q.eigenvalues, t=1)\n",
    "Qs = [Q]\n",
    "Ps = [P]\n",
    "taus = [1]\n",
    "thetas = [1]"
   ]
  },
  {
   "cell_type": "code",
   "execution_count": 6,
   "metadata": {},
   "outputs": [
    {
     "data": {
      "text/plain": [
       "2"
      ]
     },
     "execution_count": 6,
     "metadata": {},
     "output_type": "execute_result"
    }
   ],
   "source": [
    "epoch1.n_M_params"
   ]
  },
  {
   "cell_type": "code",
   "execution_count": 9,
   "metadata": {},
   "outputs": [],
   "source": [
    "lm = LikelihoodMatrix([1,1,1,1,1,0.5,0.5], S, [epoch0, epoch1])"
   ]
  },
  {
   "cell_type": "code",
   "execution_count": 10,
   "metadata": {},
   "outputs": [
    {
     "data": {
      "text/plain": [
       "[[0.77274718 1.39398483 1.98006919 2.59936487 3.25571183]\n",
       " [0.77274718 1.39398483 1.98006919 2.59936487 3.25571183]\n",
       " [1.44704322 1.27220353 1.54885456 2.04679072 2.65728213]]"
      ]
     },
     "execution_count": 10,
     "metadata": {},
     "output_type": "execute_result"
    }
   ],
   "source": [
    "lm"
   ]
  },
  {
   "cell_type": "code",
   "execution_count": 48,
   "metadata": {},
   "outputs": [
    {
     "data": {
      "text/plain": [
       "1.0"
      ]
     },
     "execution_count": 48,
     "metadata": {},
     "output_type": "execute_result"
    }
   ],
   "source": [
    "poisson.cdf(k=1,mu=())"
   ]
  },
  {
   "cell_type": "code",
   "execution_count": 17,
   "metadata": {},
   "outputs": [],
   "source": []
  },
  {
   "cell_type": "code",
   "execution_count": 50,
   "metadata": {},
   "outputs": [
    {
     "data": {
      "text/plain": [
       "-0.7433607421473977"
      ]
     },
     "execution_count": 50,
     "metadata": {},
     "output_type": "execute_result"
    }
   ],
   "source": [
    "lmbda = 1\n",
    "rel_mu = 1\n",
    "s = 5\n",
    "start_time, end_time = 1,2\n",
    "((lmbda/(lmbda+rel_mu)) * ((rel_mu/(lmbda+rel_mu))**s) \n",
    " * np.exp(lmbda*start_time) \n",
    " * poisson_cdf(s, time=start_time, rate_param=(lmbda+rel_mu)) \n",
    " - poisson_cdf(s, time=end_time, rate_param=(lmbda+rel_mu)))\n"
   ]
  },
  {
   "cell_type": "code",
   "execution_count": 63,
   "metadata": {},
   "outputs": [
    {
     "data": {
      "text/plain": [
       "0.5830397501929852"
      ]
     },
     "execution_count": 63,
     "metadata": {},
     "output_type": "execute_result"
    }
   ],
   "source": [
    "poisson_cdf(s=10, time=10, rate_param=1)"
   ]
  },
  {
   "cell_type": "code",
   "execution_count": 36,
   "metadata": {},
   "outputs": [
    {
     "name": "stdout",
     "output_type": "stream",
     "text": [
      "[1.63277244 1.43832013 0.27890743]\n"
     ]
    },
    {
     "data": {
      "text/plain": [
       "array([ 0.25578454, -0.23624409, -0.56550895, -0.76722586, -0.87952267])"
      ]
     },
     "execution_count": 36,
     "metadata": {},
     "output_type": "execute_result"
    }
   ],
   "source": [
    "i = 0 \n",
    "(np.identity(4)[i, 0:3]\n",
    " @ diagonal_matrix_mult(Qs[0].eigenvectors, Qs[0].eigenvectors_inv)[0:3, 0:3]\n",
    "@ eigenvalue_matrix(eigenvals=Qs[0].eigenvalues, start_time=0, end_time=taus[0])) \n",
    "                                 #+ (1 - (np.identity(4)@Ps[0].matrix)[i, 3]))\n",
    "                                 #* eigenvalue_matrix(eigenvals=[-1/thetas[0]],\n",
    "                                  #                         start_time=taus[0], end_time=None))\n"
   ]
  },
  {
   "cell_type": "code",
   "execution_count": 37,
   "metadata": {},
   "outputs": [
    {
     "name": "stdout",
     "output_type": "stream",
     "text": [
      "[1 1 0]\n"
     ]
    },
    {
     "data": {
      "text/plain": [
       "array([[ 0.16562408,  0.18433139, -0.00817865, -0.28785117, -0.54836331],\n",
       "       [ 0.16562408,  0.18433139, -0.00817865, -0.28785117, -0.54836331],\n",
       "       [-0.13533528, -0.40600585, -0.67667642, -0.85712346, -0.94734698]])"
      ]
     },
     "execution_count": 37,
     "metadata": {},
     "output_type": "execute_result"
    }
   ],
   "source": [
    "eigenvalue_matrix([-1, -1, 0], start_time=1, end_time=2)"
   ]
  },
  {
   "cell_type": "code",
   "execution_count": 68,
   "metadata": {},
   "outputs": [
    {
     "data": {
      "text/plain": [
       "-0.28785117490301304"
      ]
     },
     "execution_count": 68,
     "metadata": {},
     "output_type": "execute_result"
    }
   ],
   "source": [
    "lmbda = 1\n",
    "rel_mu = 1\n",
    "s = 3\n",
    "start_time = 1\n",
    "end_time = 2\n",
    "\n",
    "((lmbda/(lmbda+rel_mu)) * ((rel_mu/(lmbda+rel_mu))**s) * np.exp(lmbda*start_time)\n",
    "* poisson_cdf(s, time=start_time, rate_param=(lmbda+rel_mu))\n",
    "- poisson_cdf(s, time=end_time, rate_param=(lmbda+rel_mu)))"
   ]
  },
  {
   "cell_type": "code",
   "execution_count": 69,
   "metadata": {},
   "outputs": [
    {
     "data": {
      "text/plain": [
       "0.857123460498547"
      ]
     },
     "execution_count": 69,
     "metadata": {},
     "output_type": "execute_result"
    }
   ],
   "source": [
    "poisson_cdf(s, time=start_time, rate_param=(lmbda+rel_mu))"
   ]
  },
  {
   "cell_type": "code",
   "execution_count": 71,
   "metadata": {},
   "outputs": [
    {
     "data": {
      "text/plain": [
       "0.43347012036670896"
      ]
     },
     "execution_count": 71,
     "metadata": {},
     "output_type": "execute_result"
    }
   ],
   "source": [
    "poisson_cdf(s, time=end_time, rate_param=(lmbda+rel_mu))"
   ]
  },
  {
   "cell_type": "code",
   "execution_count": 72,
   "metadata": {},
   "outputs": [
    {
     "data": {
      "text/plain": [
       "0.16989261427869032"
      ]
     },
     "execution_count": 72,
     "metadata": {},
     "output_type": "execute_result"
    }
   ],
   "source": [
    "(lmbda/(lmbda+rel_mu)) * ((rel_mu/(lmbda+rel_mu))**s) * np.exp(lmbda*start_time)"
   ]
  },
  {
   "cell_type": "code",
   "execution_count": 16,
   "metadata": {},
   "outputs": [
    {
     "data": {
      "text/plain": [
       "array([0.18393972, 0.27590958, 0.22992465, 0.14561895, 0.08047363])"
      ]
     },
     "execution_count": 16,
     "metadata": {},
     "output_type": "execute_result"
    }
   ],
   "source": [
    "eigenvalue_matrix(eigenvals=[-1/thetas[0]], start_time=taus[0], end_time=None)"
   ]
  },
  {
   "cell_type": "code",
   "execution_count": 65,
   "metadata": {},
   "outputs": [
    {
     "data": {
      "text/plain": [
       "0"
      ]
     },
     "execution_count": 65,
     "metadata": {},
     "output_type": "execute_result"
    }
   ],
   "source": [
    "poisson_cdf(s=1, time=None, rate_param=(-1/thetas[0]+1))"
   ]
  },
  {
   "cell_type": "code",
   "execution_count": 33,
   "metadata": {},
   "outputs": [
    {
     "data": {
      "text/plain": [
       "array([[0.36787944, 0.        , 0.        , 0.63212056],\n",
       "       [0.        , 0.36787944, 0.        , 0.63212056],\n",
       "       [0.        , 0.        , 1.        , 0.        ],\n",
       "       [0.        , 0.        , 0.        , 1.        ]])"
      ]
     },
     "execution_count": 33,
     "metadata": {},
     "output_type": "execute_result"
    }
   ],
   "source": [
    "np.identity(4)@Ps[0].matrix"
   ]
  },
  {
   "cell_type": "code",
   "execution_count": 29,
   "metadata": {},
   "outputs": [
    {
     "ename": "ValueError",
     "evalue": "matmul: Input operand 1 does not have enough dimensions (has 0, gufunc core with signature (n?,k),(k,m?)->(n?,m?) requires 1)",
     "output_type": "error",
     "traceback": [
      "\u001b[0;31m---------------------------------------------------------------------------\u001b[0m",
      "\u001b[0;31mValueError\u001b[0m                                Traceback (most recent call last)",
      "Cell \u001b[0;32mIn[29], line 1\u001b[0m\n\u001b[0;32m----> 1\u001b[0m np\u001b[39m.\u001b[39midentity(\u001b[39m4\u001b[39m)\u001b[39m@Ps\u001b[39m[\u001b[39m0\u001b[39m]\n",
      "\u001b[0;31mValueError\u001b[0m: matmul: Input operand 1 does not have enough dimensions (has 0, gufunc core with signature (n?,k),(k,m?)->(n?,m?) requires 1)"
     ]
    }
   ],
   "source": [
    "np.identity(4)@Ps[0]#[i, 3]"
   ]
  },
  {
   "cell_type": "code",
   "execution_count": null,
   "metadata": {},
   "outputs": [],
   "source": []
  },
  {
   "cell_type": "code",
   "execution_count": 28,
   "metadata": {},
   "outputs": [
    {
     "ename": "IndentationError",
     "evalue": "unexpected indent (3852645994.py, line 2)",
     "output_type": "error",
     "traceback": [
      "\u001b[0;36m  Cell \u001b[0;32mIn[28], line 2\u001b[0;36m\u001b[0m\n\u001b[0;31m    @ self.eigenvalue_matrix(eigenvals=self.Qs[0].eigenvalues,\u001b[0m\n\u001b[0m    ^\u001b[0m\n\u001b[0;31mIndentationError\u001b[0m\u001b[0;31m:\u001b[0m unexpected indent\n"
     ]
    }
   ],
   "source": [
    "np.identity(4)[i, 0:3] @ self.diagonal_matrix_mult(self.Qs[0].eigenvectors, self.Qs[0].eigenvectors_inv)[0:3, 0:3]\n",
    "                  @ self.eigenvalue_matrix(eigenvals=self.Qs[0].eigenvalues,\n",
    "                                           start_time=0, end_time=self.taus[0])\n",
    "                                           + (1 - (np.identity(4)@self.Ps[0])[i, 3])\n",
    "                                           * self.eigenvalue_matrix(eigenvals=[1/self.thetas[0]]*3,\n",
    "                                                                    start_time=self.taus[0], end_time=None)"
   ]
  },
  {
   "cell_type": "code",
   "execution_count": 26,
   "metadata": {},
   "outputs": [],
   "source": [
    "params = [1,1,1,1,1,1,1,0,0,0,0]\n",
    "S = np.ones(shape=(3, 10))\n",
    "epochs = [\n",
    "    Epoch(id=0, allow_migration=False),\n",
    "    Epoch(id=1, allow_migration=True),\n",
    "    Epoch(id=2, allow_migration=True)\n",
    "]\n",
    "\n",
    "lm = LikelihoodMatrix(params, S, epochs)\n",
    "\n",
    "taus = lm.taus\n",
    "Qs = lm.Qs\n",
    "Ps = lm.Ps"
   ]
  },
  {
   "cell_type": "code",
   "execution_count": 45,
   "metadata": {},
   "outputs": [
    {
     "data": {
      "text/plain": [
       "array([[0.91648388, 0.85566261, 0.59794684, 0.33200733, 0.1607168 ,\n",
       "        0.07336407, 0.03340336, 0.01559936, 0.00749733, 0.0036774 ],\n",
       "       [0.91648388, 0.85566261, 0.59794684, 0.33200733, 0.1607168 ,\n",
       "        0.07336407, 0.03340336, 0.01559936, 0.00749733, 0.0036774 ],\n",
       "       [0.18393972, 0.27590958, 0.22992465, 0.14561895, 0.08047363,\n",
       "        0.04176964, 0.02114029, 0.01060664, 0.00530788, 0.00265445]])"
      ]
     },
     "execution_count": 45,
     "metadata": {},
     "output_type": "execute_result"
    }
   ],
   "source": [
    "i = 2\n",
    "(diagonal_matrix_mult(Qs[0].eigenvectors, Qs[0].eigenvectors_inv)[0:3, 0:3]\n",
    "            @ eigenvalue_matrix(eigenvals=Qs[0].eigenvalues, start_time=0, end_time=taus[1])\n",
    "            + Ps[0][i, 0:3]\n",
    "            @ diagonal_matrix_mult(Qs[1].eigenvectors, Qs[1].eigenvectors_inv)[0:3, 0:3]\n",
    "            @ eigenvalue_matrix(eigenvals=Qs[1].eigenvalues, start_time=taus[1], end_time=taus[0])\n",
    "            + (1 - (Ps[0].matrix@Ps[1].matrix)[i, 3])\n",
    "            * eigenvalue_matrix(eigenvals=[-1/thetas[0]], start_time=taus[0], end_time=None))"
   ]
  },
  {
   "cell_type": "code",
   "execution_count": 48,
   "metadata": {},
   "outputs": [
    {
     "data": {
      "text/plain": [
       "array([[0.73254416, 0.57975303, 0.36802219, 0.18638838, 0.08024317,\n",
       "        0.03159442, 0.01226306, 0.00499272, 0.00218945, 0.00102295],\n",
       "       [0.73254416, 0.57975303, 0.36802219, 0.18638838, 0.08024317,\n",
       "        0.03159442, 0.01226306, 0.00499272, 0.00218945, 0.00102295],\n",
       "       [0.        , 0.        , 0.        , 0.        , 0.        ,\n",
       "        0.        , 0.        , 0.        , 0.        , 0.        ]])"
      ]
     },
     "execution_count": 48,
     "metadata": {},
     "output_type": "execute_result"
    }
   ],
   "source": [
    "diagonal_matrix_mult(Qs[0].eigenvectors, Qs[0].eigenvectors_inv)[0:3, 0:3] @ eigenvalue_matrix(eigenvals=Qs[0].eigenvalues, start_time=0, end_time=taus[1])"
   ]
  },
  {
   "cell_type": "code",
   "execution_count": 46,
   "metadata": {},
   "outputs": [
    {
     "data": {
      "text/plain": [
       "array([0., 0., 0., 0., 0., 0., 0., 0., 0., 0.])"
      ]
     },
     "execution_count": 46,
     "metadata": {},
     "output_type": "execute_result"
    }
   ],
   "source": [
    "Ps[0][i, 0:3] @ diagonal_matrix_mult(Qs[1].eigenvectors, Qs[1].eigenvectors_inv)[0:3, 0:3] @ eigenvalue_matrix(eigenvals=Qs[1].eigenvalues, start_time=taus[1], end_time=taus[0])"
   ]
  },
  {
   "cell_type": "code",
   "execution_count": 39,
   "metadata": {},
   "outputs": [
    {
     "data": {
      "text/plain": [
       "array([[ 0.36466472, -0.15600585, -0.55167642, -0.79462346, -0.91609698,\n",
       "        -0.96781139, -0.98765369, -0.99499703, -0.99780943, -0.99897694],\n",
       "       [ 0.36466472, -0.15600585, -0.55167642, -0.79462346, -0.91609698,\n",
       "        -0.96781139, -0.98765369, -0.99499703, -0.99780943, -0.99897694],\n",
       "       [-0.36787944, -0.73575888, -0.9196986 , -0.98101184, -0.99634015,\n",
       "        -0.99940582, -0.99991676, -0.99998975, -0.99999887, -0.99999989]])"
      ]
     },
     "execution_count": 39,
     "metadata": {},
     "output_type": "execute_result"
    }
   ],
   "source": [
    "eigenvalue_matrix(eigenvals=Qs[0].eigenvalues, start_time=0, end_time=taus[1])"
   ]
  }
 ],
 "metadata": {
  "kernelspec": {
   "display_name": "dismal",
   "language": "python",
   "name": "python3"
  },
  "language_info": {
   "codemirror_mode": {
    "name": "ipython",
    "version": 3
   },
   "file_extension": ".py",
   "mimetype": "text/x-python",
   "name": "python",
   "nbconvert_exporter": "python",
   "pygments_lexer": "ipython3",
   "version": "3.11.3"
  },
  "orig_nbformat": 4
 },
 "nbformat": 4,
 "nbformat_minor": 2
}
