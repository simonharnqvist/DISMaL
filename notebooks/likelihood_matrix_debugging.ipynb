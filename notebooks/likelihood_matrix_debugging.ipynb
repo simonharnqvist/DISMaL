{
 "cells": [
  {
   "cell_type": "code",
   "execution_count": 1,
   "metadata": {},
   "outputs": [
    {
     "name": "stdout",
     "output_type": "stream",
     "text": [
      "Obtaining file:///Users/s2341012/Library/CloudStorage/Dropbox/DISMaL_chapter/DISMaL\n",
      "  Preparing metadata (setup.py) ... \u001b[?25ldone\n",
      "\u001b[?25hInstalling collected packages: dismal\n",
      "  Attempting uninstall: dismal\n",
      "    Found existing installation: dismal 0.1\n",
      "    Uninstalling dismal-0.1:\n",
      "      Successfully uninstalled dismal-0.1\n",
      "  Running setup.py develop for dismal\n",
      "Successfully installed dismal-0.1\n"
     ]
    }
   ],
   "source": [
    "! pip install -e .."
   ]
  },
  {
   "cell_type": "code",
   "execution_count": 2,
   "metadata": {},
   "outputs": [],
   "source": [
    "from dismal.infer import DivergenceModel\n",
    "from dismal.demography import Epoch\n",
    "import numpy as np\n",
    "import matplotlib.pyplot as plt\n",
    "from dismal.markov_matrices import TransitionRateMatrix, StochasticMatrix"
   ]
  },
  {
   "cell_type": "code",
   "execution_count": 3,
   "metadata": {},
   "outputs": [],
   "source": [
    "S = [np.ones(10)]*3"
   ]
  },
  {
   "cell_type": "code",
   "execution_count": 4,
   "metadata": {},
   "outputs": [],
   "source": [
    "mod = DivergenceModel(epochs=3, allow_migration=True)"
   ]
  },
  {
   "cell_type": "code",
   "execution_count": 5,
   "metadata": {},
   "outputs": [
    {
     "name": "stdout",
     "output_type": "stream",
     "text": [
      "[[9.99998844e-01 2.42735594e-01 5.89152024e-02 1.42940181e-02\n",
      "  3.46388455e-03 8.36945671e-04 2.01015934e-04 4.77781815e-05\n",
      "  1.11760798e-05 2.55743911e-06]\n",
      " [9.99986375e-01 2.04145648e-01 4.16467271e-02 8.47622879e-03\n",
      "  1.71512729e-03 3.43081704e-04 6.73386695e-05 1.28630484e-05\n",
      "  2.37298821e-06 4.20112816e-07]\n",
      " [9.99848164e-01 8.19054553e-02 6.67900133e-03 5.38366829e-04\n",
      "  4.24488949e-05 3.23502721e-06 2.35676227e-07 1.62733557e-08\n",
      "  1.05911588e-09 6.47788074e-11]]\n",
      "nan\n",
      "[[9.99998844e-01 2.42735594e-01 5.89152024e-02 1.42940181e-02\n",
      "  3.46388455e-03 8.36945671e-04 2.01015934e-04 4.77781815e-05\n",
      "  1.11760798e-05 2.55743911e-06]\n",
      " [9.99986375e-01 2.04145648e-01 4.16467271e-02 8.47622879e-03\n",
      "  1.71512729e-03 3.43081704e-04 6.73386695e-05 1.28630484e-05\n",
      "  2.37298821e-06 4.20112816e-07]\n",
      " [9.99848164e-01 8.19054553e-02 6.67900133e-03 5.38366829e-04\n",
      "  4.24488949e-05 3.23502721e-06 2.35676227e-07 1.62733557e-08\n",
      "  1.05911588e-09 6.47788074e-11]]\n",
      "nan\n",
      "[[9.99998844e-01 2.42735594e-01 5.89152024e-02 1.42940181e-02\n",
      "  3.46388455e-03 8.36945671e-04 2.01015934e-04 4.77781815e-05\n",
      "  1.11760798e-05 2.55743911e-06]\n",
      " [9.99986375e-01 2.04145648e-01 4.16467271e-02 8.47622879e-03\n",
      "  1.71512729e-03 3.43081704e-04 6.73386695e-05 1.28630484e-05\n",
      "  2.37298821e-06 4.20112816e-07]\n",
      " [9.99848164e-01 8.19054553e-02 6.67900133e-03 5.38366829e-04\n",
      "  4.24488949e-05 3.23502721e-06 2.35676227e-07 1.62733557e-08\n",
      "  1.05911588e-09 6.47788074e-11]]\n",
      "nan\n"
     ]
    },
    {
     "name": "stderr",
     "output_type": "stream",
     "text": [
      "/Users/s2341012/Library/CloudStorage/Dropbox/DISMaL_chapter/DISMaL/dismal/infer.py:165: RuntimeWarning: invalid value encountered in scalar power\n",
      "  A[lmbda_idx, sval] = ((lmbda/(lmbda+1) * (1/(lmbda+1)))\n"
     ]
    },
    {
     "data": {
      "text/plain": [
       "nan"
      ]
     },
     "execution_count": 5,
     "metadata": {},
     "output_type": "execute_result"
    }
   ],
   "source": [
    "mod.log_likelihood_3_epoch(params=[3, 2, 4, 3, 6, 8, 4, 0.2/4, 0.4/2, 0.04/6, 0.08/3], S=np.ones(shape=(3,10)))"
   ]
  },
  {
   "cell_type": "code",
   "execution_count": 6,
   "metadata": {},
   "outputs": [],
   "source": [
    "params=[3, 2, 4, 3, 6, 8, 4, 0.2/4, 0.4/2, 0.04/6, 0.08/3]\n",
    "S=np.ones(shape=(3,10))"
   ]
  },
  {
   "cell_type": "code",
   "execution_count": 7,
   "metadata": {},
   "outputs": [],
   "source": [
    "thetas = params[0:4]\n",
    "tau1 = params[5]\n",
    "v = params[6]\n",
    "tau0 = params[5] + params[6]\n",
    "Ms_iter = iter(params[7:])"
   ]
  },
  {
   "cell_type": "code",
   "execution_count": 8,
   "metadata": {},
   "outputs": [],
   "source": [
    "epochs = [Epoch(id=0, allow_migration=False), Epoch(id=1, allow_migration=True), Epoch(id=2, allow_migration=True)]"
   ]
  },
  {
   "cell_type": "code",
   "execution_count": 9,
   "metadata": {},
   "outputs": [],
   "source": [
    "Q1 = TransitionRateMatrix(thetas=thetas[0:2], ms=[next(Ms_iter) for _ in range(epochs[1].n_m_params)])\n",
    "Q2 = TransitionRateMatrix(thetas=thetas[2:4], ms=[next(Ms_iter) for _ in range(epochs[2].n_m_params)])\n",
    "\n",
    "GG = -Q1.eigenvectors_inv @ np.diag(Q1.eigenvectors[:,-1])\n",
    "CC = -Q2.eigenvectors_inv @ np.diag(Q2.eigenvectors[:,-1])\n",
    "\n",
    "P1 = StochasticMatrix(Q1.eigenvectors, Q1.eigenvectors_inv, Q1.eigenvalues, t=tau1)\n",
    "P2 = StochasticMatrix(Q2.eigenvectors, Q2.eigenvectors_inv, Q2.eigenvalues, t=v)\n"
   ]
  },
  {
   "cell_type": "code",
   "execution_count": 44,
   "metadata": {},
   "outputs": [],
   "source": [
    "eigvals = [-Q1.eigenvalues[0:3], -Q2.eigenvalues[0:3], np.array([1/params[0]])]\n",
    "times = [0, tau1, tau0, None]"
   ]
  },
  {
   "cell_type": "code",
   "execution_count": 45,
   "metadata": {},
   "outputs": [],
   "source": [
    "A, B, C = [DivergenceModel.eigenvalue_transform(lmbdas=eigvals[i], s=S[2], start_time=times[i], end_time=times[i+1])\n",
    "                                 for i in range(3)]"
   ]
  },
  {
   "cell_type": "code",
   "execution_count": 54,
   "metadata": {},
   "outputs": [
    {
     "data": {
      "text/plain": [
       "array([[5.26990571e-008, 1.81746537e-046, 3.14484759e-085,\n",
       "        3.64167718e-124, 3.17619375e-163, 2.22666597e-202,\n",
       "        1.30772556e-241, 6.62225179e-281, 2.95401850e-320,\n",
       "        0.00000000e+000]])"
      ]
     },
     "execution_count": 54,
     "metadata": {},
     "output_type": "execute_result"
    }
   ],
   "source": [
    "state_idx = 2\n",
    "#(np.transpose(GG[state_idx, 0:3]) @ A )\n",
    "# + P1[state_idx, 0:3] @ np.transpose(CC[0:3, 0:3]) @ B\n",
    "#+ (1 - ((P1.matrix @ P2.matrix)[state_idx, -1])) * C"
   ]
  },
  {
   "cell_type": "code",
   "execution_count": 50,
   "metadata": {},
   "outputs": [
    {
     "data": {
      "text/plain": [
       "array([-0.0327304 , -0.26258613,  1.29531653])"
      ]
     },
     "execution_count": 50,
     "metadata": {},
     "output_type": "execute_result"
    }
   ],
   "source": [
    "np.transpose(GG[state_idx, 0:3])"
   ]
  }
 ],
 "metadata": {
  "kernelspec": {
   "display_name": "dismal",
   "language": "python",
   "name": "python3"
  },
  "language_info": {
   "codemirror_mode": {
    "name": "ipython",
    "version": 3
   },
   "file_extension": ".py",
   "mimetype": "text/x-python",
   "name": "python",
   "nbconvert_exporter": "python",
   "pygments_lexer": "ipython3",
   "version": "3.11.3"
  },
  "orig_nbformat": 4
 },
 "nbformat": 4,
 "nbformat_minor": 2
}
