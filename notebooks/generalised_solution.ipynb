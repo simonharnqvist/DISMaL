{
 "cells": [
  {
   "cell_type": "code",
   "execution_count": 51,
   "metadata": {},
   "outputs": [],
   "source": [
    "import itertools\n",
    "import numpy as np\n",
    "import math"
   ]
  },
  {
   "attachments": {},
   "cell_type": "markdown",
   "metadata": {},
   "source": [
    "Diagonal"
   ]
  },
  {
   "cell_type": "code",
   "execution_count": 203,
   "metadata": {},
   "outputs": [
    {
     "data": {
      "text/plain": [
       "array(['AB', 'BA'], dtype='<U2')"
      ]
     },
     "execution_count": 203,
     "metadata": {},
     "output_type": "execute_result"
    }
   ],
   "source": [
    "# input: migration rate matrix\n",
    "# for two-pop, use anti-diagonal\n",
    "migmat = np.array([[\"AA\", \"AB\"], [\"BA\", \"BB\"]])\n",
    "np.diagonal(np.fliplr(migmat))"
   ]
  },
  {
   "cell_type": "code",
   "execution_count": 46,
   "metadata": {},
   "outputs": [],
   "source": [
    "def q_diagonal(popsizes, migration_rates):\n",
    "    assert len(popsizes) == len(migration_rates)\n",
    "\n",
    "    mig_rate_combinations = list(itertools.combinations(migration_rates, 2))\n",
    "\n",
    "    diagonal =  ([-(1/popsizes[i] + migration_rates[i]) for i in range(len(popsizes))] \n",
    "                 + [-(sum(mig_rate_combinations[i])/2) for i in range(len(mig_rate_combinations))] \n",
    "                 + [0])\n",
    "\n",
    "    return np.diag(diagonal)\n"
   ]
  },
  {
   "cell_type": "code",
   "execution_count": 50,
   "metadata": {},
   "outputs": [
    {
     "data": {
      "text/plain": [
       "array([[-1.5 ,  0.  ,  0.  ,  0.  ],\n",
       "       [ 0.  , -1.  ,  0.  ,  0.  ],\n",
       "       [ 0.  ,  0.  , -0.25,  0.  ],\n",
       "       [ 0.  ,  0.  ,  0.  ,  0.  ]])"
      ]
     },
     "execution_count": 50,
     "metadata": {},
     "output_type": "execute_result"
    }
   ],
   "source": [
    "q = q_diagonal([1,1], [0.5,0])\n",
    "q"
   ]
  },
  {
   "attachments": {},
   "cell_type": "markdown",
   "metadata": {},
   "source": [
    "Migration rate matrix"
   ]
  },
  {
   "cell_type": "code",
   "execution_count": 272,
   "metadata": {},
   "outputs": [
    {
     "data": {
      "text/plain": [
       "array([['AA', 'AB', 'AC', 'AD', 'AE'],\n",
       "       ['BA', 'BB', 'BC', 'BD', 'BE'],\n",
       "       ['CA', 'CB', 'CC', 'CD', 'CE'],\n",
       "       ['DA', 'DB', 'DC', 'DD', 'DE'],\n",
       "       ['EA', 'EB', 'EC', 'ED', 'EE']], dtype='<U2')"
      ]
     },
     "execution_count": 272,
     "metadata": {},
     "output_type": "execute_result"
    }
   ],
   "source": [
    "migmat = np.array(\n",
    "    [\n",
    "        [\"AA\", \"AB\", \"AC\", \"AD\", \"AE\"],\n",
    "        [\"BA\", \"BB\", \"BC\", \"BD\", \"BE\"],\n",
    "        [\"CA\", \"CB\", \"CC\", \"CD\", \"CE\"],\n",
    "        [\"DA\", \"DB\", \"DC\", \"DD\", \"DE\"],\n",
    "        [\"EA\", \"EB\", \"EC\", \"ED\", \"EE\"]\n",
    "    ]\n",
    ")\n",
    "\n",
    "migmat"
   ]
  },
  {
   "cell_type": "code",
   "execution_count": 273,
   "metadata": {},
   "outputs": [
    {
     "data": {
      "text/plain": [
       "array([['AB', 'BA']], dtype='<U2')"
      ]
     },
     "execution_count": 273,
     "metadata": {},
     "output_type": "execute_result"
    }
   ],
   "source": [
    "# two pops\n",
    "qm2 = np.array([\n",
    "    [migmat[0,1],\n",
    "     migmat[1,0]]\n",
    "])\n",
    "\n",
    "qm2"
   ]
  },
  {
   "cell_type": "code",
   "execution_count": 274,
   "metadata": {},
   "outputs": [
    {
     "data": {
      "text/plain": [
       "array([['AB', 'AC', '0'],\n",
       "       ['BA', '0', 'BC'],\n",
       "       ['0', 'CA', 'CB']], dtype='<U21')"
      ]
     },
     "execution_count": 274,
     "metadata": {},
     "output_type": "execute_result"
    }
   ],
   "source": [
    "# three pops\n",
    "qm3 = np.array([\n",
    "    [migmat[0,1], migmat[0,2], 0],\n",
    "    [migmat[1,0], 0, migmat[1,2]],\n",
    "    [0, migmat[2,0], migmat[2,1]]\n",
    "])\n",
    "\n",
    "qm3"
   ]
  },
  {
   "cell_type": "code",
   "execution_count": 275,
   "metadata": {},
   "outputs": [],
   "source": [
    "d_matrix_diag = [migmat[0,3], migmat[1,3], migmat[2,3]]\n",
    "d_matrix_bottom = [migmat[3,0], migmat[3,1], migmat[3,2]]\n",
    "\n",
    "d = np.diag(d_matrix_diag)\n",
    "d = np.r_[d, [d_matrix_bottom]]"
   ]
  },
  {
   "cell_type": "code",
   "execution_count": 285,
   "metadata": {},
   "outputs": [],
   "source": [
    "def deme_submatrix(migmat, deme_index):\n",
    "    qm = np.diag([migmat[i, deme_index] for i in range(deme_index)])\n",
    "    bottom = [migmat[deme_index, i] for i in range(deme_index)]\n",
    "\n",
    "    qm = np.r_[qm, [bottom]]\n",
    "    return qm\n",
    "\n"
   ]
  },
  {
   "cell_type": "code",
   "execution_count": 334,
   "metadata": {},
   "outputs": [],
   "source": [
    "def qmig_submatrices(migmat, n_pops):\n",
    "\n",
    "    submatrices = []\n",
    "\n",
    "    for deme_idx in range(n_pops-1):\n",
    "        m = deme_submatrix(migmat, deme_idx+1)\n",
    "        submatrices.append(m)\n",
    "\n",
    "    return submatrices"
   ]
  },
  {
   "cell_type": "code",
   "execution_count": 335,
   "metadata": {},
   "outputs": [],
   "source": [
    "def pad_submatrices(submatrices):\n",
    "    max_shape = submatrices[-1].shape\n",
    "\n",
    "    padded = [np.pad(submat, ((0, max_shape[0]-submat.shape[0]),\n",
    "                        (0, 0)),\n",
    "                        'constant', constant_values=0) for submat in submatrices]\n",
    "    \n",
    "    return padded"
   ]
  },
  {
   "cell_type": "code",
   "execution_count": 336,
   "metadata": {},
   "outputs": [],
   "source": [
    "def qmig(migmat, n_pops):\n",
    "    \"\"\"Generate submatrix that describes migration rates in terms of a generator matrix\"\"\"\n",
    "    submatrices = qmig_submatrices(migmat, n_pops)\n",
    "    padded_submatrices = pad_submatrices(submatrices)\n",
    "    return np.concatenate(pad_submatrices(submatrices), axis=1)\n",
    "    "
   ]
  },
  {
   "cell_type": "code",
   "execution_count": 340,
   "metadata": {},
   "outputs": [
    {
     "data": {
      "text/plain": [
       "array([['AB', 'AC', '', 'AD', '', ''],\n",
       "       ['BA', '', 'BC', '', 'BD', ''],\n",
       "       ['0', 'CA', 'CB', '', '', 'CD'],\n",
       "       ['0', '0', '0', 'DA', 'DB', 'DC']], dtype='<U2')"
      ]
     },
     "execution_count": 340,
     "metadata": {},
     "output_type": "execute_result"
    }
   ],
   "source": [
    "qmig(migmat, 4)"
   ]
  },
  {
   "cell_type": "code",
   "execution_count": null,
   "metadata": {},
   "outputs": [],
   "source": []
  },
  {
   "attachments": {},
   "cell_type": "markdown",
   "metadata": {},
   "source": [
    "Complementary migration matrix"
   ]
  },
  {
   "cell_type": "code",
   "execution_count": 347,
   "metadata": {},
   "outputs": [
    {
     "data": {
      "text/plain": [
       "array([['AB', 'AC', ''],\n",
       "       ['BA', '', 'BC'],\n",
       "       ['0', 'CA', 'CB']], dtype='<U2')"
      ]
     },
     "execution_count": 347,
     "metadata": {},
     "output_type": "execute_result"
    }
   ],
   "source": [
    "qmig(migmat, 3)"
   ]
  },
  {
   "attachments": {},
   "cell_type": "markdown",
   "metadata": {},
   "source": []
  }
 ],
 "metadata": {
  "kernelspec": {
   "display_name": "dismal",
   "language": "python",
   "name": "python3"
  },
  "language_info": {
   "codemirror_mode": {
    "name": "ipython",
    "version": 3
   },
   "file_extension": ".py",
   "mimetype": "text/x-python",
   "name": "python",
   "nbconvert_exporter": "python",
   "pygments_lexer": "ipython3",
   "version": "3.11.3"
  },
  "orig_nbformat": 4
 },
 "nbformat": 4,
 "nbformat_minor": 2
}
