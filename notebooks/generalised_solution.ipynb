{
 "cells": [
  {
   "cell_type": "code",
   "execution_count": 3,
   "metadata": {},
   "outputs": [],
   "source": [
    "import itertools\n",
    "import numpy as np\n",
    "import math\n",
    "from dismal import generator_matrices_ext\n",
    "from scipy.stats import poisson\n",
    "from dismal.generator_matrices import GeneratorMatrix\n",
    "from dismal.likelihood_matrix import LikelihoodMatrix\n",
    "from scipy import linalg"
   ]
  },
  {
   "attachments": {},
   "cell_type": "markdown",
   "metadata": {},
   "source": [
    "Define generator matrices"
   ]
  },
  {
   "cell_type": "code",
   "execution_count": 4,
   "metadata": {},
   "outputs": [],
   "source": [
    "mig_mat1 = np.array(\n",
    "    [\n",
    "        [0, 0.1],\n",
    "        [0.1, 0]\n",
    "    ]\n",
    ")\n",
    "\n",
    "\n",
    "popsizes1 = [1, 1]\n",
    "\n",
    "np.set_printoptions(precision=3)\n",
    "q1 = generator_matrices_ext.q(mig_mat1, popsizes1)"
   ]
  },
  {
   "cell_type": "code",
   "execution_count": 5,
   "metadata": {},
   "outputs": [],
   "source": [
    "mig_mat2 = np.array(\n",
    "    [\n",
    "        [0, 0],\n",
    "        [0, 0]\n",
    "    ]\n",
    ")\n",
    "\n",
    "\n",
    "popsizes2 = [1, 1]\n",
    "\n",
    "np.set_printoptions(precision=3)\n",
    "q2 = generator_matrices_ext.q(mig_mat2, popsizes2)"
   ]
  },
  {
   "cell_type": "code",
   "execution_count": 6,
   "metadata": {},
   "outputs": [
    {
     "data": {
      "text/plain": [
       "array([[-1.,  0.,  0.,  1.],\n",
       "       [ 0., -1.,  0.,  1.],\n",
       "       [ 0.,  0.,  0.,  0.],\n",
       "       [ 0.,  0.,  0.,  0.]])"
      ]
     },
     "execution_count": 6,
     "metadata": {},
     "output_type": "execute_result"
    }
   ],
   "source": [
    "q2"
   ]
  },
  {
   "cell_type": "code",
   "execution_count": 7,
   "metadata": {},
   "outputs": [
    {
     "data": {
      "text/plain": [
       "array([[-1,  0,  0,  1],\n",
       "       [ 0, -1,  0,  1],\n",
       "       [ 0,  0, -1,  1],\n",
       "       [ 0,  0,  0,  0]])"
      ]
     },
     "execution_count": 7,
     "metadata": {},
     "output_type": "execute_result"
    }
   ],
   "source": [
    "q3 = np.array(\n",
    "    [[-1, 0, 0, 1],\n",
    "    [0, -1, 0, 1],\n",
    "    [0, 0, -1, 1],\n",
    "    [0, 0, 0, 0]]\n",
    ")\n",
    "\n",
    "q3"
   ]
  },
  {
   "cell_type": "code",
   "execution_count": 8,
   "metadata": {},
   "outputs": [],
   "source": [
    "def matrix_multiplication(matrices):\n",
    "    m = matrices[0]\n",
    "    for i in range(1, len(matrices)):\n",
    "        m = m @ matrices[i]\n",
    "    \n",
    "    return m"
   ]
  },
  {
   "cell_type": "code",
   "execution_count": 9,
   "metadata": {},
   "outputs": [],
   "source": [
    "def alpha_matrix(eigenvals, s_vals, t_start, t_end):\n",
    "    \"\"\"Results are identical to old implementation\"\"\"\n",
    "\n",
    "    eigenvals = np.array(eigenvals)\n",
    "    s_vals = np.array(s_vals)\n",
    "\n",
    "    if t_end is not None:\n",
    "\n",
    "        alphas = [eigenvals/(eigenvals+1) * (1/(eigenvals+1))**s\n",
    "              * np.exp(eigenvals * t_start)\n",
    "              * (poisson.cdf(s, t_start * (eigenvals+1)) \n",
    "                 - poisson.cdf(s, t_end * (eigenvals+1))) for s in s_vals] \n",
    "    \n",
    "    else:\n",
    "        alphas = [eigenvals/(eigenvals+1) * (1/(eigenvals+1))**s\n",
    "              * np.exp(eigenvals * t_start)\n",
    "              * poisson.cdf(s, t_start * (eigenvals+1)) for s in s_vals] \n",
    "    \n",
    "    return np.transpose(alphas)"
   ]
  },
  {
   "cell_type": "code",
   "execution_count": 10,
   "metadata": {},
   "outputs": [],
   "source": [
    "q1, q2 = GeneratorMatrix.from_params([1,1,1,1,1,1,1,0.1,0.1,0.1,0.1])\n",
    "\n",
    "eigenvectors = [q1.eigenvectors, q2.eigenvectors]\n",
    "eigenvalues = [-q1.eigenvalues[0:3], -q2.eigenvalues[0:3]]"
   ]
  },
  {
   "cell_type": "code",
   "execution_count": 11,
   "metadata": {},
   "outputs": [],
   "source": [
    "def generalised_likelihood_2pop(X, lmbda, P, gamma, t_vals, s_vals):\n",
    "\n",
    "    \"\"\"X = eigenvectors, lmbda=eigenvalues, P=P matrices. Need to adjust indices for additional populations.\"\"\"\n",
    "\n",
    "    n_matrices = len(X)\n",
    "    assert n_matrices == len(lmbda)\n",
    "    assert n_matrices == len(P)\n",
    "\n",
    "    likelihoods = []\n",
    "\n",
    "    XX = [linalg.inv(x) @ np.diag(x[:, 3]) for x in X]\n",
    "    \n",
    "    for i in [0,1,2]:\n",
    "        most_recent = (XX[0][i, 0:3] \n",
    "                       @ alpha_matrix(lmbda[0], s_vals, t_start=0, t_end=t_vals[0]))\n",
    "\n",
    "\n",
    "        middle = ([P[n-1][i, 0:3] \n",
    "                   @ XX[n][0:3, 0:3] \n",
    "                   @ alpha_matrix(lmbda[n], s_vals, t_start=t_vals[n-1], t_end=t_vals[n]) \n",
    "                   for n in range(1, n_matrices)])\n",
    "        \n",
    "\n",
    "        most_ancient = (1 - matrix_multiplication(P)[i,3] \n",
    "                        * alpha_matrix(gamma, s_vals, t_start=t_vals[-1], t_end=None))\n",
    "\n",
    "        \n",
    "        state_likelihood = most_recent + middle + most_ancient\n",
    "        likelihoods.append(state_likelihood)\n",
    "    \n",
    "\n",
    "    return np.log(likelihoods)\n",
    "    "
   ]
  },
  {
   "cell_type": "code",
   "execution_count": 16,
   "metadata": {},
   "outputs": [],
   "source": [
    "p_matrices = [linalg.expm(x) for x in eigenvectors]"
   ]
  },
  {
   "cell_type": "code",
   "execution_count": 17,
   "metadata": {},
   "outputs": [
    {
     "name": "stderr",
     "output_type": "stream",
     "text": [
      "/var/folders/qk/10crn8pd5_d038f0tw_7z2800000gp/T/ipykernel_6837/3226956619.py:32: RuntimeWarning: invalid value encountered in log\n",
      "  return np.log(likelihoods)\n"
     ]
    },
    {
     "data": {
      "text/plain": [
       "array([[[ 0.383,  0.383,  0.383],\n",
       "        [ 0.383,  0.383,  0.383],\n",
       "        [ 0.383,  0.383,  0.383]],\n",
       "\n",
       "       [[   nan,    nan,    nan],\n",
       "        [   nan,    nan,    nan],\n",
       "        [   nan,    nan,    nan]],\n",
       "\n",
       "       [[-0.786, -0.786, -0.786],\n",
       "        [-0.786, -0.786, -0.786],\n",
       "        [-0.786, -0.786, -0.786]]])"
      ]
     },
     "execution_count": 17,
     "metadata": {},
     "output_type": "execute_result"
    }
   ],
   "source": [
    "generalised_likelihood_2pop(eigenvectors, eigenvalues, p_matrices, gamma=1, t_vals=[1,2], s_vals=np.array([[1,1,1], [1,1,1], [1,1,1]]))"
   ]
  },
  {
   "cell_type": "code",
   "execution_count": null,
   "metadata": {},
   "outputs": [],
   "source": []
  },
  {
   "attachments": {},
   "cell_type": "markdown",
   "metadata": {},
   "source": [
    "Comparison with existing DISMaL implementation"
   ]
  },
  {
   "cell_type": "code",
   "execution_count": 105,
   "metadata": {},
   "outputs": [],
   "source": [
    "lm = LikelihoodMatrix(params={\"theta0\":1, \"theta1\":1, \"theta2\":1, \"theta1_prime\":1, \"theta2_prime\":1, \"t1\":1, \"v\":1, \"M1_star\":0.1, \"M2_star\":0.1, \"M1_prime_star\":0.1, \"M2_prime_star\": 0.1}, S=np.array([[1,1,1], [1,1,1], [1,1,1]]))"
   ]
  },
  {
   "cell_type": "code",
   "execution_count": 112,
   "metadata": {},
   "outputs": [
    {
     "data": {
      "text/plain": [
       "13.980985964077146"
      ]
     },
     "execution_count": 112,
     "metadata": {},
     "output_type": "execute_result"
    }
   ],
   "source": [
    "np.sum(lm.matrix)"
   ]
  },
  {
   "cell_type": "code",
   "execution_count": null,
   "metadata": {},
   "outputs": [],
   "source": []
  }
 ],
 "metadata": {
  "kernelspec": {
   "display_name": "dismal",
   "language": "python",
   "name": "python3"
  },
  "language_info": {
   "codemirror_mode": {
    "name": "ipython",
    "version": 3
   },
   "file_extension": ".py",
   "mimetype": "text/x-python",
   "name": "python",
   "nbconvert_exporter": "python",
   "pygments_lexer": "ipython3",
   "version": "3.11.3"
  },
  "orig_nbformat": 4
 },
 "nbformat": 4,
 "nbformat_minor": 2
}
