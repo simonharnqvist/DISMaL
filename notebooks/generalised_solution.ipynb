{
 "cells": [
  {
   "cell_type": "code",
   "execution_count": 56,
   "metadata": {},
   "outputs": [],
   "source": [
    "import itertools\n",
    "import numpy as np\n",
    "import math\n",
    "from dismal import generator_matrices_ext\n",
    "from scipy.stats import poisson\n",
    "from dismal.generator_matrices import GeneratorMatrix\n",
    "from scipy import linalg"
   ]
  },
  {
   "attachments": {},
   "cell_type": "markdown",
   "metadata": {},
   "source": [
    "Define generator matrices"
   ]
  },
  {
   "cell_type": "code",
   "execution_count": 11,
   "metadata": {},
   "outputs": [],
   "source": [
    "mig_mat1 = np.array(\n",
    "    [\n",
    "        [0, 0.1],\n",
    "        [0.1, 0]\n",
    "    ]\n",
    ")\n",
    "\n",
    "\n",
    "popsizes1 = [1, 1]\n",
    "\n",
    "np.set_printoptions(precision=3)\n",
    "q1 = generator_matrices_ext.q(mig_mat1, popsizes1)"
   ]
  },
  {
   "cell_type": "code",
   "execution_count": 12,
   "metadata": {},
   "outputs": [],
   "source": [
    "mig_mat2 = np.array(\n",
    "    [\n",
    "        [0, 0],\n",
    "        [0, 0]\n",
    "    ]\n",
    ")\n",
    "\n",
    "\n",
    "popsizes2 = [1, 1]\n",
    "\n",
    "np.set_printoptions(precision=3)\n",
    "q2 = generator_matrices_ext.q(mig_mat2, popsizes2)"
   ]
  },
  {
   "cell_type": "code",
   "execution_count": 13,
   "metadata": {},
   "outputs": [
    {
     "data": {
      "text/plain": [
       "array([[-1.,  0.,  0.,  1.],\n",
       "       [ 0., -1.,  0.,  1.],\n",
       "       [ 0.,  0.,  0.,  0.],\n",
       "       [ 0.,  0.,  0.,  0.]])"
      ]
     },
     "execution_count": 13,
     "metadata": {},
     "output_type": "execute_result"
    }
   ],
   "source": [
    "q2"
   ]
  },
  {
   "cell_type": "code",
   "execution_count": 16,
   "metadata": {},
   "outputs": [
    {
     "data": {
      "text/plain": [
       "array([[-1,  0,  0,  1],\n",
       "       [ 0, -1,  0,  1],\n",
       "       [ 0,  0, -1,  1],\n",
       "       [ 0,  0,  0,  0]])"
      ]
     },
     "execution_count": 16,
     "metadata": {},
     "output_type": "execute_result"
    }
   ],
   "source": [
    "q3 = np.array(\n",
    "    [[-1, 0, 0, 1],\n",
    "    [0, -1, 0, 1],\n",
    "    [0, 0, -1, 1],\n",
    "    [0, 0, 0, 0]]\n",
    ")\n",
    "\n",
    "q3"
   ]
  },
  {
   "cell_type": "code",
   "execution_count": 79,
   "metadata": {},
   "outputs": [],
   "source": [
    "def matrix_multiplication(matrices):\n",
    "    m = matrices[0]\n",
    "    for i in range(1, len(matrices)):\n",
    "        m = m @ matrices[i]\n",
    "    \n",
    "    return m"
   ]
  },
  {
   "cell_type": "code",
   "execution_count": 89,
   "metadata": {},
   "outputs": [],
   "source": [
    "def generalised_likelihood(g_matrices, alphas, p_matrices, gamma):\n",
    "\n",
    "    n_epochs = len(g_matrices)\n",
    "    assert n_epochs == len(alphas)\n",
    "    assert n_epochs == len(p_matrices)\n",
    "\n",
    "    likelihoods = []\n",
    "    \n",
    "    for i in [0,1,2]:\n",
    "        most_recent = g_matrices[0][i, 0:3]@alphas[0] + p_matrices[0][i, 0:3]\n",
    "        middle = [g_matrices[n][i, 0:3]@alphas[n] + (1-matrix_multiplication(p_matrices[1:n])[i,3]) @ alphas[n] for n in range(1, n_epochs-1)]\n",
    "\n",
    "        print(most_recent, middle, gamma)\n",
    "        likelihoods[i] = most_recent @ middle * gamma \n",
    "    \n",
    "    return np.sum(likelihoods)\n",
    "    "
   ]
  },
  {
   "cell_type": "code",
   "execution_count": 90,
   "metadata": {},
   "outputs": [],
   "source": [
    "def alpha_matrix(alpha, s_vals, t_start, t_end):\n",
    "    return [alpha/(alpha+1) * (1/(alpha+1))**s \n",
    "            * np.exp(alpha * t_start)\n",
    "     * (poisson.cdf(s, t_start*(alpha+1)) \n",
    "        - poisson.cdf(s, t_end*(alpha+1))) for s in s_vals] "
   ]
  },
  {
   "attachments": {},
   "cell_type": "markdown",
   "metadata": {},
   "source": [
    "Trying first with working generator matrix implementation"
   ]
  },
  {
   "cell_type": "code",
   "execution_count": 91,
   "metadata": {},
   "outputs": [],
   "source": [
    "q1, q2 = GeneratorMatrix.from_params([1,1,1,1,1,2,0.1,0.1,0.1,0.1,0.1])"
   ]
  },
  {
   "cell_type": "code",
   "execution_count": 92,
   "metadata": {},
   "outputs": [],
   "source": [
    "eigenvectors = [q1.eigenvectors, q2.eigenvectors]\n",
    "eigenvalues = [-q1.eigenvalues[0:3], -q2.eigenvalues[0:3]]"
   ]
  },
  {
   "cell_type": "code",
   "execution_count": 93,
   "metadata": {},
   "outputs": [],
   "source": [
    "p_matrices = [linalg.expm(q.matrix) for q in [q1, q2]]"
   ]
  },
  {
   "cell_type": "code",
   "execution_count": 94,
   "metadata": {},
   "outputs": [
    {
     "name": "stdout",
     "output_type": "stream",
     "text": [
      "[1.287 0.955 1.011] [] 1\n"
     ]
    },
    {
     "ename": "ValueError",
     "evalue": "matmul: Input operand 1 has a mismatch in its core dimension 0, with gufunc signature (n?,k),(k,m?)->(n?,m?) (size 0 is different from 3)",
     "output_type": "error",
     "traceback": [
      "\u001b[0;31m---------------------------------------------------------------------------\u001b[0m",
      "\u001b[0;31mValueError\u001b[0m                                Traceback (most recent call last)",
      "Cell \u001b[0;32mIn[94], line 1\u001b[0m\n\u001b[0;32m----> 1\u001b[0m generalised_likelihood(eigenvectors, eigenvalues, p_matrices, gamma\u001b[39m=\u001b[39m\u001b[39m1\u001b[39m)\n",
      "Cell \u001b[0;32mIn[89], line 14\u001b[0m, in \u001b[0;36mgeneralised_likelihood\u001b[0;34m(g_matrices, alphas, p_matrices, gamma)\u001b[0m\n\u001b[1;32m     11\u001b[0m     middle \u001b[39m=\u001b[39m [g_matrices[n][i, \u001b[39m0\u001b[39m:\u001b[39m3\u001b[39m]\u001b[39m@alphas\u001b[39m[n] \u001b[39m+\u001b[39m (\u001b[39m1\u001b[39m\u001b[39m-\u001b[39mmatrix_multiplication(p_matrices[\u001b[39m1\u001b[39m:n])[i,\u001b[39m3\u001b[39m]) \u001b[39m@\u001b[39m alphas[n] \u001b[39mfor\u001b[39;00m n \u001b[39min\u001b[39;00m \u001b[39mrange\u001b[39m(\u001b[39m1\u001b[39m, n_epochs\u001b[39m-\u001b[39m\u001b[39m1\u001b[39m)]\n\u001b[1;32m     13\u001b[0m     \u001b[39mprint\u001b[39m(most_recent, middle, gamma)\n\u001b[0;32m---> 14\u001b[0m     likelihoods[i] \u001b[39m=\u001b[39m most_recent \u001b[39m@\u001b[39m middle \u001b[39m*\u001b[39m gamma \n\u001b[1;32m     16\u001b[0m \u001b[39mreturn\u001b[39;00m np\u001b[39m.\u001b[39msum(likelihoods)\n",
      "\u001b[0;31mValueError\u001b[0m: matmul: Input operand 1 has a mismatch in its core dimension 0, with gufunc signature (n?,k),(k,m?)->(n?,m?) (size 0 is different from 3)"
     ]
    }
   ],
   "source": [
    "generalised_likelihood(eigenvectors, eigenvalues, p_matrices, gamma=1)"
   ]
  },
  {
   "cell_type": "code",
   "execution_count": 99,
   "metadata": {},
   "outputs": [
    {
     "data": {
      "text/plain": [
       "-0.0070017369530878506"
      ]
     },
     "execution_count": 99,
     "metadata": {},
     "output_type": "execute_result"
    }
   ],
   "source": [
    "g_matrices = eigenvectors\n",
    "alphas = eigenvalues\n",
    "p_matrices = [linalg.expm(q.matrix) for q in [q1, q2]]\n",
    "n = 1\n",
    "i=1\n",
    "\n",
    "g_matrices[n][i, 0:3]@alphas[n] #+ (1-matrix_multiplication(p_matrices[0:n])[i, 3]) @ alphas[n] for n in range(1, n-1)]"
   ]
  },
  {
   "cell_type": "code",
   "execution_count": 87,
   "metadata": {},
   "outputs": [
    {
     "data": {
      "text/plain": [
       "[array([[0.334, 0.001, 0.057, 0.607],\n",
       "        [0.001, 0.334, 0.057, 0.607],\n",
       "        [0.029, 0.029, 0.908, 0.035],\n",
       "        [0.   , 0.   , 0.   , 1.   ]]),\n",
       " array([[0.334, 0.001, 0.057, 0.607],\n",
       "        [0.001, 0.334, 0.057, 0.607],\n",
       "        [0.029, 0.029, 0.908, 0.035],\n",
       "        [0.   , 0.   , 0.   , 1.   ]])]"
      ]
     },
     "execution_count": 87,
     "metadata": {},
     "output_type": "execute_result"
    }
   ],
   "source": [
    "p_matrices"
   ]
  },
  {
   "cell_type": "code",
   "execution_count": null,
   "metadata": {},
   "outputs": [],
   "source": []
  }
 ],
 "metadata": {
  "kernelspec": {
   "display_name": "dismal",
   "language": "python",
   "name": "python3"
  },
  "language_info": {
   "codemirror_mode": {
    "name": "ipython",
    "version": 3
   },
   "file_extension": ".py",
   "mimetype": "text/x-python",
   "name": "python",
   "nbconvert_exporter": "python",
   "pygments_lexer": "ipython3",
   "version": "3.11.3"
  },
  "orig_nbformat": 4
 },
 "nbformat": 4,
 "nbformat_minor": 2
}
