{
 "cells": [
  {
   "cell_type": "code",
   "execution_count": 1,
   "metadata": {},
   "outputs": [],
   "source": [
    "import itertools\n",
    "import numpy as np\n",
    "import math\n",
    "from dismal import generator_matrices_ext\n",
    "from scipy.stats import poisson\n",
    "from dismal.generator_matrices import GeneratorMatrix\n",
    "from dismal.likelihood_matrix import LikelihoodMatrix\n",
    "from scipy import linalg"
   ]
  },
  {
   "attachments": {},
   "cell_type": "markdown",
   "metadata": {},
   "source": [
    "Define generator matrices"
   ]
  },
  {
   "cell_type": "code",
   "execution_count": 2,
   "metadata": {},
   "outputs": [],
   "source": [
    "mig_mat1 = np.array(\n",
    "    [\n",
    "        [0, 0.1],\n",
    "        [0.1, 0]\n",
    "    ]\n",
    ")\n",
    "\n",
    "\n",
    "popsizes1 = [1, 1]\n",
    "\n",
    "np.set_printoptions(precision=3)\n",
    "q1 = generator_matrices_ext.q(mig_mat1, popsizes1)"
   ]
  },
  {
   "cell_type": "code",
   "execution_count": 3,
   "metadata": {},
   "outputs": [],
   "source": [
    "mig_mat2 = np.array(\n",
    "    [\n",
    "        [0, 0],\n",
    "        [0, 0]\n",
    "    ]\n",
    ")\n",
    "\n",
    "\n",
    "popsizes2 = [1, 1]\n",
    "\n",
    "np.set_printoptions(precision=3)\n",
    "q2 = generator_matrices_ext.q(mig_mat2, popsizes2)"
   ]
  },
  {
   "cell_type": "code",
   "execution_count": 4,
   "metadata": {},
   "outputs": [
    {
     "data": {
      "text/plain": [
       "array([[-1.,  0.,  0.,  1.],\n",
       "       [ 0., -1.,  0.,  1.],\n",
       "       [ 0.,  0.,  0.,  0.],\n",
       "       [ 0.,  0.,  0.,  0.]])"
      ]
     },
     "execution_count": 4,
     "metadata": {},
     "output_type": "execute_result"
    }
   ],
   "source": [
    "q2"
   ]
  },
  {
   "cell_type": "code",
   "execution_count": 5,
   "metadata": {},
   "outputs": [
    {
     "data": {
      "text/plain": [
       "array([[-1,  0,  0,  1],\n",
       "       [ 0, -1,  0,  1],\n",
       "       [ 0,  0, -1,  1],\n",
       "       [ 0,  0,  0,  0]])"
      ]
     },
     "execution_count": 5,
     "metadata": {},
     "output_type": "execute_result"
    }
   ],
   "source": [
    "q3 = np.array(\n",
    "    [[-1, 0, 0, 1],\n",
    "    [0, -1, 0, 1],\n",
    "    [0, 0, -1, 1],\n",
    "    [0, 0, 0, 0]]\n",
    ")\n",
    "\n",
    "q3"
   ]
  },
  {
   "cell_type": "code",
   "execution_count": 6,
   "metadata": {},
   "outputs": [],
   "source": [
    "def matrix_multiplication(matrices):\n",
    "    m = matrices[0]\n",
    "    for i in range(1, len(matrices)):\n",
    "        m = m @ matrices[i]\n",
    "    \n",
    "    return m"
   ]
  },
  {
   "cell_type": "code",
   "execution_count": 7,
   "metadata": {},
   "outputs": [],
   "source": [
    "def alpha_matrix(eigenvals, s_vals, t_start, t_end):\n",
    "    \"\"\"Results are identical to old implementation\"\"\"\n",
    "\n",
    "    eigenvals = np.array(eigenvals)\n",
    "    s_vals = np.array(s_vals)\n",
    "\n",
    "    alphas = [eigenvals/(eigenvals+1) * (1/(eigenvals+1))**s\n",
    "              * np.exp(eigenvals * t_start)\n",
    "              * (poisson.cdf(s, t_start * (eigenvals+1)) \n",
    "                 - poisson.cdf(s, t_end * (eigenvals+1))) for s in s_vals] \n",
    "    \n",
    "    return np.transpose(alphas)"
   ]
  },
  {
   "cell_type": "code",
   "execution_count": 59,
   "metadata": {},
   "outputs": [],
   "source": [
    "q1, q2 = GeneratorMatrix.from_params([1,1,1,1,1,1,1,0.1,0.1,0.1,0.1])\n",
    "\n",
    "eigenvectors = [q1.eigenvectors, q2.eigenvectors]\n",
    "eigenvalues = [-q1.eigenvalues[0:3], -q2.eigenvalues[0:3]]"
   ]
  },
  {
   "cell_type": "code",
   "execution_count": 63,
   "metadata": {},
   "outputs": [],
   "source": [
    "def generalised_likelihood(g_matrices, eigenvals, p_matrices, gamma, t_vals, s_vals):\n",
    "\n",
    "    n_matrices = len(g_matrices)\n",
    "    assert n_matrices == len(eigenvals)\n",
    "    assert n_matrices == len(p_matrices)\n",
    "\n",
    "    likelihoods = []\n",
    "    \n",
    "    for i in [0,1,2]:\n",
    "        most_recent = (g_matrices[0][i, 0:3] @ alpha_matrix(eigenvals[0], s_vals, t_start=0, t_end=t_vals[0])\n",
    "                       + p_matrices[0][i, 0:3])\n",
    "\n",
    "        middle = [g_matrices[n][0:3, 0:3] @ alpha_matrix(eigenvals[n], s_vals, t_start=t_vals[n-1], t_end=t_vals[n]) \n",
    "                   + (1-matrix_multiplication(p_matrices[0:n+1])[i,3]) for n in range(1, n_matrices)]\n",
    "        likelihoods.append(np.array(most_recent) @ np.array(middle) * gamma)\n",
    "    \n",
    "    return -np.log(likelihoods)\n",
    "    "
   ]
  },
  {
   "attachments": {},
   "cell_type": "markdown",
   "metadata": {},
   "source": [
    "Correct version is probably:\n",
    "G[n] * lambda[n]\n",
    "+ P[n] @ G[n+1] @ lambda[n+1]\n",
    "+ [...]\n",
    "+ (1-(G[n]@G[n+1]...)) * gamma"
   ]
  },
  {
   "attachments": {},
   "cell_type": "markdown",
   "metadata": {},
   "source": [
    "Trying first with working generator matrix implementation"
   ]
  },
  {
   "cell_type": "code",
   "execution_count": 64,
   "metadata": {},
   "outputs": [],
   "source": [
    "p_matrices = [linalg.expm(q.matrix) for q in [q1, q2]]"
   ]
  },
  {
   "cell_type": "code",
   "execution_count": 65,
   "metadata": {},
   "outputs": [
    {
     "data": {
      "text/plain": [
       "array([[[1.46 , 1.46 , 1.46 ]],\n",
       "\n",
       "       [[2.644, 2.644, 2.644]],\n",
       "\n",
       "       [[0.261, 0.261, 0.261]]])"
      ]
     },
     "execution_count": 65,
     "metadata": {},
     "output_type": "execute_result"
    }
   ],
   "source": [
    "generalised_likelihood(eigenvectors, eigenvalues, p_matrices, gamma=1, t_vals=[1,2], s_vals=np.array([[1,1,1], [1,1,1], [1,1,1]]))"
   ]
  },
  {
   "cell_type": "code",
   "execution_count": null,
   "metadata": {},
   "outputs": [],
   "source": []
  },
  {
   "attachments": {},
   "cell_type": "markdown",
   "metadata": {},
   "source": [
    "Comparison with existing DISMaL implementation"
   ]
  },
  {
   "cell_type": "code",
   "execution_count": 66,
   "metadata": {},
   "outputs": [],
   "source": [
    "lm = LikelihoodMatrix(params={\"theta0\":1, \"theta1\":1, \"theta2\":1, \"theta1_prime\":1, \"theta2_prime\":1, \"t1\":1, \"v\":1, \"M1_star\":0.1, \"M2_star\":0.1, \"M1_prime_star\":0.1, \"M2_prime_star\": 0.1}, S=np.array([[1,1,1], [1,1,1], [1,1,1]]))"
   ]
  },
  {
   "cell_type": "code",
   "execution_count": 67,
   "metadata": {},
   "outputs": [
    {
     "data": {
      "text/plain": [
       "[[0.728 1.418 2.06 ]\n",
       " [0.728 1.418 2.06 ]\n",
       " [2.355 1.689 1.525]]"
      ]
     },
     "execution_count": 67,
     "metadata": {},
     "output_type": "execute_result"
    }
   ],
   "source": [
    "np.sum(np.sum((lm)))"
   ]
  },
  {
   "cell_type": "code",
   "execution_count": null,
   "metadata": {},
   "outputs": [],
   "source": []
  }
 ],
 "metadata": {
  "kernelspec": {
   "display_name": "dismal",
   "language": "python",
   "name": "python3"
  },
  "language_info": {
   "codemirror_mode": {
    "name": "ipython",
    "version": 3
   },
   "file_extension": ".py",
   "mimetype": "text/x-python",
   "name": "python",
   "nbconvert_exporter": "python",
   "pygments_lexer": "ipython3",
   "version": "3.11.3"
  },
  "orig_nbformat": 4
 },
 "nbformat": 4,
 "nbformat_minor": 2
}
