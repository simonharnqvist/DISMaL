{
 "cells": [
  {
   "attachments": {},
   "cell_type": "markdown",
   "metadata": {},
   "source": [
    "Goal: simulate scenarios according to Costa & Wilkinson-Herbots 2021"
   ]
  },
  {
   "cell_type": "code",
   "execution_count": 27,
   "metadata": {},
   "outputs": [],
   "source": [
    "import msprime\n",
    "import numpy as np\n",
    "from collections import Counter\n",
    "from dismal.s_matrix import SMatrix\n",
    "from dismal.inference import DemographicModel"
   ]
  },
  {
   "attachments": {},
   "cell_type": "markdown",
   "metadata": {},
   "source": [
    "Scenario 1 \\\n",
    "Parameters: [3, 2, 4, 3, 6, 4, 4, 0.2, 0.4, 0.04, 0.08]"
   ]
  },
  {
   "cell_type": "code",
   "execution_count": 68,
   "metadata": {},
   "outputs": [],
   "source": [
    "# split times\n",
    "tau0_generations = 8 * 1e6\n",
    "tau1_generations = 4 * 1e6\n",
    "\n",
    "# mutation rate per base\n",
    "mu = 1e-9\n",
    "\n",
    "# migration rate as decimal of source population\n",
    "M1_star, M2_star, M1_prime_star, M2_prime_star = [0.2, 0.4, 0.04, 0.08]\n",
    "m1 = (M1_star/4e6)/2\n",
    "m2 = (M2_star/2e6)/2\n",
    "m1_prime = (M1_prime_star/6e6)/2\n",
    "m2_prime = (M2_prime_star/3e6)/2"
   ]
  },
  {
   "cell_type": "code",
   "execution_count": 75,
   "metadata": {},
   "outputs": [],
   "source": [
    "demography = msprime.Demography()\n",
    "demography.add_population(name=\"a\", initial_size=3e6/2)\n",
    "demography.add_population(name=\"b1\", initial_size=2e6/2)\n",
    "demography.add_population(name=\"b2\", initial_size=4e6/2)\n",
    "demography.add_population(name=\"c1\", initial_size=3e6/2)\n",
    "demography.add_population(name=\"c2\", initial_size=6e6/2)\n",
    "demography.add_population_split(time=tau0_generations, derived=[\"b1\", \"b2\"], ancestral=\"a\")\n",
    "demography.add_population_split(time=tau1_generations, derived=[\"c1\"], ancestral=\"b1\")\n",
    "demography.add_population_split(time=tau1_generations, derived=[\"c2\"], ancestral=\"b2\")\n",
    "demography.set_migration_rate(\"b2\", \"b1\", m1) # NB: backwards in time in msprime\n",
    "demography.set_migration_rate(\"b1\", \"b2\", m2)\n",
    "demography.set_migration_rate(\"c2\", \"c1\", m1_prime)\n",
    "demography.set_migration_rate(\"c1\", \"c2\", m2_prime)\n",
    "demography.sort_events()"
   ]
  },
  {
   "cell_type": "code",
   "execution_count": 76,
   "metadata": {},
   "outputs": [],
   "source": [
    "block_len = 500\n",
    "num_replicates = 10000\n",
    "\n",
    "ts_state1 = msprime.sim_ancestry(samples={'c1':2, 'c2':0}, demography=demography, sequence_length=block_len, num_replicates=num_replicates, ploidy=2)\n",
    "ts_state2 = msprime.sim_ancestry(samples={'c1':0, 'c2':2}, demography=demography, sequence_length=block_len, num_replicates=num_replicates, ploidy=2)\n",
    "ts_state3 = msprime.sim_ancestry(samples={'c1':1, 'c2':1}, demography=demography, sequence_length=block_len, num_replicates=num_replicates, ploidy=2)"
   ]
  },
  {
   "cell_type": "code",
   "execution_count": 77,
   "metadata": {},
   "outputs": [],
   "source": [
    "s = []\n",
    "for ts in [ts_state1, ts_state2, ts_state3]:\n",
    "    sim = []\n",
    "    for replicate_index, ts in enumerate(ts):\n",
    "        ts_muts = msprime.sim_mutations(ts, rate=mu, discrete_genome=False)\n",
    "        sim.append(int(ts_muts.divergence(sample_sets=[[0],[2]], span_normalise=False)))\n",
    "    s.append(sim)\n"
   ]
  },
  {
   "cell_type": "code",
   "execution_count": 78,
   "metadata": {},
   "outputs": [],
   "source": [
    "S = SMatrix().from_lists(s)"
   ]
  },
  {
   "cell_type": "code",
   "execution_count": 79,
   "metadata": {},
   "outputs": [
    {
     "data": {
      "text/plain": [
       "\n",
       "        DISMaL DemographicModel object.\n",
       "        Theta (population size) parameters: ['theta0', 'theta1', 'theta2', 'theta1_prime', 'theta2_prime']\n",
       "        Tau (split time) parameters: ['t1', 'v']\n",
       "        M (migration rate) parameters: ['M1_star', 'M2_star', 'M1_prime_star', 'M2_prime_star']\n",
       "        "
      ]
     },
     "execution_count": 79,
     "metadata": {},
     "output_type": "execute_result"
    }
   ],
   "source": [
    "gim = DemographicModel(\n",
    "    pop_size_change=True,\n",
    "    mig_rate_change=True,\n",
    "    migration=True,\n",
    "    asymmetric_m_prime_star=True,\n",
    "    asymmetric_m_star=True\n",
    ")\n",
    "gim"
   ]
  },
  {
   "cell_type": "code",
   "execution_count": 80,
   "metadata": {},
   "outputs": [
    {
     "name": "stderr",
     "output_type": "stream",
     "text": [
      "100%|██████████| 1/1 [00:23<00:00, 23.02s/it]\n"
     ]
    },
    {
     "data": {
      "text/plain": [
       "({'theta0': 2.909710980121525,\n",
       "  'theta1': 2.8521126317622394,\n",
       "  'theta2': 3.1582422688451683,\n",
       "  'theta1_prime': 3.0743148302007985,\n",
       "  'theta2_prime': 5.742952530525443,\n",
       "  't1': 4.881966514393909,\n",
       "  'v': 3.2642714178022865,\n",
       "  'M1_star': 0.916302824286449,\n",
       "  'M2_star': 0.3635309693298617,\n",
       "  'M1_prime_star': 0.04212627889786452,\n",
       "  'M2_prime_star': 0.08135152367709311},\n",
       " 78974.45056100015,\n",
       " 11)"
      ]
     },
     "execution_count": 80,
     "metadata": {},
     "output_type": "execute_result"
    }
   ],
   "source": [
    "gim.infer(S, n_iterations=1)"
   ]
  },
  {
   "cell_type": "code",
   "execution_count": 51,
   "metadata": {},
   "outputs": [],
   "source": [
    "! ls ~/Dropbox/DISMaL_chapter/simulations/msprime_initial_tests"
   ]
  },
  {
   "cell_type": "code",
   "execution_count": 64,
   "metadata": {},
   "outputs": [],
   "source": [
    "def s_list_to_csv(s_list, path):\n",
    "    with open(path, \"w\") as f:\n",
    "        [f.write(str(s[0][i]) + \",\") for i in range(len(s[0]))]"
   ]
  },
  {
   "cell_type": "code",
   "execution_count": 66,
   "metadata": {},
   "outputs": [
    {
     "data": {
      "text/plain": [
       "[None, None, None]"
      ]
     },
     "execution_count": 66,
     "metadata": {},
     "output_type": "execute_result"
    }
   ],
   "source": [
    "[s_list_to_csv(s[i-1], f\"../../simulations/msprime_initial_tests/scenario1_x{i}.csv\") for i in range(1,4)]"
   ]
  },
  {
   "cell_type": "code",
   "execution_count": 67,
   "metadata": {},
   "outputs": [
    {
     "data": {
      "text/plain": [
       "array([[1.396e+03, 1.142e+03, 9.810e+02, 8.110e+02, 6.830e+02, 6.220e+02,\n",
       "        5.110e+02, 4.230e+02, 3.460e+02, 2.890e+02, 2.410e+02, 2.130e+02,\n",
       "        1.840e+02, 1.420e+02, 1.300e+02, 1.190e+02, 7.700e+01, 8.700e+01,\n",
       "        7.400e+01, 5.500e+01, 6.200e+01, 5.100e+01, 3.700e+01, 4.100e+01,\n",
       "        3.400e+01, 2.600e+01, 3.400e+01, 3.800e+01, 2.800e+01, 3.100e+01,\n",
       "        2.500e+01, 2.500e+01, 3.300e+01, 1.800e+01, 2.700e+01, 2.800e+01,\n",
       "        2.000e+01, 2.600e+01, 2.900e+01, 4.800e+01, 2.800e+01, 3.300e+01,\n",
       "        3.000e+01, 4.000e+01, 3.400e+01, 4.400e+01, 3.800e+01, 2.900e+01,\n",
       "        4.500e+01, 4.100e+01, 4.000e+01, 3.900e+01, 2.800e+01, 3.000e+01,\n",
       "        4.400e+01, 3.100e+01, 4.000e+01, 1.800e+01, 3.000e+01, 2.300e+01,\n",
       "        1.400e+01, 1.700e+01, 6.000e+00, 1.400e+01, 8.000e+00, 1.100e+01,\n",
       "        1.300e+01, 5.000e+00, 6.000e+00, 4.000e+00, 3.000e+00, 4.000e+00,\n",
       "        5.000e+00, 4.000e+00, 2.000e+00, 1.000e+00, 1.000e+00, 3.000e+00,\n",
       "        0.000e+00, 1.000e+00, 1.000e+00, 1.000e+00, 0.000e+00, 1.000e+00,\n",
       "        0.000e+00, 1.000e+00, 0.000e+00, 0.000e+00, 0.000e+00, 0.000e+00,\n",
       "        1.000e+00, 1.000e+00, 0.000e+00, 0.000e+00, 0.000e+00, 0.000e+00,\n",
       "        0.000e+00, 0.000e+00, 0.000e+00, 0.000e+00, 0.000e+00, 0.000e+00,\n",
       "        0.000e+00, 0.000e+00, 0.000e+00, 0.000e+00, 0.000e+00, 0.000e+00,\n",
       "        0.000e+00, 0.000e+00, 0.000e+00, 0.000e+00, 0.000e+00, 0.000e+00,\n",
       "        0.000e+00, 0.000e+00, 0.000e+00, 0.000e+00, 0.000e+00, 0.000e+00,\n",
       "        0.000e+00],\n",
       "       [7.470e+02, 7.110e+02, 6.430e+02, 5.400e+02, 5.120e+02, 4.770e+02,\n",
       "        4.760e+02, 4.320e+02, 3.800e+02, 3.780e+02, 3.070e+02, 2.980e+02,\n",
       "        2.660e+02, 2.670e+02, 2.670e+02, 2.240e+02, 2.030e+02, 1.840e+02,\n",
       "        1.690e+02, 1.340e+02, 1.300e+02, 1.450e+02, 1.230e+02, 1.260e+02,\n",
       "        1.100e+02, 8.000e+01, 8.100e+01, 7.600e+01, 7.800e+01, 9.300e+01,\n",
       "        8.300e+01, 5.600e+01, 5.900e+01, 8.000e+01, 4.200e+01, 5.700e+01,\n",
       "        5.300e+01, 6.400e+01, 4.700e+01, 4.600e+01, 3.800e+01, 4.400e+01,\n",
       "        4.800e+01, 4.000e+01, 5.100e+01, 3.800e+01, 3.600e+01, 4.100e+01,\n",
       "        2.800e+01, 3.100e+01, 3.000e+01, 3.300e+01, 2.800e+01, 2.700e+01,\n",
       "        3.000e+01, 1.800e+01, 1.900e+01, 1.400e+01, 1.600e+01, 1.500e+01,\n",
       "        1.800e+01, 9.000e+00, 1.300e+01, 1.200e+01, 8.000e+00, 1.300e+01,\n",
       "        1.000e+01, 9.000e+00, 7.000e+00, 2.000e+00, 5.000e+00, 3.000e+00,\n",
       "        3.000e+00, 6.000e+00, 2.000e+00, 3.000e+00, 2.000e+00, 3.000e+00,\n",
       "        2.000e+00, 0.000e+00, 0.000e+00, 0.000e+00, 0.000e+00, 0.000e+00,\n",
       "        0.000e+00, 0.000e+00, 0.000e+00, 0.000e+00, 0.000e+00, 1.000e+00,\n",
       "        0.000e+00, 0.000e+00, 0.000e+00, 0.000e+00, 0.000e+00, 0.000e+00,\n",
       "        0.000e+00, 0.000e+00, 0.000e+00, 0.000e+00, 0.000e+00, 0.000e+00,\n",
       "        0.000e+00, 0.000e+00, 0.000e+00, 0.000e+00, 0.000e+00, 0.000e+00,\n",
       "        0.000e+00, 0.000e+00, 0.000e+00, 0.000e+00, 0.000e+00, 0.000e+00,\n",
       "        0.000e+00, 0.000e+00, 0.000e+00, 0.000e+00, 0.000e+00, 0.000e+00,\n",
       "        0.000e+00],\n",
       "       [8.000e+00, 2.500e+01, 4.600e+01, 5.300e+01, 5.100e+01, 5.600e+01,\n",
       "        6.000e+01, 8.500e+01, 8.300e+01, 9.100e+01, 8.500e+01, 1.000e+02,\n",
       "        1.050e+02, 8.700e+01, 9.600e+01, 9.400e+01, 1.070e+02, 1.120e+02,\n",
       "        1.120e+02, 9.000e+01, 1.040e+02, 8.900e+01, 1.060e+02, 1.150e+02,\n",
       "        9.600e+01, 1.230e+02, 1.150e+02, 1.100e+02, 1.130e+02, 1.120e+02,\n",
       "        1.370e+02, 1.400e+02, 1.660e+02, 1.720e+02, 1.810e+02, 1.890e+02,\n",
       "        1.960e+02, 2.100e+02, 2.120e+02, 2.390e+02, 2.520e+02, 2.360e+02,\n",
       "        2.890e+02, 2.580e+02, 2.680e+02, 2.690e+02, 2.520e+02, 2.770e+02,\n",
       "        2.650e+02, 2.680e+02, 2.490e+02, 2.290e+02, 2.290e+02, 2.100e+02,\n",
       "        2.100e+02, 1.900e+02, 1.960e+02, 1.680e+02, 1.380e+02, 1.360e+02,\n",
       "        1.040e+02, 1.170e+02, 9.400e+01, 7.500e+01, 7.800e+01, 6.300e+01,\n",
       "        6.100e+01, 4.100e+01, 3.800e+01, 3.900e+01, 3.500e+01, 2.800e+01,\n",
       "        2.400e+01, 2.500e+01, 2.400e+01, 8.000e+00, 1.200e+01, 8.000e+00,\n",
       "        9.000e+00, 1.000e+01, 7.000e+00, 7.000e+00, 5.000e+00, 1.000e+00,\n",
       "        1.000e+00, 7.000e+00, 1.000e+00, 2.000e+00, 5.000e+00, 4.000e+00,\n",
       "        2.000e+00, 2.000e+00, 0.000e+00, 0.000e+00, 0.000e+00, 0.000e+00,\n",
       "        0.000e+00, 0.000e+00, 0.000e+00, 0.000e+00, 0.000e+00, 0.000e+00,\n",
       "        1.000e+00, 0.000e+00, 0.000e+00, 0.000e+00, 0.000e+00, 0.000e+00,\n",
       "        0.000e+00, 0.000e+00, 1.000e+00, 0.000e+00, 0.000e+00, 0.000e+00,\n",
       "        0.000e+00, 0.000e+00, 0.000e+00, 0.000e+00, 0.000e+00, 0.000e+00,\n",
       "        1.000e+00]])"
      ]
     },
     "execution_count": 67,
     "metadata": {},
     "output_type": "execute_result"
    }
   ],
   "source": [
    "S"
   ]
  }
 ],
 "metadata": {
  "kernelspec": {
   "display_name": "dismal",
   "language": "python",
   "name": "python3"
  },
  "language_info": {
   "codemirror_mode": {
    "name": "ipython",
    "version": 3
   },
   "file_extension": ".py",
   "mimetype": "text/x-python",
   "name": "python",
   "nbconvert_exporter": "python",
   "pygments_lexer": "ipython3",
   "version": "3.11.3"
  },
  "orig_nbformat": 4
 },
 "nbformat": 4,
 "nbformat_minor": 2
}
