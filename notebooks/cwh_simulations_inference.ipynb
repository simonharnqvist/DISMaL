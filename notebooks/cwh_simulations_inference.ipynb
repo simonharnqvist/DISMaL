{
 "cells": [
  {
   "cell_type": "code",
   "execution_count": 1,
   "metadata": {},
   "outputs": [
    {
     "name": "stdout",
     "output_type": "stream",
     "text": [
      "Obtaining file:///Users/s2341012/Dropbox/DISMaL_chapter/DISMaL\n",
      "  Preparing metadata (setup.py) ... \u001b[?25ldone\n",
      "\u001b[?25hInstalling collected packages: dismal\n",
      "  Attempting uninstall: dismal\n",
      "    Found existing installation: dismal 0.1\n",
      "    Uninstalling dismal-0.1:\n",
      "      Successfully uninstalled dismal-0.1\n",
      "  Running setup.py develop for dismal\n",
      "Successfully installed dismal-0.1\n"
     ]
    }
   ],
   "source": [
    "! pip install -e .."
   ]
  },
  {
   "cell_type": "code",
   "execution_count": 2,
   "metadata": {},
   "outputs": [],
   "source": [
    "from dismal.s_matrix import SMatrix\n",
    "from dismal.model_fitting import fit_all"
   ]
  },
  {
   "attachments": {},
   "cell_type": "markdown",
   "metadata": {},
   "source": [
    "### 1. Correct model: ISO_2STAGE with default params"
   ]
  },
  {
   "cell_type": "code",
   "execution_count": 3,
   "metadata": {},
   "outputs": [],
   "source": [
    "S = SMatrix().from_rgim_simulation([f\"../../simulations/r_sims/rsim_gim_default_params_x{i}.csv\" for i in [1,2,3]])"
   ]
  },
  {
   "cell_type": "code",
   "execution_count": 4,
   "metadata": {},
   "outputs": [
    {
     "name": "stdout",
     "output_type": "stream",
     "text": [
      "Model name: iso_2stage,\n",
      "              Model parameters: ['theta0', 'theta1', 'theta2', 't0'],\n",
      "                Initial values: [5, 5, 5, 5],\n",
      "                  Lower bounds: [0.01, 0.01, 0.01, 0]\n",
      "Model name: im_2stage,\n",
      "              Model parameters: ['theta0', 'theta1', 'theta2', 't0', 'M'],\n",
      "                Initial values: [5, 5, 5, 5, 0.3],\n",
      "                  Lower bounds: [0.01, 0.01, 0.01, 0, 0]\n",
      "Model name: im_2stage_asym,\n",
      "              Model parameters: ['theta0', 'theta1', 'theta2', 't0', 'M1', 'M2'],\n",
      "                Initial values: [5, 5, 5, 5, 0.3, 0.3],\n",
      "                  Lower bounds: [0.01, 0.01, 0.01, 0, 0, 0]\n",
      "Model name: iso_3stage,\n",
      "              Model parameters: ['theta0', 'theta1', 'theta2', 'theta1_prime', 'theta2_prime', 't1', 'v'],\n",
      "                Initial values: [5, 5, 5, 5, 5, 5, 5],\n",
      "                  Lower bounds: [0.01, 0.01, 0.01, 0.01, 0.01, 0, 0]\n",
      "Model name: iim_sym,\n",
      "              Model parameters: ['theta0', 'theta1', 'theta2', 'theta1_prime', 'theta2_prime', 't1', 'v', 'M_star'],\n",
      "                Initial values: [5, 5, 5, 5, 5, 5, 5, 0.3],\n",
      "                  Lower bounds: [0.01, 0.01, 0.01, 0.01, 0.01, 0, 0, 0]\n",
      "Model name: sc_sym,\n",
      "              Model parameters: ['theta0', 'theta1', 'theta2', 'theta1_prime', 'theta2_prime', 't1', 'v', 'M_prime_star'],\n",
      "                Initial values: [5, 5, 5, 5, 5, 5, 5, 0.3],\n",
      "                  Lower bounds: [0.01, 0.01, 0.01, 0.01, 0.01, 0, 0, 0]\n",
      "Model name: gim_1m,\n",
      "              Model parameters: ['theta0', 'theta1', 'theta2', 'theta1_prime', 'theta2_prime', 't1', 'v', 'M'],\n",
      "                Initial values: [5, 5, 5, 5, 5, 5, 5, 0.3],\n",
      "                  Lower bounds: [0.01, 0.01, 0.01, 0.01, 0.01, 0, 0, 0]\n",
      "Model name: iim_asym,\n",
      "              Model parameters: ['theta0', 'theta1', 'theta2', 'theta1_prime', 'theta2_prime', 't1', 'v', 'M1_star', 'M2_star'],\n",
      "                Initial values: [5, 5, 5, 5, 5, 5, 5, 0.3, 0.3],\n",
      "                  Lower bounds: [0.01, 0.01, 0.01, 0.01, 0.01, 0, 0, 0, 0]\n",
      "Model name: sc_asym,\n",
      "              Model parameters: ['theta0', 'theta1', 'theta2', 'theta1_prime', 'theta2_prime', 't1', 'v', 'M1_prime_star', 'M2_prime_star'],\n",
      "                Initial values: [5, 5, 5, 5, 5, 5, 5, 0.3, 0.3],\n",
      "                  Lower bounds: [0.01, 0.01, 0.01, 0.01, 0.01, 0, 0, 0, 0]\n",
      "Model name: gim_sym,\n",
      "              Model parameters: ['theta0', 'theta1', 'theta2', 'theta1_prime', 'theta2_prime', 't1', 'v', 'M_star', 'M_prime_star'],\n",
      "                Initial values: [5, 5, 5, 5, 5, 5, 5, 0.3, 0.3],\n",
      "                  Lower bounds: [0.01, 0.01, 0.01, 0.01, 0.01, 0, 0, 0, 0]\n",
      "Model name: gim_asym1,\n",
      "              Model parameters: ['theta0', 'theta1', 'theta2', 'theta1_prime', 'theta2_prime', 't1', 'v', 'M1_star', 'M2_star', 'M_prime_star'],\n",
      "                Initial values: [5, 5, 5, 5, 5, 5, 5, 0.3, 0.3, 0.3],\n",
      "                  Lower bounds: [0.01, 0.01, 0.01, 0.01, 0.01, 0, 0, 0, 0, 0]\n",
      "Model name: gim_asym2,\n",
      "              Model parameters: ['theta0', 'theta1', 'theta2', 'theta1_prime', 'theta2_prime', 't1', 'v', 'M_star', 'M1_prime_star', 'M2_prime_star'],\n",
      "                Initial values: [5, 5, 5, 5, 5, 5, 5, 0.3, 0.3, 0.3],\n",
      "                  Lower bounds: [0.01, 0.01, 0.01, 0.01, 0.01, 0, 0, 0, 0, 0]\n",
      "Model name: gim_asym,\n",
      "              Model parameters: ['theta0', 'theta1', 'theta2', 'theta1_prime', 'theta2_prime', 't1', 'v', 'M1_star', 'M2_star', 'M1_prime_star', 'M2_prime_star'],\n",
      "                Initial values: [5, 5, 5, 5, 5, 5, 5, 0.3, 0.3, 0.3, 0.3],\n",
      "                  Lower bounds: [0.01, 0.01, 0.01, 0.01, 0.01, 0, 0, 0, 0, 0, 0]\n"
     ]
    }
   ],
   "source": [
    "models = fit_all(S)"
   ]
  },
  {
   "cell_type": "code",
   "execution_count": 8,
   "metadata": {},
   "outputs": [],
   "source": [
    "likelihoods = [models[mod][1] for mod in models]\n",
    "n_params = [models[mod][2] for mod in models]\n",
    "\n",
    "params_lnl = [i for i in zip(likelihoods, n_params)]"
   ]
  },
  {
   "cell_type": "code",
   "execution_count": 10,
   "metadata": {},
   "outputs": [
    {
     "data": {
      "text/plain": [
       "[183710.0756738567,\n",
       " 183712.0756738567,\n",
       " 181722.48627941066,\n",
       " 183515.7608730359,\n",
       " 183517.7608730359,\n",
       " 183517.7608730359,\n",
       " 183517.7608730359,\n",
       " 181727.58331097642,\n",
       " 181727.28104199935,\n",
       " 183519.7608730359,\n",
       " 181729.58331097642,\n",
       " 181729.28104199935,\n",
       " 181730.74423543777]"
      ]
     },
     "execution_count": 10,
     "metadata": {},
     "output_type": "execute_result"
    }
   ],
   "source": [
    "from dismal.metrics import aic\n",
    "[aic(-lnl, n_params) for (lnl, n_params) in params_lnl]"
   ]
  },
  {
   "cell_type": "code",
   "execution_count": null,
   "metadata": {},
   "outputs": [],
   "source": []
  },
  {
   "attachments": {},
   "cell_type": "markdown",
   "metadata": {},
   "source": [
    "### 1. Correct model: IM_2STAGE with M=5"
   ]
  },
  {
   "cell_type": "code",
   "execution_count": 12,
   "metadata": {},
   "outputs": [],
   "source": [
    "S = SMatrix().from_rgim_simulation([f\"../../simulations/r_sims/rsim_gim_allmigs5_x{i}.csv\" for i in [1,2,3]])"
   ]
  },
  {
   "cell_type": "code",
   "execution_count": 13,
   "metadata": {},
   "outputs": [
    {
     "name": "stdout",
     "output_type": "stream",
     "text": [
      "Model name: iso_2stage,\n",
      "              Model parameters: ['theta0', 'theta1', 'theta2', 't0'],\n",
      "                Initial values: [5, 5, 5, 5],\n",
      "                  Lower bounds: [0.01, 0.01, 0.01, 0]\n",
      "Model name: im_2stage,\n",
      "              Model parameters: ['theta0', 'theta1', 'theta2', 't0', 'M'],\n",
      "                Initial values: [5, 5, 5, 5, 0.3],\n",
      "                  Lower bounds: [0.01, 0.01, 0.01, 0, 0]\n",
      "Model name: im_2stage_asym,\n",
      "              Model parameters: ['theta0', 'theta1', 'theta2', 't0', 'M1', 'M2'],\n",
      "                Initial values: [5, 5, 5, 5, 0.3, 0.3],\n",
      "                  Lower bounds: [0.01, 0.01, 0.01, 0, 0, 0]\n",
      "Model name: iso_3stage,\n",
      "              Model parameters: ['theta0', 'theta1', 'theta2', 'theta1_prime', 'theta2_prime', 't1', 'v'],\n",
      "                Initial values: [5, 5, 5, 5, 5, 5, 5],\n",
      "                  Lower bounds: [0.01, 0.01, 0.01, 0.01, 0.01, 0, 0]\n",
      "Model name: iim_sym,\n",
      "              Model parameters: ['theta0', 'theta1', 'theta2', 'theta1_prime', 'theta2_prime', 't1', 'v', 'M_star'],\n",
      "                Initial values: [5, 5, 5, 5, 5, 5, 5, 0.3],\n",
      "                  Lower bounds: [0.01, 0.01, 0.01, 0.01, 0.01, 0, 0, 0]\n",
      "Model name: sc_sym,\n",
      "              Model parameters: ['theta0', 'theta1', 'theta2', 'theta1_prime', 'theta2_prime', 't1', 'v', 'M_prime_star'],\n",
      "                Initial values: [5, 5, 5, 5, 5, 5, 5, 0.3],\n",
      "                  Lower bounds: [0.01, 0.01, 0.01, 0.01, 0.01, 0, 0, 0]\n",
      "Model name: gim_1m,\n",
      "              Model parameters: ['theta0', 'theta1', 'theta2', 'theta1_prime', 'theta2_prime', 't1', 'v', 'M'],\n",
      "                Initial values: [5, 5, 5, 5, 5, 5, 5, 0.3],\n",
      "                  Lower bounds: [0.01, 0.01, 0.01, 0.01, 0.01, 0, 0, 0]\n",
      "Model name: iim_asym,\n",
      "              Model parameters: ['theta0', 'theta1', 'theta2', 'theta1_prime', 'theta2_prime', 't1', 'v', 'M1_star', 'M2_star'],\n",
      "                Initial values: [5, 5, 5, 5, 5, 5, 5, 0.3, 0.3],\n",
      "                  Lower bounds: [0.01, 0.01, 0.01, 0.01, 0.01, 0, 0, 0, 0]\n",
      "Model name: sc_asym,\n",
      "              Model parameters: ['theta0', 'theta1', 'theta2', 'theta1_prime', 'theta2_prime', 't1', 'v', 'M1_prime_star', 'M2_prime_star'],\n",
      "                Initial values: [5, 5, 5, 5, 5, 5, 5, 0.3, 0.3],\n",
      "                  Lower bounds: [0.01, 0.01, 0.01, 0.01, 0.01, 0, 0, 0, 0]\n",
      "Model name: gim_sym,\n",
      "              Model parameters: ['theta0', 'theta1', 'theta2', 'theta1_prime', 'theta2_prime', 't1', 'v', 'M_star', 'M_prime_star'],\n",
      "                Initial values: [5, 5, 5, 5, 5, 5, 5, 0.3, 0.3],\n",
      "                  Lower bounds: [0.01, 0.01, 0.01, 0.01, 0.01, 0, 0, 0, 0]\n",
      "Model name: gim_asym1,\n",
      "              Model parameters: ['theta0', 'theta1', 'theta2', 'theta1_prime', 'theta2_prime', 't1', 'v', 'M1_star', 'M2_star', 'M_prime_star'],\n",
      "                Initial values: [5, 5, 5, 5, 5, 5, 5, 0.3, 0.3, 0.3],\n",
      "                  Lower bounds: [0.01, 0.01, 0.01, 0.01, 0.01, 0, 0, 0, 0, 0]\n",
      "Model name: gim_asym2,\n",
      "              Model parameters: ['theta0', 'theta1', 'theta2', 'theta1_prime', 'theta2_prime', 't1', 'v', 'M_star', 'M1_prime_star', 'M2_prime_star'],\n",
      "                Initial values: [5, 5, 5, 5, 5, 5, 5, 0.3, 0.3, 0.3],\n",
      "                  Lower bounds: [0.01, 0.01, 0.01, 0.01, 0.01, 0, 0, 0, 0, 0]\n",
      "Model name: gim_asym,\n",
      "              Model parameters: ['theta0', 'theta1', 'theta2', 'theta1_prime', 'theta2_prime', 't1', 'v', 'M1_star', 'M2_star', 'M1_prime_star', 'M2_prime_star'],\n",
      "                Initial values: [5, 5, 5, 5, 5, 5, 5, 0.3, 0.3, 0.3, 0.3],\n",
      "                  Lower bounds: [0.01, 0.01, 0.01, 0.01, 0.01, 0, 0, 0, 0, 0, 0]\n"
     ]
    }
   ],
   "source": [
    "models = fit_all(S)"
   ]
  },
  {
   "cell_type": "code",
   "execution_count": 18,
   "metadata": {},
   "outputs": [],
   "source": [
    "mod_names = list(models.keys())"
   ]
  },
  {
   "cell_type": "code",
   "execution_count": 19,
   "metadata": {},
   "outputs": [
    {
     "data": {
      "text/plain": [
       "{'iso_2stage': 187778.40702681115,\n",
       " 'im_2stage': 187780.40702681115,\n",
       " 'im_2stage_asym': 186397.69962169213,\n",
       " 'iso_3stage': 187785.55604736554,\n",
       " 'iim_sym': 187787.55604736554,\n",
       " 'sc_sym': 187787.55604736554,\n",
       " 'gim_1m': 187787.55604736554,\n",
       " 'iim_asym': 186332.72935511972,\n",
       " 'sc_asym': 186215.33866873552,\n",
       " 'gim_sym': 187789.55604736554,\n",
       " 'gim_asym1': 186334.72935511972,\n",
       " 'gim_asym2': 186217.33866873552,\n",
       " 'gim_asym': 186222.8776344561}"
      ]
     },
     "execution_count": 19,
     "metadata": {},
     "output_type": "execute_result"
    }
   ],
   "source": [
    "likelihoods = [models[mod][1] for mod in models]\n",
    "n_params = [models[mod][2] for mod in models]\n",
    "params_lnl = [i for i in zip(likelihoods, n_params)]\n",
    "dict(zip(mod_names, [aic(-lnl, n_params) for (lnl, n_params) in params_lnl]))"
   ]
  },
  {
   "cell_type": "code",
   "execution_count": null,
   "metadata": {},
   "outputs": [],
   "source": []
  }
 ],
 "metadata": {
  "kernelspec": {
   "display_name": "dismal",
   "language": "python",
   "name": "python3"
  },
  "language_info": {
   "codemirror_mode": {
    "name": "ipython",
    "version": 3
   },
   "file_extension": ".py",
   "mimetype": "text/x-python",
   "name": "python",
   "nbconvert_exporter": "python",
   "pygments_lexer": "ipython3",
   "version": "3.10.10"
  },
  "orig_nbformat": 4
 },
 "nbformat": 4,
 "nbformat_minor": 2
}
