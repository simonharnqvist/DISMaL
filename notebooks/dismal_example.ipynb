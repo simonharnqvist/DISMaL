{
 "cells": [
  {
   "cell_type": "code",
   "execution_count": 1,
   "metadata": {},
   "outputs": [
    {
     "name": "stdout",
     "output_type": "stream",
     "text": [
      "Obtaining file:///Users/s2341012/Dropbox/DISMaL_chapter/DISMaL\n",
      "  Preparing metadata (setup.py) ... \u001b[?25ldone\n",
      "\u001b[?25hInstalling collected packages: dismal\n",
      "  Attempting uninstall: dismal\n",
      "    Found existing installation: dismal 0.1\n",
      "    Uninstalling dismal-0.1:\n",
      "      Successfully uninstalled dismal-0.1\n",
      "  Running setup.py develop for dismal\n",
      "Successfully installed dismal-0.1\n"
     ]
    }
   ],
   "source": [
    "! pip install -e ..\n",
    "from dismal import demography, preprocess, likelihood, simulate, matrices, utils\n",
    "import numpy as np"
   ]
  },
  {
   "attachments": {},
   "cell_type": "markdown",
   "metadata": {},
   "source": [
    "Simulate some data"
   ]
  },
  {
   "cell_type": "code",
   "execution_count": 2,
   "metadata": {},
   "outputs": [
    {
     "data": {
      "text/plain": [
       "[{0: 6760, 1: 2209, 2: 704, 3: 219, 4: 74, 5: 20, 6: 8, 7: 4, 9: 2},\n",
       " {0: 6601, 1: 2268, 2: 757, 3: 238, 4: 95, 5: 23, 6: 16, 7: 1, 8: 1},\n",
       " {0: 6698, 1: 2179, 2: 743, 3: 256, 4: 77, 5: 32, 6: 10, 7: 4, 9: 1}]"
      ]
     },
     "execution_count": 2,
     "metadata": {},
     "output_type": "execute_result"
    }
   ],
   "source": [
    "s_counts = simulate.msprime_simulate_old_params(a=1, b=1, c1=1, c2=1, tau1=0.00001, tau0=0.0001, m1=0, m2=0, m1_prime=0, m2_prime=0, theta=0.01, N=1000, num_replicates=10000, block_len=100)\n",
    "s_counts"
   ]
  },
  {
   "cell_type": "code",
   "execution_count": 3,
   "metadata": {},
   "outputs": [
    {
     "data": {
      "text/plain": [
       "0.4998"
      ]
     },
     "execution_count": 3,
     "metadata": {},
     "output_type": "execute_result"
    }
   ],
   "source": [
    "def get_mean_of_dict_keys(d: dict) -> float:\n",
    "    total = 0\n",
    "    count = 0\n",
    "    for k, v in d.items():\n",
    "        total += k * v\n",
    "        count += v\n",
    "\n",
    "    mean = total / count\n",
    "    return mean\n",
    "\n",
    "get_mean_of_dict_keys(s_counts[2])\n"
   ]
  },
  {
   "attachments": {},
   "cell_type": "markdown",
   "metadata": {},
   "source": [
    "Test inference of ISO model with default initial values"
   ]
  },
  {
   "cell_type": "code",
   "execution_count": 3,
   "metadata": {},
   "outputs": [
    {
     "name": "stdout",
     "output_type": "stream",
     "text": [
      "params in model: ['theta0', 'theta1', 'theta2', 'theta1_prime', 'theta2_prime', 't1', 'v'], with initial values [5, 5, 5, 5, 5, 5, 5] and lower bounds [0.01, 0.01, 0.01, 0.01, 0.01, 0, 0]\n",
      "Parameters: {'theta0': 5.0, 'theta1': 5.0, 'theta2': 5.0, 'theta1_prime': 5.0, 'theta2_prime': 5.0, 't1': 5.0, 'v': 5.0, 'm1_star': 0, 'm2_star': 0, 'm1_prime_star': 0, 'm2_prime_star': 0}, -lnL: 329729.8702746692\n",
      "Parameters: {'theta0': 5.00000001, 'theta1': 5.0, 'theta2': 5.0, 'theta1_prime': 5.0, 'theta2_prime': 5.0, 't1': 5.0, 'v': 5.0, 'm1_star': 0, 'm2_star': 0, 'm1_prime_star': 0, 'm2_prime_star': 0}, -lnL: 329729.8703236146\n",
      "Parameters: {'theta0': 5.0, 'theta1': 5.00000001, 'theta2': 5.0, 'theta1_prime': 5.0, 'theta2_prime': 5.0, 't1': 5.0, 'v': 5.0, 'm1_star': 0, 'm2_star': 0, 'm1_prime_star': 0, 'm2_prime_star': 0}, -lnL: 329729.8702746692\n",
      "Parameters: {'theta0': 5.0, 'theta1': 5.0, 'theta2': 5.00000001, 'theta1_prime': 5.0, 'theta2_prime': 5.0, 't1': 5.0, 'v': 5.0, 'm1_star': 0, 'm2_star': 0, 'm1_prime_star': 0, 'm2_prime_star': 0}, -lnL: 329729.8702746692\n",
      "Parameters: {'theta0': 5.0, 'theta1': 5.0, 'theta2': 5.0, 'theta1_prime': 5.00000001, 'theta2_prime': 5.0, 't1': 5.0, 'v': 5.0, 'm1_star': 0, 'm2_star': 0, 'm1_prime_star': 0, 'm2_prime_star': 0}, -lnL: 329729.8702346692\n",
      "Parameters: {'theta0': 5.0, 'theta1': 5.0, 'theta2': 5.0, 'theta1_prime': 5.0, 'theta2_prime': 5.00000001, 't1': 5.0, 'v': 5.0, 'm1_star': 0, 'm2_star': 0, 'm1_prime_star': 0, 'm2_prime_star': 0}, -lnL: 329729.8702346692\n",
      "Parameters: {'theta0': 5.0, 'theta1': 5.0, 'theta2': 5.0, 'theta1_prime': 5.0, 'theta2_prime': 5.0, 't1': 5.00000001, 'v': 5.0, 'm1_star': 0, 'm2_star': 0, 'm1_prime_star': 0, 'm2_prime_star': 0}, -lnL: 329729.87058295996\n",
      "Parameters: {'theta0': 5.0, 'theta1': 5.0, 'theta2': 5.0, 'theta1_prime': 5.0, 'theta2_prime': 5.0, 't1': 5.0, 'v': 5.00000001, 'm1_star': 0, 'm2_star': 0, 'm1_prime_star': 0, 'm2_prime_star': 0}, -lnL: 329729.87058295996\n",
      "Parameters: {'theta0': 4.999117885626808, 'theta1': 5.0, 'theta2': 5.0, 'theta1_prime': 5.707105953651561, 'theta2_prime': 5.707105953651561, 't1': 4.999116117862533, 'v': 4.999116117862533, 'm1_star': 0, 'm2_star': 0, 'm1_prime_star': 0, 'm2_prime_star': 0}, -lnL: 324715.96179891273\n",
      "Parameters: {'theta0': 4.999117895626808, 'theta1': 5.0, 'theta2': 5.0, 'theta1_prime': 5.707105953651561, 'theta2_prime': 5.707105953651561, 't1': 4.999116117862533, 'v': 4.999116117862533, 'm1_star': 0, 'm2_star': 0, 'm1_prime_star': 0, 'm2_prime_star': 0}, -lnL: 324715.96184786496\n",
      "Parameters: {'theta0': 4.999117885626808, 'theta1': 5.00000001, 'theta2': 5.0, 'theta1_prime': 5.707105953651561, 'theta2_prime': 5.707105953651561, 't1': 4.999116117862533, 'v': 4.999116117862533, 'm1_star': 0, 'm2_star': 0, 'm1_prime_star': 0, 'm2_prime_star': 0}, -lnL: 324715.96179891273\n",
      "Parameters: {'theta0': 4.999117885626808, 'theta1': 5.0, 'theta2': 5.00000001, 'theta1_prime': 5.707105953651561, 'theta2_prime': 5.707105953651561, 't1': 4.999116117862533, 'v': 4.999116117862533, 'm1_star': 0, 'm2_star': 0, 'm1_prime_star': 0, 'm2_prime_star': 0}, -lnL: 324715.96179891273\n",
      "Parameters: {'theta0': 4.999117885626808, 'theta1': 5.0, 'theta2': 5.0, 'theta1_prime': 5.707105963651561, 'theta2_prime': 5.707105953651561, 't1': 4.999116117862533, 'v': 4.999116117862533, 'm1_star': 0, 'm2_star': 0, 'm1_prime_star': 0, 'm2_prime_star': 0}, -lnL: 324715.96176821605\n",
      "Parameters: {'theta0': 4.999117885626808, 'theta1': 5.0, 'theta2': 5.0, 'theta1_prime': 5.707105953651561, 'theta2_prime': 5.707105963651561, 't1': 4.999116117862533, 'v': 4.999116117862533, 'm1_star': 0, 'm2_star': 0, 'm1_prime_star': 0, 'm2_prime_star': 0}, -lnL: 324715.96176821605\n",
      "Parameters: {'theta0': 4.999117885626808, 'theta1': 5.0, 'theta2': 5.0, 'theta1_prime': 5.707105953651561, 'theta2_prime': 5.707105953651561, 't1': 4.999116127862533, 'v': 4.999116117862533, 'm1_star': 0, 'm2_star': 0, 'm1_prime_star': 0, 'm2_prime_star': 0}, -lnL: 324715.96210224245\n",
      "Parameters: {'theta0': 4.999117885626808, 'theta1': 5.0, 'theta2': 5.0, 'theta1_prime': 5.707105953651561, 'theta2_prime': 5.707105953651561, 't1': 4.999116117862533, 'v': 4.999116127862533, 'm1_star': 0, 'm2_star': 0, 'm1_prime_star': 0, 'm2_prime_star': 0}, -lnL: 324715.96210224245\n",
      "Parameters: {'theta0': 2.0993522187578337, 'theta1': 5.0, 'theta2': 5.0, 'theta1_prime': 5.387394434929341, 'theta2_prime': 5.387394434929341, 't1': 0.0, 'v': 0.0, 'm1_star': 0, 'm2_star': 0, 'm1_prime_star': 0, 'm2_prime_star': 0}, -lnL: 47521.06960585053\n",
      "Parameters: {'theta0': 2.0993522287578337, 'theta1': 5.0, 'theta2': 5.0, 'theta1_prime': 5.387394434929341, 'theta2_prime': 5.387394434929341, 't1': 0.0, 'v': 0.0, 'm1_star': 0, 'm2_star': 0, 'm1_prime_star': 0, 'm2_prime_star': 0}, -lnL: 47521.069649048855\n",
      "Parameters: {'theta0': 2.0993522187578337, 'theta1': 5.00000001, 'theta2': 5.0, 'theta1_prime': 5.387394434929341, 'theta2_prime': 5.387394434929341, 't1': 0.0, 'v': 0.0, 'm1_star': 0, 'm2_star': 0, 'm1_prime_star': 0, 'm2_prime_star': 0}, -lnL: 47521.06960585053\n",
      "Parameters: {'theta0': 2.0993522187578337, 'theta1': 5.0, 'theta2': 5.00000001, 'theta1_prime': 5.387394434929341, 'theta2_prime': 5.387394434929341, 't1': 0.0, 'v': 0.0, 'm1_star': 0, 'm2_star': 0, 'm1_prime_star': 0, 'm2_prime_star': 0}, -lnL: 47521.06960585053\n",
      "Parameters: {'theta0': 2.0993522187578337, 'theta1': 5.0, 'theta2': 5.0, 'theta1_prime': 5.387394444929341, 'theta2_prime': 5.387394434929341, 't1': 0.0, 'v': 0.0, 'm1_star': 0, 'm2_star': 0, 'm1_prime_star': 0, 'm2_prime_star': 0}, -lnL: 47521.06960585053\n",
      "Parameters: {'theta0': 2.0993522187578337, 'theta1': 5.0, 'theta2': 5.0, 'theta1_prime': 5.387394434929341, 'theta2_prime': 5.387394444929341, 't1': 0.0, 'v': 0.0, 'm1_star': 0, 'm2_star': 0, 'm1_prime_star': 0, 'm2_prime_star': 0}, -lnL: 47521.06960585053\n",
      "Parameters: {'theta0': 2.0993522187578337, 'theta1': 5.0, 'theta2': 5.0, 'theta1_prime': 5.387394434929341, 'theta2_prime': 5.387394434929341, 't1': 1e-08, 'v': 0.0, 'm1_star': 0, 'm2_star': 0, 'm1_prime_star': 0, 'm2_prime_star': 0}, -lnL: 47521.069710022944\n",
      "Parameters: {'theta0': 2.0993522187578337, 'theta1': 5.0, 'theta2': 5.0, 'theta1_prime': 5.387394434929341, 'theta2_prime': 5.387394434929341, 't1': 0.0, 'v': 1e-08, 'm1_star': 0, 'm2_star': 0, 'm1_prime_star': 0, 'm2_prime_star': 0}, -lnL: 47521.069710022944\n",
      "Parameters: {'theta0': 0.8669207313069779, 'theta1': 5.0, 'theta2': 5.0, 'theta1_prime': 5.5137132505214925, 'theta2_prime': 5.5137132505214925, 't1': 0.0, 'v': 0.0, 'm1_star': 0, 'm2_star': 0, 'm1_prime_star': 0, 'm2_prime_star': 0}, -lnL: 45479.72564582381\n",
      "Parameters: {'theta0': 0.8669207413069779, 'theta1': 5.0, 'theta2': 5.0, 'theta1_prime': 5.5137132505214925, 'theta2_prime': 5.5137132505214925, 't1': 0.0, 'v': 0.0, 'm1_star': 0, 'm2_star': 0, 'm1_prime_star': 0, 'm2_prime_star': 0}, -lnL: 45479.72559104761\n",
      "Parameters: {'theta0': 0.8669207313069779, 'theta1': 5.00000001, 'theta2': 5.0, 'theta1_prime': 5.5137132505214925, 'theta2_prime': 5.5137132505214925, 't1': 0.0, 'v': 0.0, 'm1_star': 0, 'm2_star': 0, 'm1_prime_star': 0, 'm2_prime_star': 0}, -lnL: 45479.72564582382\n",
      "Parameters: {'theta0': 0.8669207313069779, 'theta1': 5.0, 'theta2': 5.00000001, 'theta1_prime': 5.5137132505214925, 'theta2_prime': 5.5137132505214925, 't1': 0.0, 'v': 0.0, 'm1_star': 0, 'm2_star': 0, 'm1_prime_star': 0, 'm2_prime_star': 0}, -lnL: 45479.72564582381\n",
      "Parameters: {'theta0': 0.8669207313069779, 'theta1': 5.0, 'theta2': 5.0, 'theta1_prime': 5.5137132605214925, 'theta2_prime': 5.5137132505214925, 't1': 0.0, 'v': 0.0, 'm1_star': 0, 'm2_star': 0, 'm1_prime_star': 0, 'm2_prime_star': 0}, -lnL: 45479.72564582381\n",
      "Parameters: {'theta0': 0.8669207313069779, 'theta1': 5.0, 'theta2': 5.0, 'theta1_prime': 5.5137132505214925, 'theta2_prime': 5.5137132605214925, 't1': 0.0, 'v': 0.0, 'm1_star': 0, 'm2_star': 0, 'm1_prime_star': 0, 'm2_prime_star': 0}, -lnL: 45479.72564582381\n",
      "Parameters: {'theta0': 0.8669207313069779, 'theta1': 5.0, 'theta2': 5.0, 'theta1_prime': 5.5137132505214925, 'theta2_prime': 5.5137132505214925, 't1': 1e-08, 'v': 0.0, 'm1_star': 0, 'm2_star': 0, 'm1_prime_star': 0, 'm2_prime_star': 0}, -lnL: 45479.72564229498\n",
      "Parameters: {'theta0': 0.8669207313069779, 'theta1': 5.0, 'theta2': 5.0, 'theta1_prime': 5.5137132505214925, 'theta2_prime': 5.5137132505214925, 't1': 0.0, 'v': 1e-08, 'm1_star': 0, 'm2_star': 0, 'm1_prime_star': 0, 'm2_prime_star': 0}, -lnL: 45479.72564229498\n",
      "Parameters: {'theta0': 1.5559560981483083, 'theta1': 5.0, 'theta2': 5.0, 'theta1_prime': 5.443090151122654, 'theta2_prime': 5.443090151122654, 't1': 0.0, 'v': 0.0, 'm1_star': 0, 'm2_star': 0, 'm1_prime_star': 0, 'm2_prime_star': 0}, -lnL: 45461.52135500178\n",
      "Parameters: {'theta0': 1.5559561081483082, 'theta1': 5.0, 'theta2': 5.0, 'theta1_prime': 5.443090151122654, 'theta2_prime': 5.443090151122654, 't1': 0.0, 'v': 0.0, 'm1_star': 0, 'm2_star': 0, 'm1_prime_star': 0, 'm2_prime_star': 0}, -lnL: 45461.521384687\n",
      "Parameters: {'theta0': 1.5559560981483083, 'theta1': 5.00000001, 'theta2': 5.0, 'theta1_prime': 5.443090151122654, 'theta2_prime': 5.443090151122654, 't1': 0.0, 'v': 0.0, 'm1_star': 0, 'm2_star': 0, 'm1_prime_star': 0, 'm2_prime_star': 0}, -lnL: 45461.52135500178\n",
      "Parameters: {'theta0': 1.5559560981483083, 'theta1': 5.0, 'theta2': 5.00000001, 'theta1_prime': 5.443090151122654, 'theta2_prime': 5.443090151122654, 't1': 0.0, 'v': 0.0, 'm1_star': 0, 'm2_star': 0, 'm1_prime_star': 0, 'm2_prime_star': 0}, -lnL: 45461.52135500178\n",
      "Parameters: {'theta0': 1.5559560981483083, 'theta1': 5.0, 'theta2': 5.0, 'theta1_prime': 5.443090161122654, 'theta2_prime': 5.443090151122654, 't1': 0.0, 'v': 0.0, 'm1_star': 0, 'm2_star': 0, 'm1_prime_star': 0, 'm2_prime_star': 0}, -lnL: 45461.52135500178\n",
      "Parameters: {'theta0': 1.5559560981483083, 'theta1': 5.0, 'theta2': 5.0, 'theta1_prime': 5.443090151122654, 'theta2_prime': 5.443090161122654, 't1': 0.0, 'v': 0.0, 'm1_star': 0, 'm2_star': 0, 'm1_prime_star': 0, 'm2_prime_star': 0}, -lnL: 45461.52135500178\n",
      "Parameters: {'theta0': 1.5559560981483083, 'theta1': 5.0, 'theta2': 5.0, 'theta1_prime': 5.443090151122654, 'theta2_prime': 5.443090151122654, 't1': 1e-08, 'v': 0.0, 'm1_star': 0, 'm2_star': 0, 'm1_prime_star': 0, 'm2_prime_star': 0}, -lnL: 45461.52143254529\n",
      "Parameters: {'theta0': 1.5559560981483083, 'theta1': 5.0, 'theta2': 5.0, 'theta1_prime': 5.443090151122654, 'theta2_prime': 5.443090151122654, 't1': 0.0, 'v': 1e-08, 'm1_star': 0, 'm2_star': 0, 'm1_prime_star': 0, 'm2_prime_star': 0}, -lnL: 45461.52143254529\n",
      "Parameters: {'theta0': 0.36223820967720344, 'theta1': 5.0, 'theta2': 5.0, 'theta1_prime': 5.565440992819115, 'theta2_prime': 5.565440992819115, 't1': 0.0, 'v': 0.0, 'm1_star': 0, 'm2_star': 0, 'm1_prime_star': 0, 'm2_prime_star': 0}, -lnL: 55466.03245743392\n",
      "Parameters: {'theta0': 0.36223821967720343, 'theta1': 5.0, 'theta2': 5.0, 'theta1_prime': 5.565440992819115, 'theta2_prime': 5.565440992819115, 't1': 0.0, 'v': 0.0, 'm1_star': 0, 'm2_star': 0, 'm1_prime_star': 0, 'm2_prime_star': 0}, -lnL: 55466.031970948505\n",
      "Parameters: {'theta0': 0.36223820967720344, 'theta1': 5.00000001, 'theta2': 5.0, 'theta1_prime': 5.565440992819115, 'theta2_prime': 5.565440992819115, 't1': 0.0, 'v': 0.0, 'm1_star': 0, 'm2_star': 0, 'm1_prime_star': 0, 'm2_prime_star': 0}, -lnL: 55466.03245743392\n",
      "Parameters: {'theta0': 0.36223820967720344, 'theta1': 5.0, 'theta2': 5.00000001, 'theta1_prime': 5.565440992819115, 'theta2_prime': 5.565440992819115, 't1': 0.0, 'v': 0.0, 'm1_star': 0, 'm2_star': 0, 'm1_prime_star': 0, 'm2_prime_star': 0}, -lnL: 55466.03245743392\n",
      "Parameters: {'theta0': 0.36223820967720344, 'theta1': 5.0, 'theta2': 5.0, 'theta1_prime': 5.565441002819115, 'theta2_prime': 5.565440992819115, 't1': 0.0, 'v': 0.0, 'm1_star': 0, 'm2_star': 0, 'm1_prime_star': 0, 'm2_prime_star': 0}, -lnL: 55466.03245743392\n",
      "Parameters: {'theta0': 0.36223820967720344, 'theta1': 5.0, 'theta2': 5.0, 'theta1_prime': 5.565440992819115, 'theta2_prime': 5.565441002819115, 't1': 0.0, 'v': 0.0, 'm1_star': 0, 'm2_star': 0, 'm1_prime_star': 0, 'm2_prime_star': 0}, -lnL: 55466.03245743392\n",
      "Parameters: {'theta0': 0.36223820967720344, 'theta1': 5.0, 'theta2': 5.0, 'theta1_prime': 5.565440992819115, 'theta2_prime': 5.565440992819115, 't1': 1e-08, 'v': 0.0, 'm1_star': 0, 'm2_star': 0, 'm1_prime_star': 0, 'm2_prime_star': 0}, -lnL: 55466.03219998264\n",
      "Parameters: {'theta0': 0.36223820967720344, 'theta1': 5.0, 'theta2': 5.0, 'theta1_prime': 5.565440992819115, 'theta2_prime': 5.565440992819115, 't1': 0.0, 'v': 1e-08, 'm1_star': 0, 'm2_star': 0, 'm1_prime_star': 0, 'm2_prime_star': 0}, -lnL: 55466.03219998264\n",
      "Parameters: {'theta0': 1.193325708973843, 'theta1': 5.0, 'theta2': 5.0, 'theta1_prime': 5.480258173625053, 'theta2_prime': 5.480258173625053, 't1': 0.0, 'v': 0.0, 'm1_star': 0, 'm2_star': 0, 'm1_prime_star': 0, 'm2_prime_star': 0}, -lnL: 44788.887735420416\n",
      "Parameters: {'theta0': 1.1933257189738429, 'theta1': 5.0, 'theta2': 5.0, 'theta1_prime': 5.480258173625053, 'theta2_prime': 5.480258173625053, 't1': 0.0, 'v': 0.0, 'm1_star': 0, 'm2_star': 0, 'm1_prime_star': 0, 'm2_prime_star': 0}, -lnL: 44788.887738961304\n",
      "Parameters: {'theta0': 1.193325708973843, 'theta1': 5.00000001, 'theta2': 5.0, 'theta1_prime': 5.480258173625053, 'theta2_prime': 5.480258173625053, 't1': 0.0, 'v': 0.0, 'm1_star': 0, 'm2_star': 0, 'm1_prime_star': 0, 'm2_prime_star': 0}, -lnL: 44788.88773542043\n",
      "Parameters: {'theta0': 1.193325708973843, 'theta1': 5.0, 'theta2': 5.00000001, 'theta1_prime': 5.480258173625053, 'theta2_prime': 5.480258173625053, 't1': 0.0, 'v': 0.0, 'm1_star': 0, 'm2_star': 0, 'm1_prime_star': 0, 'm2_prime_star': 0}, -lnL: 44788.887735420416\n",
      "Parameters: {'theta0': 1.193325708973843, 'theta1': 5.0, 'theta2': 5.0, 'theta1_prime': 5.480258183625053, 'theta2_prime': 5.480258173625053, 't1': 0.0, 'v': 0.0, 'm1_star': 0, 'm2_star': 0, 'm1_prime_star': 0, 'm2_prime_star': 0}, -lnL: 44788.887735420416\n",
      "Parameters: {'theta0': 1.193325708973843, 'theta1': 5.0, 'theta2': 5.0, 'theta1_prime': 5.480258173625053, 'theta2_prime': 5.480258183625053, 't1': 0.0, 'v': 0.0, 'm1_star': 0, 'm2_star': 0, 'm1_prime_star': 0, 'm2_prime_star': 0}, -lnL: 44788.887735420416\n",
      "Parameters: {'theta0': 1.193325708973843, 'theta1': 5.0, 'theta2': 5.0, 'theta1_prime': 5.480258173625053, 'theta2_prime': 5.480258173625053, 't1': 1e-08, 'v': 0.0, 'm1_star': 0, 'm2_star': 0, 'm1_prime_star': 0, 'm2_prime_star': 0}, -lnL: 44788.887781897945\n",
      "Parameters: {'theta0': 1.193325708973843, 'theta1': 5.0, 'theta2': 5.0, 'theta1_prime': 5.480258173625053, 'theta2_prime': 5.480258173625053, 't1': 0.0, 'v': 1e-08, 'm1_star': 0, 'm2_star': 0, 'm1_prime_star': 0, 'm2_prime_star': 0}, -lnL: 44788.887781897945\n",
      "Parameters: {'theta0': 1.1442124397400824, 'theta1': 4.99999994006698, 'theta2': 5.0, 'theta1_prime': 5.485292068054592, 'theta2_prime': 5.485292068054592, 't1': 0.0, 'v': 0.0, 'm1_star': 0, 'm2_star': 0, 'm1_prime_star': 0, 'm2_prime_star': 0}, -lnL: 44785.35786213094\n",
      "Parameters: {'theta0': 1.1442124497400823, 'theta1': 4.99999994006698, 'theta2': 5.0, 'theta1_prime': 5.485292068054592, 'theta2_prime': 5.485292068054592, 't1': 0.0, 'v': 0.0, 'm1_star': 0, 'm2_star': 0, 'm1_prime_star': 0, 'm2_prime_star': 0}, -lnL: 44785.35785990293\n",
      "Parameters: {'theta0': 1.1442124397400824, 'theta1': 4.99999995006698, 'theta2': 5.0, 'theta1_prime': 5.485292068054592, 'theta2_prime': 5.485292068054592, 't1': 0.0, 'v': 0.0, 'm1_star': 0, 'm2_star': 0, 'm1_prime_star': 0, 'm2_prime_star': 0}, -lnL: 44785.35786213093\n",
      "Parameters: {'theta0': 1.1442124397400824, 'theta1': 4.99999994006698, 'theta2': 5.00000001, 'theta1_prime': 5.485292068054592, 'theta2_prime': 5.485292068054592, 't1': 0.0, 'v': 0.0, 'm1_star': 0, 'm2_star': 0, 'm1_prime_star': 0, 'm2_prime_star': 0}, -lnL: 44785.35786213094\n",
      "Parameters: {'theta0': 1.1442124397400824, 'theta1': 4.99999994006698, 'theta2': 5.0, 'theta1_prime': 5.4852920780545915, 'theta2_prime': 5.485292068054592, 't1': 0.0, 'v': 0.0, 'm1_star': 0, 'm2_star': 0, 'm1_prime_star': 0, 'm2_prime_star': 0}, -lnL: 44785.35786213094\n",
      "Parameters: {'theta0': 1.1442124397400824, 'theta1': 4.99999994006698, 'theta2': 5.0, 'theta1_prime': 5.485292068054592, 'theta2_prime': 5.4852920780545915, 't1': 0.0, 'v': 0.0, 'm1_star': 0, 'm2_star': 0, 'm1_prime_star': 0, 'm2_prime_star': 0}, -lnL: 44785.35786213094\n",
      "Parameters: {'theta0': 1.1442124397400824, 'theta1': 4.99999994006698, 'theta2': 5.0, 'theta1_prime': 5.485292068054592, 'theta2_prime': 5.485292068054592, 't1': 1e-08, 'v': 0.0, 'm1_star': 0, 'm2_star': 0, 'm1_prime_star': 0, 'm2_prime_star': 0}, -lnL: 44785.35790289937\n",
      "Parameters: {'theta0': 1.1442124397400824, 'theta1': 4.99999994006698, 'theta2': 5.0, 'theta1_prime': 5.485292068054592, 'theta2_prime': 5.485292068054592, 't1': 0.0, 'v': 1e-08, 'm1_star': 0, 'm2_star': 0, 'm1_prime_star': 0, 'm2_prime_star': 0}, -lnL: 44785.35790289937\n",
      "Parameters: {'theta0': 1.1631805315022765, 'theta1': 4.999999972742776, 'theta2': 5.0, 'theta1_prime': 5.4833479219419345, 'theta2_prime': 5.4833479219419345, 't1': 0.0, 'v': 0.0, 'm1_star': 0, 'm2_star': 0, 'm1_prime_star': 0, 'm2_prime_star': 0}, -lnL: 44783.34774778468\n",
      "Parameters: {'theta0': 1.1631805415022765, 'theta1': 4.999999972742776, 'theta2': 5.0, 'theta1_prime': 5.4833479219419345, 'theta2_prime': 5.4833479219419345, 't1': 0.0, 'v': 0.0, 'm1_star': 0, 'm2_star': 0, 'm1_prime_star': 0, 'm2_prime_star': 0}, -lnL: 44783.347747873784\n",
      "Parameters: {'theta0': 1.1631805315022765, 'theta1': 4.999999982742776, 'theta2': 5.0, 'theta1_prime': 5.4833479219419345, 'theta2_prime': 5.4833479219419345, 't1': 0.0, 'v': 0.0, 'm1_star': 0, 'm2_star': 0, 'm1_prime_star': 0, 'm2_prime_star': 0}, -lnL: 44783.34774778469\n",
      "Parameters: {'theta0': 1.1631805315022765, 'theta1': 4.999999972742776, 'theta2': 5.00000001, 'theta1_prime': 5.4833479219419345, 'theta2_prime': 5.4833479219419345, 't1': 0.0, 'v': 0.0, 'm1_star': 0, 'm2_star': 0, 'm1_prime_star': 0, 'm2_prime_star': 0}, -lnL: 44783.34774778468\n",
      "Parameters: {'theta0': 1.1631805315022765, 'theta1': 4.999999972742776, 'theta2': 5.0, 'theta1_prime': 5.4833479319419345, 'theta2_prime': 5.4833479219419345, 't1': 0.0, 'v': 0.0, 'm1_star': 0, 'm2_star': 0, 'm1_prime_star': 0, 'm2_prime_star': 0}, -lnL: 44783.34774778468\n",
      "Parameters: {'theta0': 1.1631805315022765, 'theta1': 4.999999972742776, 'theta2': 5.0, 'theta1_prime': 5.4833479219419345, 'theta2_prime': 5.4833479319419345, 't1': 0.0, 'v': 0.0, 'm1_star': 0, 'm2_star': 0, 'm1_prime_star': 0, 'm2_prime_star': 0}, -lnL: 44783.34774778468\n",
      "Parameters: {'theta0': 1.1631805315022765, 'theta1': 4.999999972742776, 'theta2': 5.0, 'theta1_prime': 5.4833479219419345, 'theta2_prime': 5.4833479219419345, 't1': 1e-08, 'v': 0.0, 'm1_star': 0, 'm2_star': 0, 'm1_prime_star': 0, 'm2_prime_star': 0}, -lnL: 44783.34779081483\n",
      "Parameters: {'theta0': 1.1631805315022765, 'theta1': 4.999999972742776, 'theta2': 5.0, 'theta1_prime': 5.4833479219419345, 'theta2_prime': 5.4833479219419345, 't1': 0.0, 'v': 1e-08, 'm1_star': 0, 'm2_star': 0, 'm1_prime_star': 0, 'm2_prime_star': 0}, -lnL: 44783.34779081483\n",
      "Parameters: {'theta0': 1.1624511407062184, 'theta1': 4.999999953351587, 'theta2': 5.0, 'theta1_prime': 5.483422681295619, 'theta2_prime': 5.483422681295619, 't1': 0.0, 'v': 0.0, 'm1_star': 0, 'm2_star': 0, 'm1_prime_star': 0, 'm2_prime_star': 0}, -lnL: 44783.34442027676\n",
      "Parameters: {'theta0': 1.1624511507062183, 'theta1': 4.999999953351587, 'theta2': 5.0, 'theta1_prime': 5.483422681295619, 'theta2_prime': 5.483422681295619, 't1': 0.0, 'v': 0.0, 'm1_star': 0, 'm2_star': 0, 'm1_prime_star': 0, 'm2_prime_star': 0}, -lnL: 44783.344420278896\n",
      "Parameters: {'theta0': 1.1624511407062184, 'theta1': 4.999999963351587, 'theta2': 5.0, 'theta1_prime': 5.483422681295619, 'theta2_prime': 5.483422681295619, 't1': 0.0, 'v': 0.0, 'm1_star': 0, 'm2_star': 0, 'm1_prime_star': 0, 'm2_prime_star': 0}, -lnL: 44783.34442027677\n",
      "Parameters: {'theta0': 1.1624511407062184, 'theta1': 4.999999953351587, 'theta2': 5.00000001, 'theta1_prime': 5.483422681295619, 'theta2_prime': 5.483422681295619, 't1': 0.0, 'v': 0.0, 'm1_star': 0, 'm2_star': 0, 'm1_prime_star': 0, 'm2_prime_star': 0}, -lnL: 44783.34442027676\n",
      "Parameters: {'theta0': 1.1624511407062184, 'theta1': 4.999999953351587, 'theta2': 5.0, 'theta1_prime': 5.483422691295619, 'theta2_prime': 5.483422681295619, 't1': 0.0, 'v': 0.0, 'm1_star': 0, 'm2_star': 0, 'm1_prime_star': 0, 'm2_prime_star': 0}, -lnL: 44783.34442027676\n",
      "Parameters: {'theta0': 1.1624511407062184, 'theta1': 4.999999953351587, 'theta2': 5.0, 'theta1_prime': 5.483422681295619, 'theta2_prime': 5.483422691295619, 't1': 0.0, 'v': 0.0, 'm1_star': 0, 'm2_star': 0, 'm1_prime_star': 0, 'm2_prime_star': 0}, -lnL: 44783.34442027676\n",
      "Parameters: {'theta0': 1.1624511407062184, 'theta1': 4.999999953351587, 'theta2': 5.0, 'theta1_prime': 5.483422681295619, 'theta2_prime': 5.483422681295619, 't1': 1e-08, 'v': 0.0, 'm1_star': 0, 'm2_star': 0, 'm1_prime_star': 0, 'm2_prime_star': 0}, -lnL: 44783.34446322129\n",
      "Parameters: {'theta0': 1.1624511407062184, 'theta1': 4.999999953351587, 'theta2': 5.0, 'theta1_prime': 5.483422681295619, 'theta2_prime': 5.483422681295619, 't1': 0.0, 'v': 1e-08, 'm1_star': 0, 'm2_star': 0, 'm1_prime_star': 0, 'm2_prime_star': 0}, -lnL: 44783.34446322129\n",
      "Parameters: {'theta0': 1.1624331988575445, 'theta1': 4.999999910824013, 'theta2': 5.0, 'theta1_prime': 5.483424520256322, 'theta2_prime': 5.483424520256322, 't1': 0.0, 'v': 0.0, 'm1_star': 0, 'm2_star': 0, 'm1_prime_star': 0, 'm2_prime_star': 0}, -lnL: 44783.34441838465\n",
      "Parameters: {'theta0': 1.1624332088575444, 'theta1': 4.999999910824013, 'theta2': 5.0, 'theta1_prime': 5.483424520256322, 'theta2_prime': 5.483424520256322, 't1': 0.0, 'v': 0.0, 'm1_star': 0, 'm2_star': 0, 'm1_prime_star': 0, 'm2_prime_star': 0}, -lnL: 44783.34441838463\n",
      "Parameters: {'theta0': 1.1624331988575445, 'theta1': 4.999999920824013, 'theta2': 5.0, 'theta1_prime': 5.483424520256322, 'theta2_prime': 5.483424520256322, 't1': 0.0, 'v': 0.0, 'm1_star': 0, 'm2_star': 0, 'm1_prime_star': 0, 'm2_prime_star': 0}, -lnL: 44783.34441838465\n",
      "Parameters: {'theta0': 1.1624331988575445, 'theta1': 4.999999910824013, 'theta2': 5.00000001, 'theta1_prime': 5.483424520256322, 'theta2_prime': 5.483424520256322, 't1': 0.0, 'v': 0.0, 'm1_star': 0, 'm2_star': 0, 'm1_prime_star': 0, 'm2_prime_star': 0}, -lnL: 44783.34441838465\n",
      "Parameters: {'theta0': 1.1624331988575445, 'theta1': 4.999999910824013, 'theta2': 5.0, 'theta1_prime': 5.483424530256322, 'theta2_prime': 5.483424520256322, 't1': 0.0, 'v': 0.0, 'm1_star': 0, 'm2_star': 0, 'm1_prime_star': 0, 'm2_prime_star': 0}, -lnL: 44783.34441838465\n",
      "Parameters: {'theta0': 1.1624331988575445, 'theta1': 4.999999910824013, 'theta2': 5.0, 'theta1_prime': 5.483424520256322, 'theta2_prime': 5.483424530256322, 't1': 0.0, 'v': 0.0, 'm1_star': 0, 'm2_star': 0, 'm1_prime_star': 0, 'm2_prime_star': 0}, -lnL: 44783.34441838465\n",
      "Parameters: {'theta0': 1.1624331988575445, 'theta1': 4.999999910824013, 'theta2': 5.0, 'theta1_prime': 5.483424520256322, 'theta2_prime': 5.483424520256322, 't1': 1e-08, 'v': 0.0, 'm1_star': 0, 'm2_star': 0, 'm1_prime_star': 0, 'm2_prime_star': 0}, -lnL: 44783.34446132708\n",
      "Parameters: {'theta0': 1.1624331988575445, 'theta1': 4.999999910824013, 'theta2': 5.0, 'theta1_prime': 5.483424520256322, 'theta2_prime': 5.483424520256322, 't1': 0.0, 'v': 1e-08, 'm1_star': 0, 'm2_star': 0, 'm1_prime_star': 0, 'm2_prime_star': 0}, -lnL: 44783.34446132708\n"
     ]
    }
   ],
   "source": [
    "model = demography.Demography(X=s_counts, model=\"iso\", no_migration=True).infer_parameters()"
   ]
  },
  {
   "cell_type": "code",
   "execution_count": 5,
   "metadata": {},
   "outputs": [
    {
     "data": {
      "text/plain": [
       "{'theta0': 1.1624331988575445, 'theta1': 4.999999910824013, 'theta2': 5.0, 'theta1_prime': 5.483424520256322, 'theta2_prime': 5.483424520256322, 't1': 0.0, 'v': 0.0, 'm1_star': 0, 'm2_star': 0, 'm1_prime_star': 0, 'm2_prime_star': 0, '-lnL': 44783.34441838465, 'aic': 89580.6888367693}"
      ]
     },
     "execution_count": 5,
     "metadata": {},
     "output_type": "execute_result"
    }
   ],
   "source": [
    "model"
   ]
  },
  {
   "cell_type": "code",
   "execution_count": 6,
   "metadata": {},
   "outputs": [
    {
     "data": {
      "text/plain": [
       "44783.34441838465"
      ]
     },
     "execution_count": 6,
     "metadata": {},
     "output_type": "execute_result"
    }
   ],
   "source": [
    "model.negll"
   ]
  },
  {
   "cell_type": "code",
   "execution_count": 8,
   "metadata": {},
   "outputs": [
    {
     "name": "stdout",
     "output_type": "stream",
     "text": [
      "Parameters: {'theta0': 0.01, 'theta1': 0.01, 'theta2': 0.01, 'theta1_prime': 0.01, 'theta2_prime': 0.01, 't': 0.01, 'v1': 0.01, 'm1_star': 0.0, 'm2_star': 0.0, 'm1_prime_star': 0.0, 'm2_prime_star': 0.0}, -lnL: 178099.18163771415\n"
     ]
    },
    {
     "data": {
      "text/plain": [
       "178099.18163771415"
      ]
     },
     "execution_count": 8,
     "metadata": {},
     "output_type": "execute_result"
    }
   ],
   "source": [
    "likelihood._composite_neg_ll(param_vals=[0.01, 0.01, 0.01, 0.01, 0.01, 0.01, 0.01 ,0,0,0,0], param_names=[\"theta0\", \"theta1\", \"theta2\", \"theta1_prime\", \"theta2_prime\", \"t\", \"v1\", \"m1_star\", \"m2_star\", \"m1_prime_star\", \"m2_prime_star\"], X=s_counts)"
   ]
  }
 ],
 "metadata": {
  "kernelspec": {
   "display_name": "dismal",
   "language": "python",
   "name": "python3"
  },
  "language_info": {
   "codemirror_mode": {
    "name": "ipython",
    "version": 3
   },
   "file_extension": ".py",
   "mimetype": "text/x-python",
   "name": "python",
   "nbconvert_exporter": "python",
   "pygments_lexer": "ipython3",
   "version": "3.10.10"
  },
  "orig_nbformat": 4
 },
 "nbformat": 4,
 "nbformat_minor": 2
}
