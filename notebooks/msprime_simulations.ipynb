{
 "cells": [
  {
   "cell_type": "code",
   "execution_count": 25,
   "metadata": {},
   "outputs": [],
   "source": [
    "import msprime\n",
    "from dismal import preprocess"
   ]
  },
  {
   "cell_type": "code",
   "execution_count": 76,
   "metadata": {},
   "outputs": [],
   "source": [
    "def _coalescent_time_to_generations(t, N):\n",
    "    return t*2*N\n",
    "\n",
    "def _calculate_Ne(theta, mu):\n",
    "    return theta/(4*mu)"
   ]
  },
  {
   "cell_type": "code",
   "execution_count": 110,
   "metadata": {},
   "outputs": [],
   "source": [
    "# Parameter settings\n",
    "theta0 = 5\n",
    "theta1 = 5\n",
    "theta2 = 5\n",
    "theta1_prime = 5\n",
    "theta2_prime = 5\n",
    "t1 = 5\n",
    "v = 5\n",
    "m1_star = 0\n",
    "m2_star = 0 \n",
    "m1_prime_star = 0\n",
    "m2_prime_star = 0 \n",
    "\n",
    "mu_per_site = 1e-5\n",
    "mu_per_generation = 1000\n",
    "block_len = 100\n",
    "num_replicates = 1000"
   ]
  },
  {
   "cell_type": "code",
   "execution_count": 111,
   "metadata": {},
   "outputs": [
    {
     "data": {
      "text/plain": [
       "Population(initial_size=0.00125, growth_rate=0, name='c2', description='', extra_metadata={}, default_sampling_time=None, initially_active=None, id=4)"
      ]
     },
     "execution_count": 111,
     "metadata": {},
     "output_type": "execute_result"
    }
   ],
   "source": [
    "demography = msprime.Demography()\n",
    "demography.add_population(name=\"a\", initial_size=_calculate_Ne(theta0, mu_per_generation))\n",
    "demography.add_population(name=\"b1\", initial_size=_calculate_Ne(theta1, mu_per_generation))\n",
    "demography.add_population(name=\"b\", initial_size=_calculate_Ne(theta2, mu_per_generation))\n",
    "demography.add_population(name=\"c1\", initial_size=_calculate_Ne(theta1_prime, mu_per_generation))\n",
    "demography.add_population(name=\"c2\", initial_size=_calculate_Ne(theta2_prime, mu_per_generation))"
   ]
  },
  {
   "cell_type": "code",
   "execution_count": 112,
   "metadata": {},
   "outputs": [
    {
     "name": "stdout",
     "output_type": "stream",
     "text": [
      "0.00125\n"
     ]
    }
   ],
   "source": [
    "tau1 = t1/theta1\n",
    "tau0 = v/theta1 + tau1\n",
    "N = _calculate_Ne(theta1, mu_per_generation)\n",
    "print(N)"
   ]
  },
  {
   "cell_type": "code",
   "execution_count": 113,
   "metadata": {},
   "outputs": [],
   "source": [
    "demography.add_population_split(time=_coalescent_time_to_generations((tau0), N), derived=[\"b1\", \"b\"], ancestral=\"a\")\n",
    "demography.add_population_split(time=_coalescent_time_to_generations(tau1, N), derived=[\"c1\"], ancestral=\"b1\")\n",
    "demography.add_population_split(time=_coalescent_time_to_generations(tau1, N), derived=[\"c2\"], ancestral=\"b\")\n",
    "demography.set_migration_rate(\"b1\", \"b\", m1_star)\n",
    "demography.set_migration_rate(\"b\", \"b1\", m2_star)\n",
    "demography.set_migration_rate(\"c1\", \"c2\", m1_prime_star)\n",
    "demography.set_migration_rate(\"c2\", \"c1\", m2_prime_star)\n",
    "demography.sort_events()"
   ]
  },
  {
   "cell_type": "code",
   "execution_count": 114,
   "metadata": {},
   "outputs": [],
   "source": [
    "ts_state1 = msprime.sim_ancestry(samples={'c1':2, 'c2':0}, demography=demography, sequence_length=block_len, num_replicates=num_replicates, ploidy=1)\n",
    "ts_state2 = msprime.sim_ancestry(samples={'c1':0, 'c2':2}, demography=demography, sequence_length=block_len, num_replicates=num_replicates, ploidy=1)\n",
    "ts_state3 = msprime.sim_ancestry(samples={'c1':1, 'c2':1}, demography=demography, sequence_length=block_len, num_replicates=num_replicates, ploidy=1)"
   ]
  },
  {
   "cell_type": "code",
   "execution_count": 116,
   "metadata": {},
   "outputs": [
    {
     "data": {
      "text/plain": [
       "[{}, {0: 1000}, {0: 1000}]"
      ]
     },
     "execution_count": 116,
     "metadata": {},
     "output_type": "execute_result"
    }
   ],
   "source": [
    "s = []\n",
    "\n",
    "s_dicts = []\n",
    "for ts_state in [ts_state1, ts_state2, ts_state3]:\n",
    "    s = []\n",
    "    for ts in ts_state:\n",
    "        mts = msprime.sim_mutations(ts, rate=mutation_rate, discrete_genome=False)\n",
    "        s.append(mts.get_num_mutations())\n",
    "    s_dicts.append(preprocess.counts_to_dict(s))\n",
    "s_dicts"
   ]
  },
  {
   "cell_type": "code",
   "execution_count": null,
   "metadata": {},
   "outputs": [],
   "source": []
  }
 ],
 "metadata": {
  "kernelspec": {
   "display_name": "dismal",
   "language": "python",
   "name": "python3"
  },
  "language_info": {
   "codemirror_mode": {
    "name": "ipython",
    "version": 3
   },
   "file_extension": ".py",
   "mimetype": "text/x-python",
   "name": "python",
   "nbconvert_exporter": "python",
   "pygments_lexer": "ipython3",
   "version": "3.10.10"
  },
  "orig_nbformat": 4
 },
 "nbformat": 4,
 "nbformat_minor": 2
}
