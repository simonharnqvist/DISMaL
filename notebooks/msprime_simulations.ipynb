{
 "cells": [
  {
   "cell_type": "code",
   "execution_count": 1,
   "metadata": {},
   "outputs": [],
   "source": [
    "import msprime\n",
    "import numpy as np\n",
    "from collections import Counter\n",
    "import seaborn as sns\n",
    "import matplotlib.pyplot as plt\n",
    "import pandas as pd\n",
    "from dismal.preprocess import s_matrix_from_dicts\n",
    "from dismal.demography import DemographicModel\n",
    "from dismal import generator_matrices\n",
    "from dismal.likelihood import *\n",
    "from numpy import linalg"
   ]
  },
  {
   "cell_type": "code",
   "execution_count": 2,
   "metadata": {},
   "outputs": [],
   "source": [
    "def simulate_msprime(theta0, theta1, theta2, theta1_prime, theta2_prime, t1, v, m1_star, m2_star, m1_prime_star, m2_prime_star, Ne, block_len, num_replicates):\n",
    "\n",
    "    # Time parameter conversions\n",
    "    t0_coal_time = (t1+v)/theta1\n",
    "    t0_gen_time = 2*Ne*t0_coal_time\n",
    "    t1_coal_time = t1/theta1\n",
    "    t1_gen_time = 2*Ne*t1_coal_time\n",
    "\n",
    "    # Convert theta values from per block to per base\n",
    "    ms_theta0, ms_theta1, ms_theta2, ms_theta1_prime, ms_theta2_prime = [theta/block_len for theta in [theta0, theta1, theta2, theta1_prime, theta2_prime]]\n",
    "\n",
    "    # Mutation rate\n",
    "    mu_per_bp = (ms_theta1/(4*Ne))\n",
    "\n",
    "    # Convert thetas to Ne\n",
    "    Ne_a, Ne_b, Ne_c1, Ne_c2 = [theta/(4*mu_per_bp) for theta in [ms_theta0, ms_theta2, ms_theta1_prime, ms_theta2_prime]]\n",
    "\n",
    "    demography = msprime.Demography()\n",
    "    demography.add_population(name=\"a\", initial_size=Ne_a)\n",
    "    demography.add_population(name=\"b1\", initial_size=Ne)\n",
    "    demography.add_population(name=\"b2\", initial_size=Ne_b)\n",
    "    demography.add_population(name=\"c1\", initial_size=Ne_c1)\n",
    "    demography.add_population(name=\"c2\", initial_size=Ne_c2)\n",
    "    demography.add_population_split(time=t0_gen_time, derived=[\"b1\", \"b2\"], ancestral=\"a\")\n",
    "    demography.add_population_split(time=t1_gen_time, derived=[\"c1\"], ancestral=\"b1\")\n",
    "    demography.add_population_split(time=t1_gen_time, derived=[\"c2\"], ancestral=\"b2\")\n",
    "    demography.set_migration_rate(\"b2\", \"b1\", m2_star/2) # NB: backwards in time in msprime\n",
    "    demography.set_migration_rate(\"b1\", \"b2\", m1_star/2)\n",
    "    demography.set_migration_rate(\"c2\", \"c1\", m2_prime_star/2)\n",
    "    demography.set_migration_rate(\"c1\", \"c2\", m1_prime_star/2)\n",
    "    demography.sort_events()\n",
    "\n",
    "    ts_state1 = msprime.sim_ancestry(samples={'c1':2, 'c2':0}, demography=demography, sequence_length=block_len, num_replicates=num_replicates, ploidy=2)\n",
    "    ts_state2 = msprime.sim_ancestry(samples={'c1':0, 'c2':2}, demography=demography, sequence_length=block_len, num_replicates=num_replicates, ploidy=2)\n",
    "    ts_state3 = msprime.sim_ancestry(samples={'c1':1, 'c2':1}, demography=demography, sequence_length=block_len, num_replicates=num_replicates, ploidy=2)\n",
    "\n",
    "    s = []\n",
    "    for ts in [ts_state1, ts_state2, ts_state3]:\n",
    "        sim = np.zeros(2_000)\n",
    "        for replicate_index, ts in enumerate(ts):\n",
    "            ts_muts = msprime.sim_mutations(ts, rate=mu_per_bp, discrete_genome=False)\n",
    "            sim[replicate_index] = ts_muts.divergence(sample_sets=[[0],[2]], span_normalise=False)\n",
    "\n",
    "        s_counts_dict = Counter(sim)\n",
    "        s.append(dict(sorted(s_counts_dict.items())))\n",
    "\n",
    "\n",
    "    return s\n"
   ]
  },
  {
   "attachments": {},
   "cell_type": "markdown",
   "metadata": {},
   "source": [
    "### Isolation model, identical population sizes"
   ]
  },
  {
   "cell_type": "code",
   "execution_count": 3,
   "metadata": {},
   "outputs": [],
   "source": [
    "sim_iso1 = simulate_msprime(theta0=2.4, theta1=2.4, theta2=2.4, theta1_prime=2.4, theta2_prime=2.4, t1=1, v=2, m1_star=0, m2_star=0, m1_prime_star=0, m2_prime_star=0, Ne=1e-6, block_len=200, num_replicates=2000)"
   ]
  },
  {
   "cell_type": "code",
   "execution_count": 4,
   "metadata": {},
   "outputs": [
    {
     "data": {
      "text/plain": [
       "[{0.0: 601,\n",
       "  1.0: 440,\n",
       "  2.0: 268,\n",
       "  3.0: 207,\n",
       "  4.0: 147,\n",
       "  5.0: 105,\n",
       "  6.0: 53,\n",
       "  7.0: 46,\n",
       "  8.0: 38,\n",
       "  9.0: 24,\n",
       "  10.0: 22,\n",
       "  11.0: 10,\n",
       "  12.0: 16,\n",
       "  13.0: 4,\n",
       "  14.0: 2,\n",
       "  15.0: 4,\n",
       "  16.0: 4,\n",
       "  17.0: 1,\n",
       "  18.0: 4,\n",
       "  19.0: 2,\n",
       "  21.0: 1,\n",
       "  26.0: 1},\n",
       " {0.0: 572,\n",
       "  1.0: 432,\n",
       "  2.0: 296,\n",
       "  3.0: 195,\n",
       "  4.0: 139,\n",
       "  5.0: 104,\n",
       "  6.0: 77,\n",
       "  7.0: 54,\n",
       "  8.0: 34,\n",
       "  9.0: 20,\n",
       "  10.0: 20,\n",
       "  11.0: 19,\n",
       "  12.0: 12,\n",
       "  13.0: 8,\n",
       "  14.0: 5,\n",
       "  15.0: 6,\n",
       "  16.0: 3,\n",
       "  17.0: 2,\n",
       "  18.0: 1,\n",
       "  21.0: 1},\n",
       " {0.0: 22,\n",
       "  1.0: 105,\n",
       "  2.0: 224,\n",
       "  3.0: 294,\n",
       "  4.0: 289,\n",
       "  5.0: 261,\n",
       "  6.0: 193,\n",
       "  7.0: 167,\n",
       "  8.0: 120,\n",
       "  9.0: 102,\n",
       "  10.0: 65,\n",
       "  11.0: 47,\n",
       "  12.0: 37,\n",
       "  13.0: 26,\n",
       "  14.0: 15,\n",
       "  15.0: 8,\n",
       "  16.0: 7,\n",
       "  17.0: 8,\n",
       "  18.0: 3,\n",
       "  19.0: 2,\n",
       "  20.0: 1,\n",
       "  21.0: 1,\n",
       "  23.0: 1,\n",
       "  24.0: 2}]"
      ]
     },
     "execution_count": 4,
     "metadata": {},
     "output_type": "execute_result"
    }
   ],
   "source": [
    "sim_iso1"
   ]
  },
  {
   "cell_type": "code",
   "execution_count": 12,
   "metadata": {},
   "outputs": [
    {
     "data": {
      "text/plain": [
       "2.4574999999999996"
      ]
     },
     "execution_count": 12,
     "metadata": {},
     "output_type": "execute_result"
    }
   ],
   "source": [
    "np.sum(np.array(list(sim_iso1[1].keys())) * np.array(list(sim_iso1[1].values())) / np.sum(np.array(list(sim_iso1[1].values()))))"
   ]
  },
  {
   "cell_type": "code",
   "execution_count": 4,
   "metadata": {},
   "outputs": [],
   "source": [
    "s_mat = s_matrix_from_dicts(sim_iso1)"
   ]
  },
  {
   "cell_type": "code",
   "execution_count": 8,
   "metadata": {},
   "outputs": [
    {
     "name": "stdout",
     "output_type": "stream",
     "text": [
      "iv: [5, 5, 5, 5, 5, 5, 5, 0.3, 0.3, 0.3, 0.3], lb: [0.01, 0.01, 0.01, 0.01, 0.01, 0, 0, 0, 0, 0, 0], ub: [None, None, None, None, None, None, None, None, None, None, None]\n"
     ]
    },
    {
     "name": "stderr",
     "output_type": "stream",
     "text": [
      "/Users/s2341012/Dropbox/DISMaL_chapter/DISMaL/dismal/likelihood.py:47: RuntimeWarning: overflow encountered in exp\n",
      "  gammas.append((gamma/(gamma+rel_mu)) * ((rel_mu/(gamma+rel_mu))**s) * np.exp(gamma*t0) * poisson.cdf(s, (t0*(gamma+rel_mu))))\n",
      "/Users/s2341012/Dropbox/DISMaL_chapter/DISMaL/dismal/likelihood.py:47: RuntimeWarning: invalid value encountered in scalar multiply\n",
      "  gammas.append((gamma/(gamma+rel_mu)) * ((rel_mu/(gamma+rel_mu))**s) * np.exp(gamma*t0) * poisson.cdf(s, (t0*(gamma+rel_mu))))\n"
     ]
    },
    {
     "data": {
      "text/plain": [
       "{'theta0': 2.3663663947784817, 'theta1': 7.579156347830399, 'theta2': 9.622917713055912, 'theta1_prime': 17.610124972374027, 'theta2_prime': 17.72978387959142, 't1': 3.1605020262040555, 'v': 11.851214870728397, 'm1_star': 34.30703623341593, 'm2_star': 27.4761422396686, 'm1_prime_star': 0.06383717494791225, 'm2_prime_star': 0.027745338886504215, '-lnL': 13150.916582914175, 'aic': 26323.83316582835}"
      ]
     },
     "execution_count": 8,
     "metadata": {},
     "output_type": "execute_result"
    }
   ],
   "source": [
    "DemographicModel(S=s_mat, model=\"gim\").infer_parameters(verbose=False)"
   ]
  },
  {
   "cell_type": "code",
   "execution_count": 50,
   "metadata": {},
   "outputs": [
    {
     "data": {
      "text/plain": [
       "0.06766764161830634"
      ]
     },
     "execution_count": 50,
     "metadata": {},
     "output_type": "execute_result"
    }
   ],
   "source": [
    "q1, q2, q3 = GeneratorMatrix.from_params([1,1,1,1,1,1,1,0,0,0,0])\n",
    "np.exp(-np.array(likelihood_matrix(q1, q2, q3, 1, 1, s_mat)))[2][0]"
   ]
  },
  {
   "cell_type": "code",
   "execution_count": 54,
   "metadata": {},
   "outputs": [
    {
     "data": {
      "text/plain": [
       "array([[0.43233236],\n",
       "       [0.43233236],\n",
       "       [0.        ]])"
      ]
     },
     "execution_count": 54,
     "metadata": {},
     "output_type": "execute_result"
    }
   ],
   "source": [
    "p_matrix()"
   ]
  },
  {
   "cell_type": "code",
   "execution_count": 57,
   "metadata": {},
   "outputs": [
    {
     "data": {
      "text/plain": [
       "[0.06766764161830635,\n",
       " 0.1353352832366127,\n",
       " 0.1353352832366127,\n",
       " 0.09022352215774178,\n",
       " 0.04511176107887089,\n",
       " 0.01804470443154836,\n",
       " 0.0060149014771827825,\n",
       " 0.0017185432791950808,\n",
       " 0.0004296358197987701,\n",
       " 9.547462662194911e-05]"
      ]
     },
     "execution_count": 57,
     "metadata": {},
     "output_type": "execute_result"
    }
   ],
   "source": [
    "def expect_state3(k, theta, tau):\n",
    "    return 1/(theta+1) * poisson.pmf(k, 2*tau)\n",
    "\n",
    "[expect_state3(k,1,1) for k in [i for i in range(0,10)]]"
   ]
  },
  {
   "cell_type": "code",
   "execution_count": 58,
   "metadata": {},
   "outputs": [],
   "source": [
    "import math"
   ]
  },
  {
   "cell_type": "code",
   "execution_count": null,
   "metadata": {},
   "outputs": [],
   "source": []
  },
  {
   "cell_type": "code",
   "execution_count": 76,
   "metadata": {},
   "outputs": [],
   "source": [
    "def expect_state3_cwh(k, theta, tau, a):\n",
    "    return (math.exp(-theta*tau) * ((a*theta)**k) / ((1+a*theta)**(k+1))) * np.sum([(((1/a+theta)**l) * (tau**l))/math.factorial(l) for l in range(0,k+1)])\n"
   ]
  },
  {
   "cell_type": "code",
   "execution_count": 84,
   "metadata": {},
   "outputs": [
    {
     "data": {
      "text/plain": [
       "0.06766764161830635"
      ]
     },
     "execution_count": 84,
     "metadata": {},
     "output_type": "execute_result"
    }
   ],
   "source": [
    "expect_state3_cwh(0, 1, 2, 1)"
   ]
  },
  {
   "cell_type": "code",
   "execution_count": 87,
   "metadata": {},
   "outputs": [
    {
     "data": {
      "text/plain": [
       "[0, 1]"
      ]
     },
     "execution_count": 87,
     "metadata": {},
     "output_type": "execute_result"
    }
   ],
   "source": [
    "k = 1\n",
    "[i for i in range(0,k+1)]"
   ]
  },
  {
   "cell_type": "code",
   "execution_count": null,
   "metadata": {},
   "outputs": [],
   "source": []
  }
 ],
 "metadata": {
  "kernelspec": {
   "display_name": "dismal",
   "language": "python",
   "name": "python3"
  },
  "language_info": {
   "codemirror_mode": {
    "name": "ipython",
    "version": 3
   },
   "file_extension": ".py",
   "mimetype": "text/x-python",
   "name": "python",
   "nbconvert_exporter": "python",
   "pygments_lexer": "ipython3",
   "version": "3.10.10"
  },
  "orig_nbformat": 4
 },
 "nbformat": 4,
 "nbformat_minor": 2
}
