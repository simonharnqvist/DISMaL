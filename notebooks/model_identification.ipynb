{
 "cells": [
  {
   "attachments": {},
   "cell_type": "markdown",
   "metadata": {},
   "source": [
    "# Model identification tests\n",
    "### Can DISMaL correctly identify the model simulated data was generated under?"
   ]
  },
  {
   "cell_type": "code",
   "execution_count": 1,
   "metadata": {},
   "outputs": [
    {
     "name": "stdout",
     "output_type": "stream",
     "text": [
      "Processing /Users/s2341012/Dropbox/DISMaL_chapter/DISMaL\n",
      "  Preparing metadata (setup.py) ... \u001b[?25ldone\n",
      "\u001b[?25hBuilding wheels for collected packages: dismal\n",
      "  Building wheel for dismal (setup.py) ... \u001b[?25ldone\n",
      "\u001b[?25h  Created wheel for dismal: filename=dismal-0.1-py3-none-any.whl size=21643 sha256=c00dede3c636f034d1fe6e69b5895d717d9e1e2f62117d07520800b11a48db3c\n",
      "  Stored in directory: /private/var/folders/qk/10crn8pd5_d038f0tw_7z2800000gp/T/pip-ephem-wheel-cache-mn8v8fhi/wheels/10/c9/59/9e87bfb89308645a07e4be9051b0645d49425b51da0dd9ddc7\n",
      "Successfully built dismal\n",
      "Installing collected packages: dismal\n",
      "  Attempting uninstall: dismal\n",
      "    Found existing installation: dismal 0.1\n",
      "    Uninstalling dismal-0.1:\n",
      "      Successfully uninstalled dismal-0.1\n",
      "Successfully installed dismal-0.1\n"
     ]
    }
   ],
   "source": [
    "! pip install ..\n",
    "from dismal.simulate import MsprimeSimulation\n",
    "from dismal.demography import DemographicModel\n",
    "from dismal.metrics import likelihood_ratio_test\n",
    "import pandas as pd\n",
    "import random\n",
    "from scipy.stats import poisson"
   ]
  },
  {
   "cell_type": "code",
   "execution_count": 2,
   "metadata": {},
   "outputs": [],
   "source": [
    "def four_model_lrt(iso_model, iim_model, sc_model, gim_model, multiple_test_corr=\"Bonferroni\"):\n",
    "    \"\"\"Perform six tests between four models:\n",
    "        1. IIM better than ISO?\n",
    "        2. SC better than ISO?\n",
    "        3. GIM better than ISO?\n",
    "        4. GIM better than IIM?\n",
    "        5. GIM better than SC?\n",
    "        6. SEC lower AIC than IIM?\"\"\"\n",
    "    \n",
    "    if multiple_test_corr == \"Bonferroni\":\n",
    "        alpha = 0.05/5 # 5 LRTs, Bonferroni correction\n",
    "    else:\n",
    "        raise NotImplementedError(\"Only Bonferroni correction implemented\")\n",
    "    \n",
    "    # Tests 1-3\n",
    "    test_bools = [likelihood_ratio_test(iso_model, mod, alpha=alpha)[\"Reject H0\"] for mod in [iim_model, sc_model, gim_model]]\n",
    "\n",
    "    # Tests 4-5:\n",
    "    test_bools.append([likelihood_ratio_test(mod, gim_model, alpha=alpha)[\"Reject H0\"] for mod in [iim_model, sc_model]])\n",
    "\n",
    "    # Test 6:\n",
    "    test_bools.append(iim_model.aic > sc_model.aic)\n",
    "\n",
    "    if test_bools[0:1]: # reject IIM and SEC models\n",
    "        inferred_model_type = \"ISO\"\n",
    "    elif test_bools[3] and test_bools[5]: # reject GIM, IIM better than SC\n",
    "        inferred_model_type = \"IIM\"\n",
    "    elif test_bools[4]:\n",
    "        inferred_model_type = \"SC\"\n",
    "    else:\n",
    "        assert all(test_bools[2:5]) # GIM better than all three simpler models\n",
    "        inferred_model_type = \"GIM\"\n",
    "\n",
    "    return inferred_model_type\n",
    "\n",
    "def test_model_identification(S, true_model):\n",
    "    model_names = [\"ISO\", \"IIM\", \"SC\", \"GIM\"]\n",
    "    inferred_models = []\n",
    "\n",
    "    for model in model_names:\n",
    "        inferred_models.append(DemographicModel(S, model=model).infer_parameters(verbose=False))\n",
    "\n",
    "    neglls = [model.negll for model in inferred_models]\n",
    "    aics = [model.aic for model in inferred_models]\n",
    "    n_params = [model.n_params for model in inferred_models]\n",
    "\n",
    "    pd.DataFrame({\"True model\": true_model, \"Model\": model_names, \"negll\": neglls, \"aic\":aics, \"n_params\":n_params})\n",
    "\n",
    "    inferred_model_type = four_model_lrt(inferred_models[0], inferred_models[1], inferred_models[2], inferred_models[3])\n",
    "    \n",
    "    return {\"True model\": true_model, \"Inferred model\": inferred_model_type}"
   ]
  },
  {
   "attachments": {},
   "cell_type": "markdown",
   "metadata": {},
   "source": [
    "## 1. Data generated under isolation model"
   ]
  },
  {
   "attachments": {},
   "cell_type": "markdown",
   "metadata": {},
   "source": [
    "#### Scenarios\n",
    "* A: equal population sizes, t1/v corresponding to initial values\n",
    "* B: random variation in population sizes, t1/v corresponding to initial values\n",
    "* C: equal population sizes, bad values for t1/v"
   ]
  },
  {
   "attachments": {},
   "cell_type": "markdown",
   "metadata": {},
   "source": [
    "#### A: equal population sizes"
   ]
  },
  {
   "cell_type": "code",
   "execution_count": 4,
   "metadata": {},
   "outputs": [
    {
     "name": "stdout",
     "output_type": "stream",
     "text": [
      "{'True model': 'ISO', 'Inferred model': 'ISO'}\n"
     ]
    },
    {
     "name": "stderr",
     "output_type": "stream",
     "text": [
      "/Users/s2341012/Dropbox/DISMaL_chapter/DISMaL/dismal/likelihood.py:41: RuntimeWarning: overflow encountered in exp\n",
      "  np.exp(beta*t1) * (poisson.cdf(s, (t1*(beta+rel_mu))) - poisson.cdf(s, (t0*(beta+rel_mu)))))\n",
      "/Users/s2341012/Dropbox/DISMaL_chapter/DISMaL/dismal/likelihood.py:40: RuntimeWarning: invalid value encountered in multiply\n",
      "  betas.append((beta/(beta+rel_mu)) * ((rel_mu/(beta+rel_mu))**s) *\n",
      "/Users/s2341012/Dropbox/DISMaL_chapter/DISMaL/dismal/likelihood.py:49: RuntimeWarning: overflow encountered in exp\n",
      "  np.exp(gamma*t0) * poisson.cdf(s, (t0*(gamma+rel_mu))))\n",
      "/Users/s2341012/Dropbox/DISMaL_chapter/DISMaL/dismal/likelihood.py:48: RuntimeWarning: invalid value encountered in scalar multiply\n",
      "  gammas.append((gamma/(gamma+rel_mu)) * ((rel_mu/(gamma+rel_mu))**s) *\n"
     ]
    },
    {
     "name": "stdout",
     "output_type": "stream",
     "text": [
      "{'True model': 'ISO', 'Inferred model': 'ISO'}\n"
     ]
    },
    {
     "name": "stderr",
     "output_type": "stream",
     "text": [
      "/Users/s2341012/Dropbox/DISMaL_chapter/DISMaL/dismal/likelihood.py:74: RuntimeWarning: invalid value encountered in matmul\n",
      "  + pij1[i, 0:3] @ cc[0:3, 0:3] @ beta_matrix(beta=beta, s_vals=s_vals, t1=t1, t0=t0) +\n",
      "/Users/s2341012/Dropbox/DISMaL_chapter/DISMaL/dismal/likelihood.py:91: RuntimeWarning: invalid value encountered in multiply\n",
      "  negll = np.sum(ll_matrix * S)\n"
     ]
    },
    {
     "name": "stdout",
     "output_type": "stream",
     "text": [
      "{'True model': 'ISO', 'Inferred model': 'ISO'}\n",
      "{'True model': 'ISO', 'Inferred model': 'ISO'}\n",
      "{'True model': 'ISO', 'Inferred model': 'ISO'}\n"
     ]
    }
   ],
   "source": [
    "iso_a = [simulate_msprime(theta0=2, theta1=2, theta2=2, theta1_prime=2, theta2_prime=2,\n",
    "                           t1=5, v=5, m1_star=0, m2_star=0, m1_prime_star=0, m2_prime_star=0, Ne=1e5, block_len=200, num_replicates=2000) for _ in range(0,5)]\n",
    "\n",
    "for sim in iso_a:\n",
    "    print(test_model_identification(sim, \"ISO\"))"
   ]
  },
  {
   "attachments": {},
   "cell_type": "markdown",
   "metadata": {},
   "source": [
    "#### B: random variation in population sizes"
   ]
  },
  {
   "cell_type": "code",
   "execution_count": 5,
   "metadata": {},
   "outputs": [],
   "source": [
    "iso_b = [simulate_msprime(random.uniform(0.1, 10), theta1=random.uniform(0.1, 10),\n",
    "                           theta2=random.uniform(0.1, 10), theta1_prime=random.uniform(0.1, 10),\n",
    "                             theta2_prime=random.uniform(0.1, 10), t1=5, v=5, m1_star=0, m2_star=0,\n",
    "                               m1_prime_star=0, m2_prime_star=0, Ne=1e-5, block_len=200, num_replicates=2000) for _ in range(0,5)]\n",
    "\n",
    "for sim in iso_b:\n",
    "    print(test_model_identification(sim, \"ISO\"))"
   ]
  },
  {
   "attachments": {},
   "cell_type": "markdown",
   "metadata": {},
   "source": [
    "#### C: values for t1 and v far from starting values"
   ]
  },
  {
   "cell_type": "code",
   "execution_count": 9,
   "metadata": {},
   "outputs": [
    {
     "name": "stdout",
     "output_type": "stream",
     "text": [
      "{'True model': 'ISO', 'Inferred model': 'ISO'}\n",
      "{'True model': 'ISO', 'Inferred model': 'ISO'}\n",
      "{'True model': 'ISO', 'Inferred model': 'ISO'}\n",
      "{'True model': 'ISO', 'Inferred model': 'ISO'}\n"
     ]
    },
    {
     "name": "stderr",
     "output_type": "stream",
     "text": [
      "/Users/s2341012/Dropbox/DISMaL_chapter/DISMaL/dismal/likelihood.py:41: RuntimeWarning: overflow encountered in exp\n",
      "  np.exp(beta*t1) * (poisson.cdf(s, (t1*(beta+rel_mu))) - poisson.cdf(s, (t0*(beta+rel_mu)))))\n",
      "/Users/s2341012/Dropbox/DISMaL_chapter/DISMaL/dismal/likelihood.py:40: RuntimeWarning: invalid value encountered in multiply\n",
      "  betas.append((beta/(beta+rel_mu)) * ((rel_mu/(beta+rel_mu))**s) *\n"
     ]
    },
    {
     "name": "stdout",
     "output_type": "stream",
     "text": [
      "{'True model': 'ISO', 'Inferred model': 'ISO'}\n"
     ]
    }
   ],
   "source": [
    "# Default values for t1 and v are 5\n",
    "iso_c = [simulate_msprime(theta0=2, theta1=2, theta2=2, theta1_prime=2, theta2_prime=2,\n",
    "                           t1=0.1, v=10, m1_star=0, m2_star=0, m1_prime_star=0, m2_prime_star=0, Ne=1e-6, block_len=200, num_replicates=2000) for _ in range(0,5)]\n",
    "\n",
    "for sim in iso_c:\n",
    "    print(test_model_identification(sim, \"ISO\"))"
   ]
  },
  {
   "attachments": {},
   "cell_type": "markdown",
   "metadata": {},
   "source": [
    "## 2. Data generated under IIM model\n",
    "#### (Random variation in migration rates, constant population sizes)"
   ]
  },
  {
   "cell_type": "code",
   "execution_count": 3,
   "metadata": {},
   "outputs": [
    {
     "name": "stderr",
     "output_type": "stream",
     "text": [
      "/Users/s2341012/Dropbox/DISMaL_chapter/DISMaL/dismal/likelihood.py:49: RuntimeWarning: overflow encountered in exp\n",
      "  np.exp(gamma*t0) * poisson.cdf(s, (t0*(gamma+rel_mu))))\n",
      "/Users/s2341012/Dropbox/DISMaL_chapter/DISMaL/dismal/likelihood.py:48: RuntimeWarning: invalid value encountered in scalar multiply\n",
      "  gammas.append((gamma/(gamma+rel_mu)) * ((rel_mu/(gamma+rel_mu))**s) *\n"
     ]
    },
    {
     "name": "stdout",
     "output_type": "stream",
     "text": [
      "{'True model': 'IIM', 'Inferred model': 'ISO'}\n"
     ]
    },
    {
     "name": "stderr",
     "output_type": "stream",
     "text": [
      "/Users/s2341012/Dropbox/DISMaL_chapter/DISMaL/dismal/likelihood.py:41: RuntimeWarning: overflow encountered in exp\n",
      "  np.exp(beta*t1) * (poisson.cdf(s, (t1*(beta+rel_mu))) - poisson.cdf(s, (t0*(beta+rel_mu)))))\n",
      "/Users/s2341012/Dropbox/DISMaL_chapter/DISMaL/dismal/likelihood.py:40: RuntimeWarning: invalid value encountered in multiply\n",
      "  betas.append((beta/(beta+rel_mu)) * ((rel_mu/(beta+rel_mu))**s) *\n",
      "/Users/s2341012/Dropbox/DISMaL_chapter/DISMaL/dismal/likelihood.py:74: RuntimeWarning: invalid value encountered in matmul\n",
      "  + pij1[i, 0:3] @ cc[0:3, 0:3] @ beta_matrix(beta=beta, s_vals=s_vals, t1=t1, t0=t0) +\n",
      "/Users/s2341012/Dropbox/DISMaL_chapter/DISMaL/dismal/likelihood.py:91: RuntimeWarning: invalid value encountered in multiply\n",
      "  negll = np.sum(ll_matrix * S)\n"
     ]
    },
    {
     "ename": "KeyboardInterrupt",
     "evalue": "",
     "output_type": "error",
     "traceback": [
      "\u001b[0;31m---------------------------------------------------------------------------\u001b[0m",
      "\u001b[0;31mKeyboardInterrupt\u001b[0m                         Traceback (most recent call last)",
      "Cell \u001b[0;32mIn[3], line 6\u001b[0m\n\u001b[1;32m      1\u001b[0m iim \u001b[39m=\u001b[39m [simulate_msprime(theta0\u001b[39m=\u001b[39m\u001b[39m1\u001b[39m, theta1\u001b[39m=\u001b[39m\u001b[39m1\u001b[39m, theta2\u001b[39m=\u001b[39m\u001b[39m1\u001b[39m, theta1_prime\u001b[39m=\u001b[39m\u001b[39m1\u001b[39m, theta2_prime\u001b[39m=\u001b[39m\u001b[39m1\u001b[39m, \n\u001b[1;32m      2\u001b[0m                           t1\u001b[39m=\u001b[39m\u001b[39m5\u001b[39m, v\u001b[39m=\u001b[39m\u001b[39m5\u001b[39m, m1_star\u001b[39m=\u001b[39mrandom\u001b[39m.\u001b[39muniform(\u001b[39m0.5\u001b[39m, \u001b[39m10\u001b[39m), m2_star\u001b[39m=\u001b[39mrandom\u001b[39m.\u001b[39muniform(\u001b[39m0.5\u001b[39m, \u001b[39m10\u001b[39m),\n\u001b[1;32m      3\u001b[0m                                m1_prime_star\u001b[39m=\u001b[39m\u001b[39m0\u001b[39m, m2_prime_star\u001b[39m=\u001b[39m\u001b[39m0\u001b[39m, Ne\u001b[39m=\u001b[39m\u001b[39m1e-6\u001b[39m, block_len\u001b[39m=\u001b[39m\u001b[39m200\u001b[39m, num_replicates\u001b[39m=\u001b[39m\u001b[39m2000\u001b[39m) \u001b[39mfor\u001b[39;00m _ \u001b[39min\u001b[39;00m \u001b[39mrange\u001b[39m(\u001b[39m0\u001b[39m,\u001b[39m5\u001b[39m)]\n\u001b[1;32m      5\u001b[0m \u001b[39mfor\u001b[39;00m sim \u001b[39min\u001b[39;00m iim:\n\u001b[0;32m----> 6\u001b[0m     \u001b[39mprint\u001b[39m(test_model_identification(sim, \u001b[39m\"\u001b[39;49m\u001b[39mIIM\u001b[39;49m\u001b[39m\"\u001b[39;49m))\n",
      "Cell \u001b[0;32mIn[2], line 41\u001b[0m, in \u001b[0;36mtest_model_identification\u001b[0;34m(S, true_model)\u001b[0m\n\u001b[1;32m     38\u001b[0m inferred_models \u001b[39m=\u001b[39m []\n\u001b[1;32m     40\u001b[0m \u001b[39mfor\u001b[39;00m model \u001b[39min\u001b[39;00m model_names:\n\u001b[0;32m---> 41\u001b[0m     inferred_models\u001b[39m.\u001b[39mappend(DemographicModel(S, model\u001b[39m=\u001b[39;49mmodel)\u001b[39m.\u001b[39;49minfer_parameters(verbose\u001b[39m=\u001b[39;49m\u001b[39mFalse\u001b[39;49;00m))\n\u001b[1;32m     43\u001b[0m neglls \u001b[39m=\u001b[39m [model\u001b[39m.\u001b[39mnegll \u001b[39mfor\u001b[39;00m model \u001b[39min\u001b[39;00m inferred_models]\n\u001b[1;32m     44\u001b[0m aics \u001b[39m=\u001b[39m [model\u001b[39m.\u001b[39maic \u001b[39mfor\u001b[39;00m model \u001b[39min\u001b[39;00m inferred_models]\n",
      "File \u001b[0;32m~/opt/anaconda3/envs/dismal/lib/python3.10/site-packages/dismal/demography.py:170\u001b[0m, in \u001b[0;36mDemographicModel.infer_parameters\u001b[0;34m(self, optimisation_algo, theta0_iv, theta1_iv, theta2_iv, theta1_prime_iv, theta2_prime_iv, t1_iv, v_iv, m1_star_iv, m2_star_iv, m1_prime_star_iv, m2_prime_star_iv, theta0_lb, theta1_lb, theta2_lb, theta1_prime_lb, theta2_prime_lb, t1_lb, v_lb, m1_star_lb, m2_star_lb, m1_prime_star_lb, m2_prime_star_lb, verbose)\u001b[0m\n\u001b[1;32m    164\u001b[0m         upper_bounds[mig_rates[i]] \u001b[39m=\u001b[39m \u001b[39m0\u001b[39m\n\u001b[1;32m    167\u001b[0m n_params \u001b[39m=\u001b[39m \u001b[39m11\u001b[39m \u001b[39m-\u001b[39m \u001b[39mlen\u001b[39m([i \u001b[39mfor\u001b[39;00m i \u001b[39min\u001b[39;00m [\u001b[39mself\u001b[39m\u001b[39m.\u001b[39mset_m1_star_zero, \u001b[39mself\u001b[39m\u001b[39m.\u001b[39mset_m2_star_zero, \u001b[39mself\u001b[39m\u001b[39m.\u001b[39mset_m1_prime_star_zero, \u001b[39mself\u001b[39m\u001b[39m.\u001b[39mset_m2_prime_star_zero] \u001b[39mif\u001b[39;00m i])\n\u001b[0;32m--> 170\u001b[0m inferred_params, negll \u001b[39m=\u001b[39m likelihood\u001b[39m.\u001b[39;49moptimise_neg_ll(S\u001b[39m=\u001b[39;49m\u001b[39mself\u001b[39;49m\u001b[39m.\u001b[39;49mS, initial_vals\u001b[39m=\u001b[39;49m\u001b[39mlist\u001b[39;49m(initial_values\u001b[39m.\u001b[39;49mvalues()), lower_bounds\u001b[39m=\u001b[39;49m\u001b[39mlist\u001b[39;49m(lower_bounds\u001b[39m.\u001b[39;49mvalues()), upper_bounds\u001b[39m=\u001b[39;49m\u001b[39mlist\u001b[39;49m(upper_bounds\u001b[39m.\u001b[39;49mvalues()), optimisation_algo\u001b[39m=\u001b[39;49moptimisation_algo, verbose\u001b[39m=\u001b[39;49mverbose)\n\u001b[1;32m    172\u001b[0m \u001b[39mreturn\u001b[39;00m InferredDemography(theta0\u001b[39m=\u001b[39minferred_params[\u001b[39m0\u001b[39m], theta1\u001b[39m=\u001b[39minferred_params[\u001b[39m1\u001b[39m], theta2\u001b[39m=\u001b[39minferred_params[\u001b[39m2\u001b[39m],\n\u001b[1;32m    173\u001b[0m                             theta1_prime\u001b[39m=\u001b[39minferred_params[\u001b[39m3\u001b[39m], theta2_prime\u001b[39m=\u001b[39minferred_params[\u001b[39m4\u001b[39m],\n\u001b[1;32m    174\u001b[0m                               t1\u001b[39m=\u001b[39minferred_params[\u001b[39m5\u001b[39m], v\u001b[39m=\u001b[39minferred_params[\u001b[39m6\u001b[39m], m1_star\u001b[39m=\u001b[39minferred_params[\u001b[39m7\u001b[39m],\n\u001b[1;32m    175\u001b[0m                                 m2_star\u001b[39m=\u001b[39minferred_params[\u001b[39m8\u001b[39m], m1_prime_star\u001b[39m=\u001b[39minferred_params[\u001b[39m9\u001b[39m],\n\u001b[1;32m    176\u001b[0m                                   m2_prime_star\u001b[39m=\u001b[39minferred_params[\u001b[39m10\u001b[39m], negll\u001b[39m=\u001b[39mnegll, n_params\u001b[39m=\u001b[39mn_params)\n",
      "File \u001b[0;32m~/Dropbox/DISMaL_chapter/DISMaL/dismal/likelihood.py:104\u001b[0m, in \u001b[0;36moptimise_neg_ll\u001b[0;34m(S, initial_vals, lower_bounds, upper_bounds, optimisation_algo, verbose)\u001b[0m\n\u001b[1;32m    101\u001b[0m bounds \u001b[39m=\u001b[39m \u001b[39mtuple\u001b[39m(\u001b[39mzip\u001b[39m(lower_bounds, upper_bounds))\n\u001b[1;32m    103\u001b[0m \u001b[39mfor\u001b[39;00m optimisation_algo \u001b[39min\u001b[39;00m [\u001b[39m\"\u001b[39m\u001b[39mL-BFGS-B\u001b[39m\u001b[39m\"\u001b[39m, \u001b[39m\"\u001b[39m\u001b[39mNelder-Mead\u001b[39m\u001b[39m\"\u001b[39m, \u001b[39m\"\u001b[39m\u001b[39mPowell\u001b[39m\u001b[39m\"\u001b[39m]:\n\u001b[0;32m--> 104\u001b[0m     optimised \u001b[39m=\u001b[39m scipy\u001b[39m.\u001b[39;49moptimize\u001b[39m.\u001b[39;49mminimize(composite_neg_ll, x0\u001b[39m=\u001b[39;49mnp\u001b[39m.\u001b[39;49marray(initial_vals),\n\u001b[1;32m    105\u001b[0m                                             method\u001b[39m=\u001b[39;49moptimisation_algo,\n\u001b[1;32m    106\u001b[0m                                             args\u001b[39m=\u001b[39;49m(S, verbose),\n\u001b[1;32m    107\u001b[0m                                             bounds\u001b[39m=\u001b[39;49mbounds)\n\u001b[1;32m    108\u001b[0m     \u001b[39mif\u001b[39;00m optimised\u001b[39m.\u001b[39msuccess:\n\u001b[1;32m    109\u001b[0m         \u001b[39mbreak\u001b[39;00m\n",
      "File \u001b[0;32m~/opt/anaconda3/envs/dismal/lib/python3.10/site-packages/scipy/optimize/_minimize.py:696\u001b[0m, in \u001b[0;36mminimize\u001b[0;34m(fun, x0, args, method, jac, hess, hessp, bounds, constraints, tol, callback, options)\u001b[0m\n\u001b[1;32m    693\u001b[0m     res \u001b[39m=\u001b[39m _minimize_newtoncg(fun, x0, args, jac, hess, hessp, callback,\n\u001b[1;32m    694\u001b[0m                              \u001b[39m*\u001b[39m\u001b[39m*\u001b[39moptions)\n\u001b[1;32m    695\u001b[0m \u001b[39melif\u001b[39;00m meth \u001b[39m==\u001b[39m \u001b[39m'\u001b[39m\u001b[39ml-bfgs-b\u001b[39m\u001b[39m'\u001b[39m:\n\u001b[0;32m--> 696\u001b[0m     res \u001b[39m=\u001b[39m _minimize_lbfgsb(fun, x0, args, jac, bounds,\n\u001b[1;32m    697\u001b[0m                            callback\u001b[39m=\u001b[39;49mcallback, \u001b[39m*\u001b[39;49m\u001b[39m*\u001b[39;49moptions)\n\u001b[1;32m    698\u001b[0m \u001b[39melif\u001b[39;00m meth \u001b[39m==\u001b[39m \u001b[39m'\u001b[39m\u001b[39mtnc\u001b[39m\u001b[39m'\u001b[39m:\n\u001b[1;32m    699\u001b[0m     res \u001b[39m=\u001b[39m _minimize_tnc(fun, x0, args, jac, bounds, callback\u001b[39m=\u001b[39mcallback,\n\u001b[1;32m    700\u001b[0m                         \u001b[39m*\u001b[39m\u001b[39m*\u001b[39moptions)\n",
      "File \u001b[0;32m~/opt/anaconda3/envs/dismal/lib/python3.10/site-packages/scipy/optimize/_lbfgsb_py.py:359\u001b[0m, in \u001b[0;36m_minimize_lbfgsb\u001b[0;34m(fun, x0, args, jac, bounds, disp, maxcor, ftol, gtol, eps, maxfun, maxiter, iprint, callback, maxls, finite_diff_rel_step, **unknown_options)\u001b[0m\n\u001b[1;32m    353\u001b[0m task_str \u001b[39m=\u001b[39m task\u001b[39m.\u001b[39mtobytes()\n\u001b[1;32m    354\u001b[0m \u001b[39mif\u001b[39;00m task_str\u001b[39m.\u001b[39mstartswith(\u001b[39mb\u001b[39m\u001b[39m'\u001b[39m\u001b[39mFG\u001b[39m\u001b[39m'\u001b[39m):\n\u001b[1;32m    355\u001b[0m     \u001b[39m# The minimization routine wants f and g at the current x.\u001b[39;00m\n\u001b[1;32m    356\u001b[0m     \u001b[39m# Note that interruptions due to maxfun are postponed\u001b[39;00m\n\u001b[1;32m    357\u001b[0m     \u001b[39m# until the completion of the current minimization iteration.\u001b[39;00m\n\u001b[1;32m    358\u001b[0m     \u001b[39m# Overwrite f and g:\u001b[39;00m\n\u001b[0;32m--> 359\u001b[0m     f, g \u001b[39m=\u001b[39m func_and_grad(x)\n\u001b[1;32m    360\u001b[0m \u001b[39melif\u001b[39;00m task_str\u001b[39m.\u001b[39mstartswith(\u001b[39mb\u001b[39m\u001b[39m'\u001b[39m\u001b[39mNEW_X\u001b[39m\u001b[39m'\u001b[39m):\n\u001b[1;32m    361\u001b[0m     \u001b[39m# new iteration\u001b[39;00m\n\u001b[1;32m    362\u001b[0m     n_iterations \u001b[39m+\u001b[39m\u001b[39m=\u001b[39m \u001b[39m1\u001b[39m\n",
      "File \u001b[0;32m~/opt/anaconda3/envs/dismal/lib/python3.10/site-packages/scipy/optimize/_differentiable_functions.py:286\u001b[0m, in \u001b[0;36mScalarFunction.fun_and_grad\u001b[0;34m(self, x)\u001b[0m\n\u001b[1;32m    284\u001b[0m     \u001b[39mself\u001b[39m\u001b[39m.\u001b[39m_update_x_impl(x)\n\u001b[1;32m    285\u001b[0m \u001b[39mself\u001b[39m\u001b[39m.\u001b[39m_update_fun()\n\u001b[0;32m--> 286\u001b[0m \u001b[39mself\u001b[39;49m\u001b[39m.\u001b[39;49m_update_grad()\n\u001b[1;32m    287\u001b[0m \u001b[39mreturn\u001b[39;00m \u001b[39mself\u001b[39m\u001b[39m.\u001b[39mf, \u001b[39mself\u001b[39m\u001b[39m.\u001b[39mg\n",
      "File \u001b[0;32m~/opt/anaconda3/envs/dismal/lib/python3.10/site-packages/scipy/optimize/_differentiable_functions.py:256\u001b[0m, in \u001b[0;36mScalarFunction._update_grad\u001b[0;34m(self)\u001b[0m\n\u001b[1;32m    254\u001b[0m \u001b[39mdef\u001b[39;00m \u001b[39m_update_grad\u001b[39m(\u001b[39mself\u001b[39m):\n\u001b[1;32m    255\u001b[0m     \u001b[39mif\u001b[39;00m \u001b[39mnot\u001b[39;00m \u001b[39mself\u001b[39m\u001b[39m.\u001b[39mg_updated:\n\u001b[0;32m--> 256\u001b[0m         \u001b[39mself\u001b[39;49m\u001b[39m.\u001b[39;49m_update_grad_impl()\n\u001b[1;32m    257\u001b[0m         \u001b[39mself\u001b[39m\u001b[39m.\u001b[39mg_updated \u001b[39m=\u001b[39m \u001b[39mTrue\u001b[39;00m\n",
      "File \u001b[0;32m~/opt/anaconda3/envs/dismal/lib/python3.10/site-packages/scipy/optimize/_differentiable_functions.py:173\u001b[0m, in \u001b[0;36mScalarFunction.__init__.<locals>.update_grad\u001b[0;34m()\u001b[0m\n\u001b[1;32m    171\u001b[0m \u001b[39mself\u001b[39m\u001b[39m.\u001b[39m_update_fun()\n\u001b[1;32m    172\u001b[0m \u001b[39mself\u001b[39m\u001b[39m.\u001b[39mngev \u001b[39m+\u001b[39m\u001b[39m=\u001b[39m \u001b[39m1\u001b[39m\n\u001b[0;32m--> 173\u001b[0m \u001b[39mself\u001b[39m\u001b[39m.\u001b[39mg \u001b[39m=\u001b[39m approx_derivative(fun_wrapped, \u001b[39mself\u001b[39;49m\u001b[39m.\u001b[39;49mx, f0\u001b[39m=\u001b[39;49m\u001b[39mself\u001b[39;49m\u001b[39m.\u001b[39;49mf,\n\u001b[1;32m    174\u001b[0m                            \u001b[39m*\u001b[39;49m\u001b[39m*\u001b[39;49mfinite_diff_options)\n",
      "File \u001b[0;32m~/opt/anaconda3/envs/dismal/lib/python3.10/site-packages/scipy/optimize/_numdiff.py:505\u001b[0m, in \u001b[0;36mapprox_derivative\u001b[0;34m(fun, x0, method, rel_step, abs_step, f0, bounds, sparsity, as_linear_operator, args, kwargs)\u001b[0m\n\u001b[1;32m    502\u001b[0m     use_one_sided \u001b[39m=\u001b[39m \u001b[39mFalse\u001b[39;00m\n\u001b[1;32m    504\u001b[0m \u001b[39mif\u001b[39;00m sparsity \u001b[39mis\u001b[39;00m \u001b[39mNone\u001b[39;00m:\n\u001b[0;32m--> 505\u001b[0m     \u001b[39mreturn\u001b[39;00m _dense_difference(fun_wrapped, x0, f0, h,\n\u001b[1;32m    506\u001b[0m                              use_one_sided, method)\n\u001b[1;32m    507\u001b[0m \u001b[39melse\u001b[39;00m:\n\u001b[1;32m    508\u001b[0m     \u001b[39mif\u001b[39;00m \u001b[39mnot\u001b[39;00m issparse(sparsity) \u001b[39mand\u001b[39;00m \u001b[39mlen\u001b[39m(sparsity) \u001b[39m==\u001b[39m \u001b[39m2\u001b[39m:\n",
      "File \u001b[0;32m~/opt/anaconda3/envs/dismal/lib/python3.10/site-packages/scipy/optimize/_numdiff.py:576\u001b[0m, in \u001b[0;36m_dense_difference\u001b[0;34m(fun, x0, f0, h, use_one_sided, method)\u001b[0m\n\u001b[1;32m    574\u001b[0m     x \u001b[39m=\u001b[39m x0 \u001b[39m+\u001b[39m h_vecs[i]\n\u001b[1;32m    575\u001b[0m     dx \u001b[39m=\u001b[39m x[i] \u001b[39m-\u001b[39m x0[i]  \u001b[39m# Recompute dx as exactly representable number.\u001b[39;00m\n\u001b[0;32m--> 576\u001b[0m     df \u001b[39m=\u001b[39m fun(x) \u001b[39m-\u001b[39m f0\n\u001b[1;32m    577\u001b[0m \u001b[39melif\u001b[39;00m method \u001b[39m==\u001b[39m \u001b[39m'\u001b[39m\u001b[39m3-point\u001b[39m\u001b[39m'\u001b[39m \u001b[39mand\u001b[39;00m use_one_sided[i]:\n\u001b[1;32m    578\u001b[0m     x1 \u001b[39m=\u001b[39m x0 \u001b[39m+\u001b[39m h_vecs[i]\n",
      "File \u001b[0;32m~/opt/anaconda3/envs/dismal/lib/python3.10/site-packages/scipy/optimize/_numdiff.py:456\u001b[0m, in \u001b[0;36mapprox_derivative.<locals>.fun_wrapped\u001b[0;34m(x)\u001b[0m\n\u001b[1;32m    455\u001b[0m \u001b[39mdef\u001b[39;00m \u001b[39mfun_wrapped\u001b[39m(x):\n\u001b[0;32m--> 456\u001b[0m     f \u001b[39m=\u001b[39m np\u001b[39m.\u001b[39matleast_1d(fun(x, \u001b[39m*\u001b[39;49margs, \u001b[39m*\u001b[39;49m\u001b[39m*\u001b[39;49mkwargs))\n\u001b[1;32m    457\u001b[0m     \u001b[39mif\u001b[39;00m f\u001b[39m.\u001b[39mndim \u001b[39m>\u001b[39m \u001b[39m1\u001b[39m:\n\u001b[1;32m    458\u001b[0m         \u001b[39mraise\u001b[39;00m \u001b[39mRuntimeError\u001b[39;00m(\u001b[39m\"\u001b[39m\u001b[39m`fun` return value has \u001b[39m\u001b[39m\"\u001b[39m\n\u001b[1;32m    459\u001b[0m                            \u001b[39m\"\u001b[39m\u001b[39mmore than 1 dimension.\u001b[39m\u001b[39m\"\u001b[39m)\n",
      "File \u001b[0;32m~/opt/anaconda3/envs/dismal/lib/python3.10/site-packages/scipy/optimize/_differentiable_functions.py:137\u001b[0m, in \u001b[0;36mScalarFunction.__init__.<locals>.fun_wrapped\u001b[0;34m(x)\u001b[0m\n\u001b[1;32m    133\u001b[0m \u001b[39mself\u001b[39m\u001b[39m.\u001b[39mnfev \u001b[39m+\u001b[39m\u001b[39m=\u001b[39m \u001b[39m1\u001b[39m\n\u001b[1;32m    134\u001b[0m \u001b[39m# Send a copy because the user may overwrite it.\u001b[39;00m\n\u001b[1;32m    135\u001b[0m \u001b[39m# Overwriting results in undefined behaviour because\u001b[39;00m\n\u001b[1;32m    136\u001b[0m \u001b[39m# fun(self.x) will change self.x, with the two no longer linked.\u001b[39;00m\n\u001b[0;32m--> 137\u001b[0m fx \u001b[39m=\u001b[39m fun(np\u001b[39m.\u001b[39;49mcopy(x), \u001b[39m*\u001b[39;49margs)\n\u001b[1;32m    138\u001b[0m \u001b[39m# Make sure the function returns a true scalar\u001b[39;00m\n\u001b[1;32m    139\u001b[0m \u001b[39mif\u001b[39;00m \u001b[39mnot\u001b[39;00m np\u001b[39m.\u001b[39misscalar(fx):\n",
      "File \u001b[0;32m~/opt/anaconda3/envs/dismal/lib/python3.10/site-packages/scipy/optimize/_minimize.py:933\u001b[0m, in \u001b[0;36m_remove_from_func.<locals>.fun_out\u001b[0;34m(x_in, *args, **kwargs)\u001b[0m\n\u001b[1;32m    931\u001b[0m x_out[i_fixed] \u001b[39m=\u001b[39m x_fixed\n\u001b[1;32m    932\u001b[0m x_out[\u001b[39m~\u001b[39mi_fixed] \u001b[39m=\u001b[39m x_in\n\u001b[0;32m--> 933\u001b[0m y_out \u001b[39m=\u001b[39m fun_in(x_out, \u001b[39m*\u001b[39;49margs, \u001b[39m*\u001b[39;49m\u001b[39m*\u001b[39;49mkwargs)\n\u001b[1;32m    934\u001b[0m y_out \u001b[39m=\u001b[39m np\u001b[39m.\u001b[39marray(y_out)\n\u001b[1;32m    936\u001b[0m \u001b[39mif\u001b[39;00m min_dim \u001b[39m==\u001b[39m \u001b[39m1\u001b[39m:\n",
      "File \u001b[0;32m~/Dropbox/DISMaL_chapter/DISMaL/dismal/likelihood.py:89\u001b[0m, in \u001b[0;36mcomposite_neg_ll\u001b[0;34m(params, S, verbose)\u001b[0m\n\u001b[1;32m     86\u001b[0m q2 \u001b[39m=\u001b[39m GeneratorMatrix(matrix_type\u001b[39m=\u001b[39m\u001b[39m'\u001b[39m\u001b[39mQ2\u001b[39m\u001b[39m'\u001b[39m, theta1\u001b[39m=\u001b[39mtheta1, theta2\u001b[39m=\u001b[39mtheta2, m1_star\u001b[39m=\u001b[39mm1_star, m2_star\u001b[39m=\u001b[39mm2_star)\n\u001b[1;32m     87\u001b[0m q3 \u001b[39m=\u001b[39m GeneratorMatrix(matrix_type\u001b[39m=\u001b[39m\u001b[39m'\u001b[39m\u001b[39mQ3\u001b[39m\u001b[39m'\u001b[39m, theta1\u001b[39m=\u001b[39mtheta1, theta0\u001b[39m=\u001b[39mtheta0)\n\u001b[0;32m---> 89\u001b[0m ll_matrix \u001b[39m=\u001b[39m likelihood_matrix(q1\u001b[39m=\u001b[39;49mq1, q2\u001b[39m=\u001b[39;49mq2, q3\u001b[39m=\u001b[39;49mq3, t1\u001b[39m=\u001b[39;49mt1, v\u001b[39m=\u001b[39;49mv, S\u001b[39m=\u001b[39;49mS)\n\u001b[1;32m     91\u001b[0m negll \u001b[39m=\u001b[39m np\u001b[39m.\u001b[39msum(ll_matrix \u001b[39m*\u001b[39m S)\n\u001b[1;32m     93\u001b[0m \u001b[39mif\u001b[39;00m verbose:\n",
      "File \u001b[0;32m~/Dropbox/DISMaL_chapter/DISMaL/dismal/likelihood.py:73\u001b[0m, in \u001b[0;36mlikelihood_matrix\u001b[0;34m(q1, q2, q3, t1, v, S, s_vals)\u001b[0m\n\u001b[1;32m     69\u001b[0m     s_vals \u001b[39m=\u001b[39m [s \u001b[39mfor\u001b[39;00m s \u001b[39min\u001b[39;00m \u001b[39mrange\u001b[39m(\u001b[39m0\u001b[39m, S\u001b[39m.\u001b[39mshape[\u001b[39m1\u001b[39m])]\n\u001b[1;32m     71\u001b[0m t0 \u001b[39m=\u001b[39m t1\u001b[39m+\u001b[39mv\n\u001b[0;32m---> 73\u001b[0m ll_matrix \u001b[39m=\u001b[39m [\u001b[39m-\u001b[39mnp\u001b[39m.\u001b[39mlog(gg[i, \u001b[39m0\u001b[39m:\u001b[39m3\u001b[39m] \u001b[39m@\u001b[39m alpha_matrix(alpha\u001b[39m=\u001b[39malpha, s_vals\u001b[39m=\u001b[39ms_vals, t1\u001b[39m=\u001b[39mt1)\n\u001b[1;32m     74\u001b[0m                      \u001b[39m+\u001b[39m pij1[i, \u001b[39m0\u001b[39m:\u001b[39m3\u001b[39m] \u001b[39m@\u001b[39m cc[\u001b[39m0\u001b[39m:\u001b[39m3\u001b[39m, \u001b[39m0\u001b[39m:\u001b[39m3\u001b[39m] \u001b[39m@\u001b[39m beta_matrix(beta\u001b[39m=\u001b[39mbeta, s_vals\u001b[39m=\u001b[39ms_vals, t1\u001b[39m=\u001b[39mt1, t0\u001b[39m=\u001b[39mt0) \u001b[39m+\u001b[39m\n\u001b[1;32m     75\u001b[0m                      (\u001b[39m1\u001b[39m \u001b[39m-\u001b[39m (pij1\u001b[39m@pij2\u001b[39m)[i,\u001b[39m3\u001b[39m]) \u001b[39m*\u001b[39m gamma_matrix(gamma\u001b[39m=\u001b[39mgamma, s_vals\u001b[39m=\u001b[39ms_vals, t0\u001b[39m=\u001b[39mt0)) \u001b[39mfor\u001b[39;00m i \u001b[39min\u001b[39;00m [\u001b[39m0\u001b[39m, \u001b[39m1\u001b[39m, \u001b[39m2\u001b[39m]]\n\u001b[1;32m     77\u001b[0m \u001b[39mreturn\u001b[39;00m ll_matrix\n",
      "File \u001b[0;32m~/Dropbox/DISMaL_chapter/DISMaL/dismal/likelihood.py:74\u001b[0m, in \u001b[0;36m<listcomp>\u001b[0;34m(.0)\u001b[0m\n\u001b[1;32m     69\u001b[0m     s_vals \u001b[39m=\u001b[39m [s \u001b[39mfor\u001b[39;00m s \u001b[39min\u001b[39;00m \u001b[39mrange\u001b[39m(\u001b[39m0\u001b[39m, S\u001b[39m.\u001b[39mshape[\u001b[39m1\u001b[39m])]\n\u001b[1;32m     71\u001b[0m t0 \u001b[39m=\u001b[39m t1\u001b[39m+\u001b[39mv\n\u001b[1;32m     73\u001b[0m ll_matrix \u001b[39m=\u001b[39m [\u001b[39m-\u001b[39mnp\u001b[39m.\u001b[39mlog(gg[i, \u001b[39m0\u001b[39m:\u001b[39m3\u001b[39m] \u001b[39m@\u001b[39m alpha_matrix(alpha\u001b[39m=\u001b[39malpha, s_vals\u001b[39m=\u001b[39ms_vals, t1\u001b[39m=\u001b[39mt1)\n\u001b[0;32m---> 74\u001b[0m                      \u001b[39m+\u001b[39m pij1[i, \u001b[39m0\u001b[39m:\u001b[39m3\u001b[39m] \u001b[39m@\u001b[39m cc[\u001b[39m0\u001b[39m:\u001b[39m3\u001b[39m, \u001b[39m0\u001b[39m:\u001b[39m3\u001b[39m] \u001b[39m@\u001b[39m beta_matrix(beta\u001b[39m=\u001b[39;49mbeta, s_vals\u001b[39m=\u001b[39;49ms_vals, t1\u001b[39m=\u001b[39;49mt1, t0\u001b[39m=\u001b[39;49mt0) \u001b[39m+\u001b[39m\n\u001b[1;32m     75\u001b[0m                      (\u001b[39m1\u001b[39m \u001b[39m-\u001b[39m (pij1\u001b[39m@pij2\u001b[39m)[i,\u001b[39m3\u001b[39m]) \u001b[39m*\u001b[39m gamma_matrix(gamma\u001b[39m=\u001b[39mgamma, s_vals\u001b[39m=\u001b[39ms_vals, t0\u001b[39m=\u001b[39mt0)) \u001b[39mfor\u001b[39;00m i \u001b[39min\u001b[39;00m [\u001b[39m0\u001b[39m, \u001b[39m1\u001b[39m, \u001b[39m2\u001b[39m]]\n\u001b[1;32m     77\u001b[0m \u001b[39mreturn\u001b[39;00m ll_matrix\n",
      "File \u001b[0;32m~/Dropbox/DISMaL_chapter/DISMaL/dismal/likelihood.py:41\u001b[0m, in \u001b[0;36mbeta_matrix\u001b[0;34m(beta, s_vals, t1, t0, rel_mu)\u001b[0m\n\u001b[1;32m     38\u001b[0m betas \u001b[39m=\u001b[39m []\n\u001b[1;32m     39\u001b[0m \u001b[39mfor\u001b[39;00m s \u001b[39min\u001b[39;00m s_vals:\n\u001b[1;32m     40\u001b[0m     betas\u001b[39m.\u001b[39mappend((beta\u001b[39m/\u001b[39m(beta\u001b[39m+\u001b[39mrel_mu)) \u001b[39m*\u001b[39m ((rel_mu\u001b[39m/\u001b[39m(beta\u001b[39m+\u001b[39mrel_mu))\u001b[39m*\u001b[39m\u001b[39m*\u001b[39ms) \u001b[39m*\u001b[39m\n\u001b[0;32m---> 41\u001b[0m                   np\u001b[39m.\u001b[39mexp(beta\u001b[39m*\u001b[39mt1) \u001b[39m*\u001b[39m (poisson\u001b[39m.\u001b[39mcdf(s, (t1\u001b[39m*\u001b[39m(beta\u001b[39m+\u001b[39mrel_mu))) \u001b[39m-\u001b[39m poisson\u001b[39m.\u001b[39;49mcdf(s, (t0\u001b[39m*\u001b[39;49m(beta\u001b[39m+\u001b[39;49mrel_mu)))))\n\u001b[1;32m     42\u001b[0m \u001b[39mreturn\u001b[39;00m np\u001b[39m.\u001b[39mtranspose(np\u001b[39m.\u001b[39marray(betas))\n",
      "File \u001b[0;32m~/opt/anaconda3/envs/dismal/lib/python3.10/site-packages/scipy/stats/_distn_infrastructure.py:3472\u001b[0m, in \u001b[0;36mrv_discrete.cdf\u001b[0;34m(self, k, *args, **kwds)\u001b[0m\n\u001b[1;32m   3469\u001b[0m place(output, (\u001b[39m1\u001b[39m\u001b[39m-\u001b[39mcond0) \u001b[39m+\u001b[39m np\u001b[39m.\u001b[39misnan(k), \u001b[39mself\u001b[39m\u001b[39m.\u001b[39mbadvalue)\n\u001b[1;32m   3471\u001b[0m \u001b[39mif\u001b[39;00m np\u001b[39m.\u001b[39many(cond):\n\u001b[0;32m-> 3472\u001b[0m     goodargs \u001b[39m=\u001b[39m argsreduce(cond, \u001b[39m*\u001b[39;49m((k,)\u001b[39m+\u001b[39;49margs))\n\u001b[1;32m   3473\u001b[0m     place(output, cond, np\u001b[39m.\u001b[39mclip(\u001b[39mself\u001b[39m\u001b[39m.\u001b[39m_cdf(\u001b[39m*\u001b[39mgoodargs), \u001b[39m0\u001b[39m, \u001b[39m1\u001b[39m))\n\u001b[1;32m   3474\u001b[0m \u001b[39mif\u001b[39;00m output\u001b[39m.\u001b[39mndim \u001b[39m==\u001b[39m \u001b[39m0\u001b[39m:\n",
      "File \u001b[0;32m~/opt/anaconda3/envs/dismal/lib/python3.10/site-packages/scipy/stats/_distn_infrastructure.py:580\u001b[0m, in \u001b[0;36margsreduce\u001b[0;34m(cond, *args)\u001b[0m\n\u001b[1;32m    576\u001b[0m     newargs \u001b[39m=\u001b[39m [newargs, ]\n\u001b[1;32m    578\u001b[0m \u001b[39mif\u001b[39;00m np\u001b[39m.\u001b[39mall(cond):\n\u001b[1;32m    579\u001b[0m     \u001b[39m# broadcast arrays with cond\u001b[39;00m\n\u001b[0;32m--> 580\u001b[0m     \u001b[39m*\u001b[39mnewargs, cond \u001b[39m=\u001b[39m np\u001b[39m.\u001b[39;49mbroadcast_arrays(\u001b[39m*\u001b[39;49mnewargs, cond)\n\u001b[1;32m    581\u001b[0m     \u001b[39mreturn\u001b[39;00m [arg\u001b[39m.\u001b[39mravel() \u001b[39mfor\u001b[39;00m arg \u001b[39min\u001b[39;00m newargs]\n\u001b[1;32m    583\u001b[0m s \u001b[39m=\u001b[39m cond\u001b[39m.\u001b[39mshape\n",
      "File \u001b[0;32m<__array_function__ internals>:200\u001b[0m, in \u001b[0;36mbroadcast_arrays\u001b[0;34m(*args, **kwargs)\u001b[0m\n",
      "File \u001b[0;32m~/opt/anaconda3/envs/dismal/lib/python3.10/site-packages/numpy/lib/stride_tricks.py:538\u001b[0m, in \u001b[0;36mbroadcast_arrays\u001b[0;34m(subok, *args)\u001b[0m\n\u001b[1;32m    482\u001b[0m \u001b[39m\u001b[39m\u001b[39m\"\"\"\u001b[39;00m\n\u001b[1;32m    483\u001b[0m \u001b[39mBroadcast any number of arrays against each other.\u001b[39;00m\n\u001b[1;32m    484\u001b[0m \n\u001b[0;32m   (...)\u001b[0m\n\u001b[1;32m    531\u001b[0m \n\u001b[1;32m    532\u001b[0m \u001b[39m\"\"\"\u001b[39;00m\n\u001b[1;32m    533\u001b[0m \u001b[39m# nditer is not used here to avoid the limit of 32 arrays.\u001b[39;00m\n\u001b[1;32m    534\u001b[0m \u001b[39m# Otherwise, something like the following one-liner would suffice:\u001b[39;00m\n\u001b[1;32m    535\u001b[0m \u001b[39m# return np.nditer(args, flags=['multi_index', 'zerosize_ok'],\u001b[39;00m\n\u001b[1;32m    536\u001b[0m \u001b[39m#                  order='C').itviews\u001b[39;00m\n\u001b[0;32m--> 538\u001b[0m args \u001b[39m=\u001b[39m [np\u001b[39m.\u001b[39marray(_m, copy\u001b[39m=\u001b[39m\u001b[39mFalse\u001b[39;00m, subok\u001b[39m=\u001b[39msubok) \u001b[39mfor\u001b[39;00m _m \u001b[39min\u001b[39;00m args]\n\u001b[1;32m    540\u001b[0m shape \u001b[39m=\u001b[39m _broadcast_shape(\u001b[39m*\u001b[39margs)\n\u001b[1;32m    542\u001b[0m \u001b[39mif\u001b[39;00m \u001b[39mall\u001b[39m(array\u001b[39m.\u001b[39mshape \u001b[39m==\u001b[39m shape \u001b[39mfor\u001b[39;00m array \u001b[39min\u001b[39;00m args):\n\u001b[1;32m    543\u001b[0m     \u001b[39m# Common case where nothing needs to be broadcasted.\u001b[39;00m\n",
      "File \u001b[0;32m~/opt/anaconda3/envs/dismal/lib/python3.10/site-packages/numpy/lib/stride_tricks.py:538\u001b[0m, in \u001b[0;36m<listcomp>\u001b[0;34m(.0)\u001b[0m\n\u001b[1;32m    482\u001b[0m \u001b[39m\u001b[39m\u001b[39m\"\"\"\u001b[39;00m\n\u001b[1;32m    483\u001b[0m \u001b[39mBroadcast any number of arrays against each other.\u001b[39;00m\n\u001b[1;32m    484\u001b[0m \n\u001b[0;32m   (...)\u001b[0m\n\u001b[1;32m    531\u001b[0m \n\u001b[1;32m    532\u001b[0m \u001b[39m\"\"\"\u001b[39;00m\n\u001b[1;32m    533\u001b[0m \u001b[39m# nditer is not used here to avoid the limit of 32 arrays.\u001b[39;00m\n\u001b[1;32m    534\u001b[0m \u001b[39m# Otherwise, something like the following one-liner would suffice:\u001b[39;00m\n\u001b[1;32m    535\u001b[0m \u001b[39m# return np.nditer(args, flags=['multi_index', 'zerosize_ok'],\u001b[39;00m\n\u001b[1;32m    536\u001b[0m \u001b[39m#                  order='C').itviews\u001b[39;00m\n\u001b[0;32m--> 538\u001b[0m args \u001b[39m=\u001b[39m [np\u001b[39m.\u001b[39;49marray(_m, copy\u001b[39m=\u001b[39;49m\u001b[39mFalse\u001b[39;49;00m, subok\u001b[39m=\u001b[39;49msubok) \u001b[39mfor\u001b[39;00m _m \u001b[39min\u001b[39;00m args]\n\u001b[1;32m    540\u001b[0m shape \u001b[39m=\u001b[39m _broadcast_shape(\u001b[39m*\u001b[39margs)\n\u001b[1;32m    542\u001b[0m \u001b[39mif\u001b[39;00m \u001b[39mall\u001b[39m(array\u001b[39m.\u001b[39mshape \u001b[39m==\u001b[39m shape \u001b[39mfor\u001b[39;00m array \u001b[39min\u001b[39;00m args):\n\u001b[1;32m    543\u001b[0m     \u001b[39m# Common case where nothing needs to be broadcasted.\u001b[39;00m\n",
      "\u001b[0;31mKeyboardInterrupt\u001b[0m: "
     ]
    }
   ],
   "source": [
    "iim = [simulate_msprime(theta0=1, theta1=1, theta2=1, theta1_prime=1, theta2_prime=1, \n",
    "                          t1=5, v=5, m1_star=random.uniform(0.5, 10), m2_star=random.uniform(0.5, 10),\n",
    "                               m1_prime_star=0, m2_prime_star=0, Ne=1e-6, block_len=200, num_replicates=2000) for _ in range(0,5)]\n",
    "\n",
    "for sim in iim:\n",
    "    print(test_model_identification(sim, \"IIM\"))"
   ]
  },
  {
   "cell_type": "code",
   "execution_count": 10,
   "metadata": {},
   "outputs": [],
   "source": [
    "iim_mod = DemographicModel(iim[0], \"IIM\").infer_parameters(verbose=False)\n",
    "iso_mod = DemographicModel(iim[0], \"ISO\").infer_parameters(verbose=False)"
   ]
  },
  {
   "cell_type": "code",
   "execution_count": 11,
   "metadata": {},
   "outputs": [
    {
     "data": {
      "text/plain": [
       "{'theta0': 1.033558414566036, 'theta1': 1.0361544758410404, 'theta2': 1.5723587714406568, 'theta1_prime': 0.9849842926354715, 'theta2_prime': 1.0200873794211849, 't1': 5.582202231859374, 'v': 5.0730788388636086, 'm1_star': 0.047424179849636136, 'm2_star': 0.13065236166727914, 'm1_prime_star': 0.0, 'm2_prime_star': 0.0, '-lnL': 10857.700711008725, 'aic': 21733.40142201745}"
      ]
     },
     "execution_count": 11,
     "metadata": {},
     "output_type": "execute_result"
    }
   ],
   "source": [
    "iim_mod"
   ]
  },
  {
   "cell_type": "code",
   "execution_count": 12,
   "metadata": {},
   "outputs": [
    {
     "data": {
      "text/plain": [
       "{'theta0': 1.3935010677055433, 'theta1': 1.277929947708059, 'theta2': 0.07147083742840482, 'theta1_prime': 1.2488476618493227, 'theta2_prime': 1.3068798532260029, 't1': 4.952638209220554, 'v': 4.98841067213646, 'm1_star': 0.0, 'm2_star': 0.0, 'm1_prime_star': 0.0, 'm2_prime_star': 0.0, '-lnL': 10843.403548701262, 'aic': 21700.807097402525}"
      ]
     },
     "execution_count": 12,
     "metadata": {},
     "output_type": "execute_result"
    }
   ],
   "source": [
    "iso_mod"
   ]
  },
  {
   "attachments": {},
   "cell_type": "markdown",
   "metadata": {},
   "source": [
    "## 4. Data generated under GIM model"
   ]
  },
  {
   "attachments": {},
   "cell_type": "markdown",
   "metadata": {},
   "source": [
    "#### 4A: using default parameters of CWH"
   ]
  },
  {
   "cell_type": "code",
   "execution_count": 18,
   "metadata": {},
   "outputs": [],
   "source": [
    "gim4a = MsprimeSimulation(theta0=5, theta1=5, theta2=5, theta1_prime=5, theta2_prime=5, \n",
    "                          t1=5, v=5, m1_star=0, m2_star=0,\n",
    "                               m1_prime_star=0, m2_prime_star=0, Ne=1e5, block_len=200, num_replicates=2000)"
   ]
  },
  {
   "cell_type": "code",
   "execution_count": 25,
   "metadata": {},
   "outputs": [
    {
     "name": "stdout",
     "output_type": "stream",
     "text": [
      "Estimated pi for population 1: 5.0655\n",
      "Estimated pi for population 2: 4.994\n"
     ]
    },
    {
     "data": {
      "text/plain": [
       "{'theta0': 22.62582893488037, 'theta1': 4.7283997290598645, 'theta2': 13.905942005908699, 'theta1_prime': 23.95224131196548, 'theta2_prime': 23.61528466407819, 't1': 44.306306900385586, 'v': 5.965067054244172, 'm1_star': 0.0, 'm2_star': 0.0, 'm1_prime_star': 0.0, 'm2_prime_star': 0.0, '-lnL': 17963.59030068641, 'aic': 35941.18060137282}"
      ]
     },
     "execution_count": 25,
     "metadata": {},
     "output_type": "execute_result"
    }
   ],
   "source": [
    "DemographicModel(gim4a.S, \"ISO\").infer_parameters(verbose=False)"
   ]
  },
  {
   "attachments": {},
   "cell_type": "markdown",
   "metadata": {},
   "source": []
  },
  {
   "cell_type": "code",
   "execution_count": 12,
   "metadata": {},
   "outputs": [
    {
     "data": {
      "text/plain": [
       "array([[729, 382, 314, 181, 120,  89,  59,  39,  30,  26,  10,   9,   5,\n",
       "          1,   1,   1,   2,   2,   0],\n",
       "       [716, 448, 267, 181, 133,  94,  51,  36,  28,  10,  15,  11,   3,\n",
       "          3,   1,   1,   1,   0,   0],\n",
       "       [582, 445, 288, 216, 143, 117,  74,  41,  34,  17,  12,   7,   4,\n",
       "          9,   2,   3,   2,   4,   0]])"
      ]
     },
     "execution_count": 12,
     "metadata": {},
     "output_type": "execute_result"
    }
   ],
   "source": [
    "gim2 = [simulate_msprime(theta0=1, theta1=1, theta2=1, theta1_prime=1, theta2_prime=1, \n",
    "                          t1=5, v=5, m1_star=2, m2_star=2,\n",
    "                               m1_prime_star=2, m2_prime_star=2, Ne=1000, block_len=200, num_replicates=2000) for _ in range(0,5)]\n",
    "\n",
    "gim2[0]"
   ]
  },
  {
   "cell_type": "code",
   "execution_count": 13,
   "metadata": {},
   "outputs": [
    {
     "name": "stderr",
     "output_type": "stream",
     "text": [
      "/Users/s2341012/Dropbox/DISMaL_chapter/DISMaL/dismal/likelihood.py:41: RuntimeWarning: overflow encountered in exp\n",
      "  np.exp(beta*t1) * (poisson.cdf(s, (t1*(beta+rel_mu))) - poisson.cdf(s, (t0*(beta+rel_mu)))))\n",
      "/Users/s2341012/Dropbox/DISMaL_chapter/DISMaL/dismal/likelihood.py:40: RuntimeWarning: invalid value encountered in multiply\n",
      "  betas.append((beta/(beta+rel_mu)) * ((rel_mu/(beta+rel_mu))**s) *\n",
      "/Users/s2341012/Dropbox/DISMaL_chapter/DISMaL/dismal/likelihood.py:91: RuntimeWarning: invalid value encountered in multiply\n",
      "  negll = np.sum(ll_matrix * S)\n"
     ]
    },
    {
     "name": "stdout",
     "output_type": "stream",
     "text": [
      "{'True model': 'GIM', 'Inferred model': 'ISO'}\n",
      "{'True model': 'GIM', 'Inferred model': 'ISO'}\n",
      "{'True model': 'GIM', 'Inferred model': 'ISO'}\n",
      "{'True model': 'GIM', 'Inferred model': 'ISO'}\n",
      "{'True model': 'GIM', 'Inferred model': 'ISO'}\n"
     ]
    }
   ],
   "source": [
    "for sim in gim2:\n",
    "    print(test_model_identification(sim, \"GIM\"))"
   ]
  },
  {
   "cell_type": "code",
   "execution_count": 14,
   "metadata": {},
   "outputs": [
    {
     "data": {
      "text/plain": [
       "{'theta0': 8.464286432760588, 'theta1': 4.070538141491049, 'theta2': 4.001012527593325, 'theta1_prime': 0.10262002242750565, 'theta2_prime': 0.39280556168823066, 't1': 0.00020920072733951066, 'v': 0.10361232351271003, 'm1_star': 0.0, 'm2_star': 0.0, 'm1_prime_star': 0.0, 'm2_prime_star': 0.0, '-lnL': 11541.003258280909, 'aic': 23096.006516561818}"
      ]
     },
     "execution_count": 14,
     "metadata": {},
     "output_type": "execute_result"
    }
   ],
   "source": [
    "DemographicModel(gim2[0], \"ISO\").infer_parameters(verbose=False)"
   ]
  },
  {
   "cell_type": "code",
   "execution_count": 15,
   "metadata": {},
   "outputs": [
    {
     "data": {
      "text/plain": [
       "{'theta0': 0.3763866107862913, 'theta1': 1.5955742847055123, 'theta2': 1.0620768722925729, 'theta1_prime': 1.5963794566523049, 'theta2_prime': 1.5747715644678062, 't1': 3.9608984296347454, 'v': 8.229730324161585, 'm1_star': 1.6132310769091536, 'm2_star': 0.9595441581331854, 'm1_prime_star': 3.9233019026254365, 'm2_prime_star': 3.6224422581833617, '-lnL': 11538.928677637858, 'aic': 23099.857355275715}"
      ]
     },
     "execution_count": 15,
     "metadata": {},
     "output_type": "execute_result"
    }
   ],
   "source": [
    "DemographicModel(gim2[0], \"GIM\").infer_parameters(verbose=False)"
   ]
  },
  {
   "cell_type": "code",
   "execution_count": 16,
   "metadata": {},
   "outputs": [
    {
     "data": {
      "text/plain": [
       "{'theta0': 2.1879677025003876, 'theta1': 1.189630887889246, 'theta2': 1.1740726216649815, 'theta1_prime': 2.4551059735659115, 'theta2_prime': 2.4989209182539804, 't1': 0.0, 'v': 5.098515306734724, 'm1_star': 4.040647211955948, 'm2_star': 3.689321741635956, 'm1_prime_star': 0.0, 'm2_prime_star': 0.0, '-lnL': 11539.633748412165, 'aic': 23097.26749682433}"
      ]
     },
     "execution_count": 16,
     "metadata": {},
     "output_type": "execute_result"
    }
   ],
   "source": [
    "DemographicModel(gim2[0], \"IIM\").infer_parameters(verbose=False)"
   ]
  },
  {
   "cell_type": "code",
   "execution_count": 17,
   "metadata": {},
   "outputs": [
    {
     "data": {
      "text/plain": [
       "{'theta0': 2.654682767149195, 'theta1': 1.4625812438682075, 'theta2': 1.2554091887814323, 'theta1_prime': 1.357204131372435, 'theta2_prime': 1.5554795392816083, 't1': 4.789249253748401, 'v': 0.5037914966772996, 'm1_star': 0.0, 'm2_star': 0.0, 'm1_prime_star': 3.678526961179659, 'm2_prime_star': 3.140640751946219, '-lnL': 11539.660675529092, 'aic': 23097.321351058185}"
      ]
     },
     "execution_count": 17,
     "metadata": {},
     "output_type": "execute_result"
    }
   ],
   "source": [
    "DemographicModel(gim2[0], \"SC\").infer_parameters(verbose=False)"
   ]
  },
  {
   "cell_type": "code",
   "execution_count": null,
   "metadata": {},
   "outputs": [],
   "source": []
  }
 ],
 "metadata": {
  "kernelspec": {
   "display_name": "dismal",
   "language": "python",
   "name": "python3"
  },
  "language_info": {
   "codemirror_mode": {
    "name": "ipython",
    "version": 3
   },
   "file_extension": ".py",
   "mimetype": "text/x-python",
   "name": "python",
   "nbconvert_exporter": "python",
   "pygments_lexer": "ipython3",
   "version": "3.10.10"
  },
  "orig_nbformat": 4
 },
 "nbformat": 4,
 "nbformat_minor": 2
}
