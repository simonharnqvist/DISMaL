{
 "cells": [
  {
   "cell_type": "code",
   "execution_count": 1,
   "metadata": {},
   "outputs": [],
   "source": [
    "import pandas as pd\n",
    "import numpy as np"
   ]
  },
  {
   "cell_type": "code",
   "execution_count": 2,
   "metadata": {},
   "outputs": [
    {
     "name": "stdout",
     "output_type": "stream",
     "text": [
      "Obtaining file:///Users/s2341012/Dropbox/DISMaL_chapter/DISMaL\n",
      "  Preparing metadata (setup.py) ... \u001b[?25ldone\n",
      "\u001b[?25hInstalling collected packages: dismal\n",
      "  Running setup.py develop for dismal\n",
      "Successfully installed dismal-0.1\n"
     ]
    }
   ],
   "source": [
    "! pip install -e .."
   ]
  },
  {
   "cell_type": "code",
   "execution_count": 3,
   "metadata": {},
   "outputs": [],
   "source": [
    "from dismal import segregating_sites, preprocess"
   ]
  },
  {
   "cell_type": "code",
   "execution_count": 4,
   "metadata": {},
   "outputs": [],
   "source": [
    "callset = preprocess.CallSet(\"../test_data/brenthis_500K.vcf.gz\", \"../test_data/vcf.npz\")\n",
    "blocks = preprocess.gff3_to_blocks(\"../test_data/brenthis_head1000.gff3\", blocklen=100, min_block_distance=10_000, parquet_path=\"../test_data/blocks.parquet.gz\")\n",
    "sample_map = pd.read_csv(\"../test_data/samples_map.csv\")"
   ]
  },
  {
   "cell_type": "code",
   "execution_count": 5,
   "metadata": {},
   "outputs": [],
   "source": [
    "numeric_chromosomes = preprocess.convert_chromosome_names_to_index(callset.chromosomes)\n",
    "block_start_idxs = np.array(blocks[\"start\"])"
   ]
  },
  {
   "cell_type": "code",
   "execution_count": 6,
   "metadata": {},
   "outputs": [],
   "source": [
    "callset_indexing = pd.DataFrame({\"sample\": callset.samples, \"idx\": [i for i in range(0, len(callset.samples))]})\n",
    "pops = sample_map.merge(callset_indexing, on=\"sample\")[\"population\"]\n",
    "\n",
    "pop1_idx = np.where(pops == \"BI\")[0]\n",
    "pop2_idx = np.where(pops == \"BD\")[0]"
   ]
  },
  {
   "cell_type": "code",
   "execution_count": 7,
   "metadata": {},
   "outputs": [
    {
     "name": "stdout",
     "output_type": "stream",
     "text": [
      "4.24 ms ± 40.2 µs per loop (mean ± std. dev. of 7 runs, 100 loops each)\n"
     ]
    }
   ],
   "source": [
    "%%timeit\n",
    "\n",
    "segregating_sites.blockwise_segregating_sites(block_start_idxs=block_start_idxs,\n",
    "                                              blocklen=100,\n",
    "                                              gt=np.array(callset.gt),\n",
    "                                              chroms=numeric_chromosomes,\n",
    "                                              snp_pos=callset.pos,\n",
    "                                              pop1_idxs=pop1_idx,\n",
    "                                              pop2_idxs=pop2_idx)"
   ]
  },
  {
   "cell_type": "code",
   "execution_count": null,
   "metadata": {},
   "outputs": [],
   "source": []
  }
 ],
 "metadata": {
  "kernelspec": {
   "display_name": "dismal",
   "language": "python",
   "name": "python3"
  },
  "language_info": {
   "codemirror_mode": {
    "name": "ipython",
    "version": 3
   },
   "file_extension": ".py",
   "mimetype": "text/x-python",
   "name": "python",
   "nbconvert_exporter": "python",
   "pygments_lexer": "ipython3",
   "version": "3.11.3"
  },
  "orig_nbformat": 4
 },
 "nbformat": 4,
 "nbformat_minor": 2
}
