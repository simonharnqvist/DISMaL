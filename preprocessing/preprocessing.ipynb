{
 "cells": [
  {
   "cell_type": "code",
   "execution_count": 1,
   "metadata": {},
   "outputs": [],
   "source": [
    "import pandas as pd\n",
    "import numpy as np"
   ]
  },
  {
   "cell_type": "code",
   "execution_count": 2,
   "metadata": {},
   "outputs": [
    {
     "name": "stdout",
     "output_type": "stream",
     "text": [
      "Obtaining file:///Users/s2341012/Dropbox/DISMaL_chapter/DISMaL\n",
      "  Preparing metadata (setup.py) ... \u001b[?25ldone\n",
      "\u001b[?25hInstalling collected packages: dismal\n",
      "  Attempting uninstall: dismal\n",
      "    Found existing installation: dismal 0.1\n",
      "    Uninstalling dismal-0.1:\n",
      "      Successfully uninstalled dismal-0.1\n",
      "  Running setup.py develop for dismal\n",
      "Successfully installed dismal-0.1\n"
     ]
    }
   ],
   "source": [
    "! pip install -e .."
   ]
  },
  {
   "cell_type": "code",
   "execution_count": 3,
   "metadata": {},
   "outputs": [],
   "source": [
    "from dismal import segregating_sites, preprocess"
   ]
  },
  {
   "cell_type": "code",
   "execution_count": 4,
   "metadata": {},
   "outputs": [],
   "source": [
    "callset = preprocess.CallSet(\"../test_data/brenthis_500K.vcf.gz\", \"../test_data/vcf.npz\")\n",
    "blocks = preprocess.gff3_to_blocks(\"../test_data/brenthis_head1000.gff3\", blocklen=100, min_block_distance=10_000, parquet_path=\"../test_data/blocks.parquet.gz\")\n",
    "sample_map = pd.read_csv(\"../test_data/samples_map.csv\")"
   ]
  },
  {
   "cell_type": "code",
   "execution_count": 5,
   "metadata": {},
   "outputs": [],
   "source": [
    "numeric_chromosomes = np.unique(callset.chromosomes, return_inverse=True)[1]\n",
    "block_start_idxs = np.array(blocks[\"start\"])"
   ]
  },
  {
   "cell_type": "code",
   "execution_count": 6,
   "metadata": {},
   "outputs": [],
   "source": [
    "callset_indexing = pd.DataFrame({\"sample\": callset.samples, \"idx\": [i for i in range(0, len(callset.samples))]})\n",
    "pops = sample_map.merge(callset_indexing, on=\"sample\")[\"population\"]\n",
    "\n",
    "pop1_idx = np.where(pops == \"BI\")[0]\n",
    "pop2_idx = np.where(pops == \"BD\")[0]"
   ]
  },
  {
   "cell_type": "code",
   "execution_count": 7,
   "metadata": {},
   "outputs": [
    {
     "name": "stdout",
     "output_type": "stream",
     "text": [
      "4.25 ms ± 25.2 µs per loop (mean ± std. dev. of 7 runs, 100 loops each)\n"
     ]
    }
   ],
   "source": [
    "%%timeit\n",
    "\n",
    "segregating_sites.blockwise_segregating_sites(block_start_idxs=block_start_idxs,\n",
    "                                              blocklen=100,\n",
    "                                              gt=np.array(callset.gt),\n",
    "                                              chroms=numeric_chromosomes,\n",
    "                                              snp_pos=callset.pos,\n",
    "                                              pop1_idxs=pop1_idx,\n",
    "                                              pop2_idxs=pop2_idx)"
   ]
  },
  {
   "cell_type": "code",
   "execution_count": 9,
   "metadata": {},
   "outputs": [
    {
     "name": "stderr",
     "output_type": "stream",
     "text": [
      "100%|██████████| 35/35 [00:00<00:00, 1813.70it/s]\n",
      "100%|██████████| 35/35 [00:00<00:00, 1652.75it/s]\n",
      "100%|██████████| 35/35 [00:00<00:00, 1787.90it/s]\n",
      "100%|██████████| 35/35 [00:00<00:00, 1776.39it/s]\n",
      "100%|██████████| 35/35 [00:00<00:00, 1778.80it/s]\n",
      "100%|██████████| 35/35 [00:00<00:00, 1967.94it/s]\n",
      "100%|██████████| 35/35 [00:00<00:00, 1984.49it/s]\n",
      "100%|██████████| 35/35 [00:00<00:00, 2007.91it/s]\n",
      "100%|██████████| 35/35 [00:00<00:00, 1987.98it/s]\n",
      "100%|██████████| 35/35 [00:00<00:00, 2011.41it/s]\n",
      "100%|██████████| 35/35 [00:00<00:00, 1898.86it/s]\n",
      "100%|██████████| 35/35 [00:00<00:00, 1968.07it/s]\n",
      "100%|██████████| 35/35 [00:00<00:00, 2042.50it/s]\n",
      "100%|██████████| 35/35 [00:00<00:00, 1989.87it/s]\n",
      "100%|██████████| 35/35 [00:00<00:00, 2017.30it/s]\n",
      "100%|██████████| 35/35 [00:00<00:00, 2007.48it/s]\n",
      "100%|██████████| 35/35 [00:00<00:00, 1939.34it/s]\n",
      "100%|██████████| 35/35 [00:00<00:00, 2010.55it/s]\n",
      "100%|██████████| 35/35 [00:00<00:00, 2038.78it/s]\n",
      "100%|██████████| 35/35 [00:00<00:00, 1913.39it/s]\n",
      "100%|██████████| 35/35 [00:00<00:00, 2030.97it/s]\n",
      "100%|██████████| 35/35 [00:00<00:00, 2001.48it/s]\n",
      "100%|██████████| 35/35 [00:00<00:00, 1950.84it/s]\n",
      "100%|██████████| 35/35 [00:00<00:00, 2003.28it/s]\n",
      "100%|██████████| 35/35 [00:00<00:00, 1962.10it/s]\n",
      "100%|██████████| 35/35 [00:00<00:00, 1964.76it/s]\n",
      "100%|██████████| 35/35 [00:00<00:00, 1984.81it/s]\n",
      "100%|██████████| 35/35 [00:00<00:00, 1951.07it/s]\n",
      "100%|██████████| 35/35 [00:00<00:00, 1939.45it/s]\n",
      "100%|██████████| 35/35 [00:00<00:00, 1984.38it/s]\n",
      "100%|██████████| 35/35 [00:00<00:00, 1966.41it/s]\n",
      "100%|██████████| 35/35 [00:00<00:00, 1975.73it/s]\n",
      "100%|██████████| 35/35 [00:00<00:00, 2043.92it/s]\n",
      "100%|██████████| 35/35 [00:00<00:00, 2008.96it/s]\n",
      "100%|██████████| 35/35 [00:00<00:00, 1946.83it/s]\n",
      "100%|██████████| 35/35 [00:00<00:00, 2010.80it/s]\n",
      "100%|██████████| 35/35 [00:00<00:00, 2038.53it/s]\n",
      "100%|██████████| 35/35 [00:00<00:00, 2002.66it/s]\n",
      "100%|██████████| 35/35 [00:00<00:00, 2011.00it/s]\n",
      "100%|██████████| 35/35 [00:00<00:00, 1988.85it/s]\n",
      "100%|██████████| 35/35 [00:00<00:00, 2031.45it/s]\n",
      "100%|██████████| 35/35 [00:00<00:00, 1815.83it/s]\n",
      "100%|██████████| 35/35 [00:00<00:00, 1953.33it/s]\n",
      "100%|██████████| 35/35 [00:00<00:00, 2022.66it/s]\n",
      "100%|██████████| 35/35 [00:00<00:00, 1978.98it/s]\n",
      "100%|██████████| 35/35 [00:00<00:00, 2013.92it/s]\n",
      "100%|██████████| 35/35 [00:00<00:00, 1997.02it/s]\n",
      "100%|██████████| 35/35 [00:00<00:00, 2000.91it/s]\n",
      "100%|██████████| 35/35 [00:00<00:00, 1944.48it/s]\n",
      "100%|██████████| 35/35 [00:00<00:00, 1998.29it/s]\n",
      "100%|██████████| 35/35 [00:00<00:00, 2017.74it/s]\n",
      "100%|██████████| 35/35 [00:00<00:00, 2012.54it/s]\n",
      "100%|██████████| 35/35 [00:00<00:00, 2014.14it/s]\n",
      "100%|██████████| 35/35 [00:00<00:00, 1971.38it/s]\n",
      "100%|██████████| 35/35 [00:00<00:00, 1917.58it/s]\n",
      "100%|██████████| 35/35 [00:00<00:00, 1947.99it/s]\n",
      "100%|██████████| 35/35 [00:00<00:00, 2016.38it/s]\n",
      "100%|██████████| 35/35 [00:00<00:00, 1989.98it/s]\n",
      "100%|██████████| 35/35 [00:00<00:00, 2016.22it/s]\n",
      "100%|██████████| 35/35 [00:00<00:00, 1965.20it/s]\n",
      "100%|██████████| 35/35 [00:00<00:00, 1975.84it/s]\n",
      "100%|██████████| 35/35 [00:00<00:00, 1948.87it/s]\n",
      "100%|██████████| 35/35 [00:00<00:00, 1949.18it/s]\n",
      "100%|██████████| 35/35 [00:00<00:00, 1989.87it/s]\n",
      "100%|██████████| 35/35 [00:00<00:00, 1964.76it/s]\n",
      "100%|██████████| 35/35 [00:00<00:00, 2004.82it/s]\n",
      "100%|██████████| 35/35 [00:00<00:00, 2021.24it/s]\n",
      "100%|██████████| 35/35 [00:00<00:00, 2023.80it/s]\n",
      "100%|██████████| 35/35 [00:00<00:00, 1999.11it/s]\n",
      "100%|██████████| 35/35 [00:00<00:00, 1997.97it/s]\n",
      "100%|██████████| 35/35 [00:00<00:00, 2019.04it/s]\n",
      "100%|██████████| 35/35 [00:00<00:00, 2020.32it/s]\n",
      "100%|██████████| 35/35 [00:00<00:00, 2000.80it/s]\n",
      "100%|██████████| 35/35 [00:00<00:00, 2041.65it/s]\n",
      "100%|██████████| 35/35 [00:00<00:00, 1977.43it/s]\n",
      "100%|██████████| 35/35 [00:00<00:00, 1988.41it/s]\n",
      "100%|██████████| 35/35 [00:00<00:00, 1952.58it/s]\n",
      "100%|██████████| 35/35 [00:00<00:00, 1983.47it/s]\n",
      "100%|██████████| 35/35 [00:00<00:00, 1925.20it/s]\n",
      "100%|██████████| 35/35 [00:00<00:00, 1839.95it/s]\n",
      "100%|██████████| 35/35 [00:00<00:00, 2027.47it/s]"
     ]
    },
    {
     "name": "stdout",
     "output_type": "stream",
     "text": [
      "19.6 ms ± 416 µs per loop (mean ± std. dev. of 7 runs, 10 loops each)\n"
     ]
    },
    {
     "name": "stderr",
     "output_type": "stream",
     "text": [
      "\n"
     ]
    }
   ],
   "source": [
    "%%timeit\n",
    "preprocess.blockwise_segregating_sites(blocks, callset, samples=sample_map)"
   ]
  },
  {
   "cell_type": "code",
   "execution_count": 20,
   "metadata": {},
   "outputs": [
    {
     "data": {
      "text/plain": [
       "dtype('int64')"
      ]
     },
     "execution_count": 20,
     "metadata": {},
     "output_type": "execute_result"
    }
   ],
   "source": [
    "block_start_idxs.dtype"
   ]
  },
  {
   "cell_type": "code",
   "execution_count": null,
   "metadata": {},
   "outputs": [],
   "source": []
  }
 ],
 "metadata": {
  "kernelspec": {
   "display_name": "dismal",
   "language": "python",
   "name": "python3"
  },
  "language_info": {
   "codemirror_mode": {
    "name": "ipython",
    "version": 3
   },
   "file_extension": ".py",
   "mimetype": "text/x-python",
   "name": "python",
   "nbconvert_exporter": "python",
   "pygments_lexer": "ipython3",
   "version": "3.11.3"
  },
  "orig_nbformat": 4
 },
 "nbformat": 4,
 "nbformat_minor": 2
}
