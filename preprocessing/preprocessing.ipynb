{
 "cells": [
  {
   "cell_type": "code",
   "execution_count": 1,
   "metadata": {},
   "outputs": [],
   "source": [
    "import pandas as pd\n",
    "import numpy as np\n",
    "import random\n",
    "import allel\n",
    "import zarr\n",
    "import itertools\n",
    "import requests\n",
    "import os"
   ]
  },
  {
   "cell_type": "code",
   "execution_count": 2,
   "metadata": {},
   "outputs": [
    {
     "name": "stdout",
     "output_type": "stream",
     "text": [
      "Obtaining file:///Users/s2341012/Dropbox/DISMaL_chapter/DISMaL\n",
      "  Preparing metadata (setup.py) ... \u001b[?25ldone\n",
      "\u001b[?25hInstalling collected packages: dismal\n",
      "  Attempting uninstall: dismal\n",
      "    Found existing installation: dismal 0.1\n",
      "    Uninstalling dismal-0.1:\n",
      "      Successfully uninstalled dismal-0.1\n",
      "  Running setup.py develop for dismal\n",
      "Successfully installed dismal-0.1\n"
     ]
    }
   ],
   "source": [
    "! pip install -e .."
   ]
  },
  {
   "cell_type": "code",
   "execution_count": 3,
   "metadata": {},
   "outputs": [],
   "source": [
    "from dismal import preprocess"
   ]
  },
  {
   "cell_type": "code",
   "execution_count": 4,
   "metadata": {},
   "outputs": [],
   "source": [
    "gff3 = \"../test_data/brenthis_head1000.gff3\"\n",
    "vcf = \"../test_data/brenthis_500K.vcf.gz\"\n",
    "zarrstore = \"../test_data/zarrstore/\"\n",
    "callset = preprocess.CallSet(vcf, zarrstore)\n",
    "samples_map = \"../test_data/samples_map.csv\""
   ]
  },
  {
   "cell_type": "code",
   "execution_count": 5,
   "metadata": {},
   "outputs": [],
   "source": [
    "blocks = preprocess.gff3_to_blocks(gff3, blocklen=100, ld_dist_bp=10_000)"
   ]
  },
  {
   "cell_type": "code",
   "execution_count": 6,
   "metadata": {},
   "outputs": [],
   "source": [
    "callset = preprocess.CallSet(zarr_path=\"../test_data/zarrstore/\")"
   ]
  },
  {
   "cell_type": "code",
   "execution_count": 19,
   "metadata": {},
   "outputs": [],
   "source": [
    "snps_idxs = np.where((callset.pos >= 67286) & (callset.pos <= 67386))"
   ]
  },
  {
   "cell_type": "code",
   "execution_count": 99,
   "metadata": {},
   "outputs": [],
   "source": [
    "test_gt = callset.gt[snps_idxs]"
   ]
  },
  {
   "cell_type": "code",
   "execution_count": 21,
   "metadata": {},
   "outputs": [],
   "source": [
    "def block_genotype_array(callset, start, end):\n",
    "\n",
    "    snps_idxs = np.where((callset.pos >= start) & (callset.pos <= end))\n",
    "    return callset.gt[snps_idxs]\n"
   ]
  },
  {
   "cell_type": "code",
   "execution_count": 160,
   "metadata": {},
   "outputs": [],
   "source": [
    "callset_samples = pd.DataFrame(callset.samples)\n",
    "callset_samples = callset_samples.reset_index()\n",
    "callset_samples.columns = [\"callset_idx\", \"sample\"]"
   ]
  },
  {
   "cell_type": "code",
   "execution_count": 161,
   "metadata": {},
   "outputs": [
    {
     "data": {
      "text/html": [
       "<div>\n",
       "<style scoped>\n",
       "    .dataframe tbody tr th:only-of-type {\n",
       "        vertical-align: middle;\n",
       "    }\n",
       "\n",
       "    .dataframe tbody tr th {\n",
       "        vertical-align: top;\n",
       "    }\n",
       "\n",
       "    .dataframe thead th {\n",
       "        text-align: right;\n",
       "    }\n",
       "</style>\n",
       "<table border=\"1\" class=\"dataframe\">\n",
       "  <thead>\n",
       "    <tr style=\"text-align: right;\">\n",
       "      <th></th>\n",
       "      <th>sample</th>\n",
       "      <th>population</th>\n",
       "      <th>callset_idx</th>\n",
       "    </tr>\n",
       "  </thead>\n",
       "  <tbody>\n",
       "    <tr>\n",
       "      <th>0</th>\n",
       "      <td>SE_BI_1495</td>\n",
       "      <td>BI</td>\n",
       "      <td>0</td>\n",
       "    </tr>\n",
       "    <tr>\n",
       "      <th>1</th>\n",
       "      <td>FR_BI_1497</td>\n",
       "      <td>BI</td>\n",
       "      <td>1</td>\n",
       "    </tr>\n",
       "    <tr>\n",
       "      <th>2</th>\n",
       "      <td>FR_BD_1329</td>\n",
       "      <td>BD</td>\n",
       "      <td>2</td>\n",
       "    </tr>\n",
       "    <tr>\n",
       "      <th>3</th>\n",
       "      <td>RS_BI_1496</td>\n",
       "      <td>BI</td>\n",
       "      <td>3</td>\n",
       "    </tr>\n",
       "    <tr>\n",
       "      <th>4</th>\n",
       "      <td>RO_BD_956</td>\n",
       "      <td>BD</td>\n",
       "      <td>4</td>\n",
       "    </tr>\n",
       "    <tr>\n",
       "      <th>5</th>\n",
       "      <td>ES_BI_375</td>\n",
       "      <td>BI</td>\n",
       "      <td>5</td>\n",
       "    </tr>\n",
       "    <tr>\n",
       "      <th>6</th>\n",
       "      <td>UA_BI_1494</td>\n",
       "      <td>BI</td>\n",
       "      <td>6</td>\n",
       "    </tr>\n",
       "    <tr>\n",
       "      <th>7</th>\n",
       "      <td>ES_BD_1141</td>\n",
       "      <td>BD</td>\n",
       "      <td>7</td>\n",
       "    </tr>\n",
       "    <tr>\n",
       "      <th>8</th>\n",
       "      <td>ES_BI_364</td>\n",
       "      <td>BI</td>\n",
       "      <td>8</td>\n",
       "    </tr>\n",
       "    <tr>\n",
       "      <th>9</th>\n",
       "      <td>ES_BD_1489</td>\n",
       "      <td>BD</td>\n",
       "      <td>9</td>\n",
       "    </tr>\n",
       "    <tr>\n",
       "      <th>10</th>\n",
       "      <td>ES_BD_1490</td>\n",
       "      <td>BD</td>\n",
       "      <td>10</td>\n",
       "    </tr>\n",
       "    <tr>\n",
       "      <th>11</th>\n",
       "      <td>GR_BD_1491</td>\n",
       "      <td>BD</td>\n",
       "      <td>11</td>\n",
       "    </tr>\n",
       "    <tr>\n",
       "      <th>12</th>\n",
       "      <td>IT_BD_1493</td>\n",
       "      <td>BD</td>\n",
       "      <td>12</td>\n",
       "    </tr>\n",
       "  </tbody>\n",
       "</table>\n",
       "</div>"
      ],
      "text/plain": [
       "        sample population  callset_idx\n",
       "0   SE_BI_1495         BI            0\n",
       "1   FR_BI_1497         BI            1\n",
       "2   FR_BD_1329         BD            2\n",
       "3   RS_BI_1496         BI            3\n",
       "4    RO_BD_956         BD            4\n",
       "5    ES_BI_375         BI            5\n",
       "6   UA_BI_1494         BI            6\n",
       "7   ES_BD_1141         BD            7\n",
       "8    ES_BI_364         BI            8\n",
       "9   ES_BD_1489         BD            9\n",
       "10  ES_BD_1490         BD           10\n",
       "11  GR_BD_1491         BD           11\n",
       "12  IT_BD_1493         BD           12"
      ]
     },
     "execution_count": 161,
     "metadata": {},
     "output_type": "execute_result"
    }
   ],
   "source": [
    "samples.merge(callset_samples, on='sample')"
   ]
  },
  {
   "cell_type": "code",
   "execution_count": 37,
   "metadata": {},
   "outputs": [],
   "source": [
    "samples = pd.read_csv(samples_map)\n",
    "samples_from_map = np.array(samples[\"sample\"])"
   ]
  },
  {
   "cell_type": "code",
   "execution_count": 180,
   "metadata": {},
   "outputs": [
    {
     "data": {
      "text/plain": [
       "['BI', 'BI', 'BD', 'BI', 'BD', 'BI', 'BI', 'BD', 'BI', 'BD', 'BD', 'BD', 'BD']"
      ]
     },
     "execution_count": 180,
     "metadata": {},
     "output_type": "execute_result"
    }
   ],
   "source": [
    "list(samples.set_index(\"sample\").loc[callset.samples, :][\"population\"])"
   ]
  },
  {
   "cell_type": "code",
   "execution_count": 187,
   "metadata": {},
   "outputs": [],
   "source": [
    "pop_names = [\"BI\", \"BD\"]\n",
    "pop_idx = [np.where(np.array(samples.set_index(\"sample\").loc[callset.samples, :][\"population\"]) == pop_name) for pop_name in pop_names]"
   ]
  },
  {
   "cell_type": "code",
   "execution_count": 188,
   "metadata": {},
   "outputs": [
    {
     "data": {
      "text/plain": [
       "[(array([0, 1, 3, 5, 6, 8]),), (array([ 2,  4,  7,  9, 10, 11, 12]),)]"
      ]
     },
     "execution_count": 188,
     "metadata": {},
     "output_type": "execute_result"
    }
   ],
   "source": [
    "pop_idx"
   ]
  },
  {
   "cell_type": "code",
   "execution_count": 42,
   "metadata": {},
   "outputs": [],
   "source": [
    "pops_idxs = [samples[samples[\"population\"] == pop].index for pop in [\"BI\", \"BD\"]]"
   ]
  },
  {
   "cell_type": "code",
   "execution_count": 47,
   "metadata": {},
   "outputs": [
    {
     "data": {
      "text/plain": [
       "[Int64Index([0, 1, 3, 5, 6, 8], dtype='int64'),\n",
       " Int64Index([2, 4, 7, 9, 10, 11, 12], dtype='int64')]"
      ]
     },
     "execution_count": 47,
     "metadata": {},
     "output_type": "execute_result"
    }
   ],
   "source": [
    "pops_idxs"
   ]
  },
  {
   "cell_type": "code",
   "execution_count": 77,
   "metadata": {},
   "outputs": [],
   "source": [
    "block_gt_arr = block_genotype_array(callset, 100_000, 100_100)\n",
    "state = 1\n",
    "samples = pd.read_csv(samples_map)\n",
    "pops = list(samples[\"population\"])\n",
    "\n",
    "def subset_block_for_state(block_gt_arr, state, pops_idxs):\n",
    "    \"\"\"Subset a block to give a gt array of population 1 (state 1), population 2 (state 2), or one array of each (state 3)\"\"\"\n",
    "    \n",
    "    if state == 1 or state == 2:\n",
    "        return (block_gt_arr[:, pops_idxs[state-1]], )\n",
    "    else:\n",
    "        assert state == 3\n",
    "        return (block_gt_arr[:, pops_idxs[0]], block_gt_arr[:, pops_idxs[1]])\n"
   ]
  },
  {
   "cell_type": "code",
   "execution_count": 108,
   "metadata": {},
   "outputs": [],
   "source": [
    "indx_nonmissing = [np.where([(block_gt_arr[:, i] >= 0).all() for i in range(len(block_gt_arr[0]))])][0]"
   ]
  },
  {
   "cell_type": "code",
   "execution_count": 109,
   "metadata": {},
   "outputs": [
    {
     "data": {
      "text/plain": [
       "(array([ 0,  1,  2,  3,  4,  5,  6,  7,  8,  9, 10, 11, 12]),)"
      ]
     },
     "execution_count": 109,
     "metadata": {},
     "output_type": "execute_result"
    }
   ],
   "source": [
    "indx_nonmissing"
   ]
  },
  {
   "cell_type": "code",
   "execution_count": 195,
   "metadata": {},
   "outputs": [],
   "source": [
    "def index_individuals_wo_missing_sites(block_gt_arr, pops_idxs):\n",
    "    \"\"\"Return indices of individuals that have no missing sites in a block\"\"\"\n",
    "    idxs_nonmissing = [np.where([(block_gt_arr[:, i] >= 0).all() \n",
    "                                 for i in range(len(block_gt_arr[0]))])]\n",
    "    return idxs_nonmissing[0][0]\n",
    "    "
   ]
  },
  {
   "cell_type": "code",
   "execution_count": 118,
   "metadata": {},
   "outputs": [
    {
     "data": {
      "text/plain": [
       "[4]"
      ]
     },
     "execution_count": 118,
     "metadata": {},
     "output_type": "execute_result"
    }
   ],
   "source": [
    "random.sample(range(0, 9), 1)"
   ]
  },
  {
   "cell_type": "code",
   "execution_count": 114,
   "metadata": {},
   "outputs": [
    {
     "data": {
      "text/plain": [
       "array([-1, -1], dtype=int8)"
      ]
     },
     "execution_count": 114,
     "metadata": {},
     "output_type": "execute_result"
    }
   ],
   "source": [
    "test_gt[0][0]"
   ]
  },
  {
   "cell_type": "code",
   "execution_count": 128,
   "metadata": {},
   "outputs": [
    {
     "data": {
      "text/plain": [
       "[1]"
      ]
     },
     "execution_count": 128,
     "metadata": {},
     "output_type": "execute_result"
    }
   ],
   "source": [
    "random.sample(range(0, len(block_gt_arr[0])), 1)"
   ]
  },
  {
   "cell_type": "code",
   "execution_count": 138,
   "metadata": {},
   "outputs": [],
   "source": [
    "def sample_n_haps(block_gt_arr, n_samples):\n",
    "    \"\"\"Sample n haplotypes from block_gt_arr\"\"\"\n",
    "    \n",
    "    indiv_idx = random.sample(range(0, len(block_gt_arr[0])), n_samples)\n",
    "\n",
    "    ploidy = len(block_gt_arr[0][0])\n",
    "    hap_idx = random.sample(range(0, ploidy), n_samples)\n",
    "\n",
    "    return block_gt_arr[:, [indiv_idx], hap_idx].transpose()\n"
   ]
  },
  {
   "cell_type": "code",
   "execution_count": 267,
   "metadata": {},
   "outputs": [
    {
     "data": {
      "text/plain": [
       "(array([-1, -1,  1], dtype=int8),\n",
       " array([-1,  0,  1], dtype=int8),\n",
       " array([[-1, -1],\n",
       "        [-1,  0],\n",
       "        [ 1,  1]], dtype=int8))"
      ]
     },
     "execution_count": 267,
     "metadata": {},
     "output_type": "execute_result"
    }
   ],
   "source": [
    "two = test_gt[:, [1, 2], 1]\n",
    "two\n",
    "\n",
    "hap1 = two[:, 0]\n",
    "hap2 = two[:, 1]\n",
    "\n",
    "hap1, hap2, two"
   ]
  },
  {
   "cell_type": "code",
   "execution_count": 152,
   "metadata": {},
   "outputs": [],
   "source": [
    "def n_segr_sites(arr):\n",
    "    return np.sum(arr[:, 0] != arr[:, 1])\n",
    "\n"
   ]
  },
  {
   "cell_type": "code",
   "execution_count": 206,
   "metadata": {},
   "outputs": [
    {
     "data": {
      "text/plain": [
       "array([ 6,  7,  8,  9, 11])"
      ]
     },
     "execution_count": 206,
     "metadata": {},
     "output_type": "execute_result"
    }
   ],
   "source": [
    "index_individuals_wo_missing_sites(test_gt, pop_idx)"
   ]
  },
  {
   "cell_type": "code",
   "execution_count": 207,
   "metadata": {},
   "outputs": [
    {
     "data": {
      "text/plain": [
       "array([ 7,  9, 11])"
      ]
     },
     "execution_count": 207,
     "metadata": {},
     "output_type": "execute_result"
    }
   ],
   "source": [
    "np.intersect1d(pops_idxs[1], index_individuals_wo_missing_sites(test_gt, pop_idx))"
   ]
  },
  {
   "cell_type": "code",
   "execution_count": 289,
   "metadata": {},
   "outputs": [],
   "source": [
    "def blockwise_segregating_sites(blocks, callset, samples, sampling_probs):\n",
    "\n",
    "    pops_names = [samples[\"population\"][i] for i in range(len(samples[\"population\"].unique()))]\n",
    "    assert len(pop_names) == 2\n",
    "    pops_idxs = [np.where(np.array(samples.set_index(\"sample\").loc[callset.samples, :][\"population\"]) == pop_name) for pop_name in pops_names]\n",
    "\n",
    "    rng = np.random.default_rng()\n",
    "    \n",
    "    for block_idx in range(len(blocks)):\n",
    "\n",
    "        block_state = np.where(rng.multinomial(n=1, pvals=sampling_probs))[0][0] + 1\n",
    "\n",
    "        block_start, block_end = blocks.loc[block_idx, \"start\"], blocks.loc[block_idx, \"end\"]\n",
    "        block_gt_arr = block_genotype_array(callset, block_start, block_end)\n",
    "\n",
    "        indivs_wo_missing_sites = index_individuals_wo_missing_sites(block_gt_arr, pops_idxs)\n",
    "        pop1_nomissing = np.intersect1d(pops_idxs[0], indivs_wo_missing_sites)\n",
    "        pop2_nomissing = np.intersect1d(pops_idxs[1], indivs_wo_missing_sites)\n",
    "\n",
    "        if block_state == 1:\n",
    "            if len(pop1_nomissing) < 2:\n",
    "                continue\n",
    "            else:\n",
    "                samples_idx = rng.choice(pop1_nomissing, 2)\n",
    "        elif block_state == 2:\n",
    "            if len(pop2_nomissing) < 2:\n",
    "                continue\n",
    "            else:\n",
    "                samples_idx = rng.choice(pop1_nomissing, 2)\n",
    "        else:\n",
    "            assert block_state == 3\n",
    "            if len(pop1_nomissing) == 0 or len(pop2_nomissing) == 0:\n",
    "                continue\n",
    "            else:\n",
    "                samples_idx = np.array([rng.choice(pop1_nomissing, 2), rng.choice(pop1_nomissing, 2)])\n",
    "\n",
    "        ploidy = len(block_gt_arr[0][0])\n",
    "        haplotype_idx = random.choice(range(0, ploidy))\n",
    "        print(samples_idx, haplotype_idx)\n",
    "        sample_genotypes = block_gt_arr[:, [samples_idx], haplotype_idx]\n",
    "\n",
    "        return sample_genotypes\n"
   ]
  },
  {
   "cell_type": "code",
   "execution_count": 290,
   "metadata": {},
   "outputs": [
    {
     "name": "stdout",
     "output_type": "stream",
     "text": [
      "[[6 6]\n",
      " [6 8]] 0\n"
     ]
    },
    {
     "data": {
      "text/plain": [
       "array([[[0, 0]],\n",
       "\n",
       "       [[0, 0]],\n",
       "\n",
       "       [[1, 1]]], dtype=int8)"
      ]
     },
     "execution_count": 290,
     "metadata": {},
     "output_type": "execute_result"
    }
   ],
   "source": [
    "blockwise_segregating_sites(blocks, callset, samples=samples, sampling_probs=[0.5, 0.25, 0.25])[:, :, 0]"
   ]
  },
  {
   "cell_type": "code",
   "execution_count": 243,
   "metadata": {},
   "outputs": [
    {
     "data": {
      "text/plain": [
       "array([0, 1, 3, 5, 6, 8])"
      ]
     },
     "execution_count": 243,
     "metadata": {},
     "output_type": "execute_result"
    }
   ],
   "source": [
    "\n",
    "indivs_wo_missing_sites = index_individuals_wo_missing_sites(block_gt_arr, pops_idxs)\n",
    "np.intersect1d(pops_idxs[0], indivs_wo_missing_sites)"
   ]
  },
  {
   "cell_type": "code",
   "execution_count": 250,
   "metadata": {},
   "outputs": [
    {
     "data": {
      "text/plain": [
       "array([5, 1])"
      ]
     },
     "execution_count": 250,
     "metadata": {},
     "output_type": "execute_result"
    }
   ],
   "source": [
    "rng.choice(np.intersect1d(pops_idxs[0], indivs_wo_missing_sites), 2)"
   ]
  }
 ],
 "metadata": {
  "kernelspec": {
   "display_name": "dismal",
   "language": "python",
   "name": "python3"
  },
  "language_info": {
   "codemirror_mode": {
    "name": "ipython",
    "version": 3
   },
   "file_extension": ".py",
   "mimetype": "text/x-python",
   "name": "python",
   "nbconvert_exporter": "python",
   "pygments_lexer": "ipython3",
   "version": "3.11.3"
  },
  "orig_nbformat": 4
 },
 "nbformat": 4,
 "nbformat_minor": 2
}
