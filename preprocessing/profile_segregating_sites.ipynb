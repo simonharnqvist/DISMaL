{
 "cells": [
  {
   "cell_type": "code",
   "execution_count": 1,
   "metadata": {},
   "outputs": [],
   "source": [
    "import cProfile\n",
    "from dismal import preprocess, segregating_sites\n",
    "import pandas as pd\n",
    "import numpy as np"
   ]
  },
  {
   "cell_type": "code",
   "execution_count": 2,
   "metadata": {},
   "outputs": [],
   "source": [
    "callset = preprocess.CallSet(\"../test_data/brenthis_500K.vcf.gz\", \"../test_data/vcf.npz\")\n",
    "blocks = preprocess.gff3_to_blocks(\"../test_data/brenthis_head1000.gff3\", blocklen=100, min_block_distance=10_000, parquet_path=\"../test_data/blocks.parquet.gz\")\n",
    "sample_map = pd.read_csv(\"../test_data/samples_map.csv\")\n",
    "\n",
    "numeric_chromosomes = preprocess.convert_chromosome_names_to_index(callset.chromosomes)\n",
    "block_start_idxs = np.array(blocks[\"start\"])\n",
    "\n",
    "callset_indexing = pd.DataFrame({\"sample\": callset.samples, \"idx\": [i for i in range(0, len(callset.samples))]})\n",
    "pops = sample_map.merge(callset_indexing, on=\"sample\")[\"population\"]\n",
    "\n",
    "pop1_idx = np.where(pops == \"BI\")[0]\n",
    "pop2_idx = np.where(pops == \"BD\")[0]"
   ]
  },
  {
   "cell_type": "code",
   "execution_count": 3,
   "metadata": {},
   "outputs": [
    {
     "ename": "TypeError",
     "evalue": "Cannot convert tuple to numpy.ndarray",
     "output_type": "error",
     "traceback": [
      "\u001b[0;31m---------------------------------------------------------------------------\u001b[0m",
      "\u001b[0;31mTypeError\u001b[0m                                 Traceback (most recent call last)",
      "Cell \u001b[0;32mIn[3], line 1\u001b[0m\n\u001b[0;32m----> 1\u001b[0m segregating_sites\u001b[39m.\u001b[39mblock_gt(callset\u001b[39m.\u001b[39mgt, callset\u001b[39m.\u001b[39mpos, \u001b[39m100_000\u001b[39m, \u001b[39m100\u001b[39m, \u001b[39m0\u001b[39m, numeric_chromosomes)\n",
      "File \u001b[0;32m~/Library/CloudStorage/Dropbox/DISMaL_chapter/DISMaL/dismal/segregating_sites.pyx:13\u001b[0m, in \u001b[0;36mdismal.segregating_sites.block_gt\u001b[0;34m()\u001b[0m\n",
      "File \u001b[0;32m~/Library/CloudStorage/Dropbox/DISMaL_chapter/DISMaL/dismal/segregating_sites.pyx:22\u001b[0m, in \u001b[0;36mdismal.segregating_sites.block_gt\u001b[0;34m()\u001b[0m\n",
      "\u001b[0;31mTypeError\u001b[0m: Cannot convert tuple to numpy.ndarray"
     ]
    }
   ],
   "source": [
    "segregating_sites.block_gt(callset.gt, callset.pos, 100_000, 100, 0, numeric_chromosomes)"
   ]
  },
  {
   "cell_type": "code",
   "execution_count": 4,
   "metadata": {},
   "outputs": [
    {
     "ename": "IndexError",
     "evalue": "Index out of bounds (axis 0)",
     "output_type": "error",
     "traceback": [
      "\u001b[0;31m---------------------------------------------------------------------------\u001b[0m",
      "\u001b[0;31mIndexError\u001b[0m                                Traceback (most recent call last)",
      "Cell \u001b[0;32mIn[4], line 1\u001b[0m\n\u001b[0;32m----> 1\u001b[0m segregating_sites\u001b[39m.\u001b[39mblock_gt2(callset\u001b[39m.\u001b[39mgt\u001b[39m.\u001b[39mastype(\u001b[39m\"\u001b[39m\u001b[39mint64\u001b[39m\u001b[39m\"\u001b[39m), callset\u001b[39m.\u001b[39mpos\u001b[39m.\u001b[39mastype(\u001b[39m\"\u001b[39m\u001b[39mint64\u001b[39m\u001b[39m\"\u001b[39m), \u001b[39m100_000\u001b[39m, \u001b[39m100\u001b[39m, \u001b[39m0\u001b[39m, numeric_chromosomes\u001b[39m.\u001b[39mastype(\u001b[39m\"\u001b[39m\u001b[39mint64\u001b[39m\u001b[39m\"\u001b[39m))\n",
      "File \u001b[0;32m~/Library/CloudStorage/Dropbox/DISMaL_chapter/DISMaL/dismal/segregating_sites.pyx:27\u001b[0m, in \u001b[0;36mdismal.segregating_sites.block_gt2\u001b[0;34m()\u001b[0m\n",
      "File \u001b[0;32m~/Library/CloudStorage/Dropbox/DISMaL_chapter/DISMaL/dismal/segregating_sites.pyx:47\u001b[0m, in \u001b[0;36mdismal.segregating_sites.block_gt2\u001b[0;34m()\u001b[0m\n",
      "\u001b[0;31mIndexError\u001b[0m: Index out of bounds (axis 0)"
     ]
    }
   ],
   "source": [
    "segregating_sites.block_gt2(callset.gt.astype(\"int64\"), callset.pos.astype(\"int64\"), 100_000, 100, 0, numeric_chromosomes.astype(\"int64\"))"
   ]
  },
  {
   "cell_type": "code",
   "execution_count": null,
   "metadata": {},
   "outputs": [],
   "source": []
  }
 ],
 "metadata": {
  "kernelspec": {
   "display_name": "dismal",
   "language": "python",
   "name": "python3"
  },
  "language_info": {
   "codemirror_mode": {
    "name": "ipython",
    "version": 3
   },
   "file_extension": ".py",
   "mimetype": "text/x-python",
   "name": "python",
   "nbconvert_exporter": "python",
   "pygments_lexer": "ipython3",
   "version": "3.11.3"
  },
  "orig_nbformat": 4
 },
 "nbformat": 4,
 "nbformat_minor": 2
}
